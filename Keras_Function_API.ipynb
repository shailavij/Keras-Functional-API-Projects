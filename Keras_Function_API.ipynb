{
  "nbformat": 4,
  "nbformat_minor": 0,
  "metadata": {
    "kernelspec": {
      "display_name": "Python 3",
      "language": "python",
      "name": "python3"
    },
    "language_info": {
      "codemirror_mode": {
        "name": "ipython",
        "version": 3
      },
      "file_extension": ".py",
      "mimetype": "text/x-python",
      "name": "python",
      "nbconvert_exporter": "python",
      "pygments_lexer": "ipython3",
      "version": "3.7.1"
    },
    "colab": {
      "name": "Keras_Function_API.ipynb",
      "provenance": [],
      "collapsed_sections": [
        "gZ615uKaKUUv",
        "yclV6KiFKUU3"
      ],
      "include_colab_link": true
    },
    "accelerator": "GPU"
  },
  "cells": [
    {
      "cell_type": "markdown",
      "metadata": {
        "id": "view-in-github",
        "colab_type": "text"
      },
      "source": [
        "<a href=\"https://colab.research.google.com/github/shailavij/Keras-Functional-API-Projects/blob/master/Keras_Function_API.ipynb\" target=\"_parent\"><img src=\"https://colab.research.google.com/assets/colab-badge.svg\" alt=\"Open In Colab\"/></a>"
      ]
    },
    {
      "cell_type": "code",
      "metadata": {
        "scrolled": false,
        "id": "teOpfw0hKUQh",
        "colab_type": "code",
        "outputId": "51e61167-72cf-427c-d7ba-c84c048cc9b7",
        "colab": {
          "base_uri": "https://localhost:8080/",
          "height": 52
        }
      },
      "source": [
        "%tensorflow_version 1.x\n",
        "import tensorflow as tf\n",
        "print(tf.__version__)"
      ],
      "execution_count": 0,
      "outputs": [
        {
          "output_type": "stream",
          "text": [
            "TensorFlow 1.x selected.\n",
            "1.15.2\n"
          ],
          "name": "stdout"
        }
      ]
    },
    {
      "cell_type": "markdown",
      "metadata": {
        "id": "2U6iIpalKUQr",
        "colab_type": "text"
      },
      "source": [
        "# The Keras functional API"
      ]
    },
    {
      "cell_type": "markdown",
      "metadata": {
        "id": "jIoR--DrKUQs",
        "colab_type": "text"
      },
      "source": [
        " ## Coding tutorials\n",
        " #### [1. Multiple inputs and outputs](#coding_tutorial_1)\n",
        " #### [2. Tensors and Variables](#coding_tutorial_2)\n",
        " #### [3. Accessing model layers](#coding_tutorial_3)\n",
        " #### [4. Freezing layers](#coding_tutorial_4)"
      ]
    },
    {
      "cell_type": "markdown",
      "metadata": {
        "id": "qhZ0R9arKUQt",
        "colab_type": "text"
      },
      "source": [
        "***\n",
        "<a id=\"coding_tutorial_1\"></a>\n",
        "## Multiple inputs and 2 out\n",
        "\n",
        "With multiple feature, preducting 2 output"
      ]
    },
    {
      "cell_type": "code",
      "metadata": {
        "scrolled": false,
        "id": "Atjv7GqMKUQu",
        "colab_type": "code",
        "colab": {}
      },
      "source": [
        "import numpy as np\n",
        "import pandas as pd\n",
        "import matplotlib.pyplot as plt\n",
        "%matplotlib inline"
      ],
      "execution_count": 0,
      "outputs": []
    },
    {
      "cell_type": "markdown",
      "metadata": {
        "id": "CCNmLCsKKUQy",
        "colab_type": "text"
      },
      "source": [
        "#### Load the acute inflammations dataset\n",
        "\n",
        "The `acute inflammations` was created by a medical expert as a data set to test the expert system, which will perform the presumptive diagnosis of two diseases of the urinary system. You can find out more about the dataset [here](https://archive.ics.uci.edu/ml/datasets/Acute+Inflammations).\n",
        "\n",
        "Attribute information:\n",
        "\n",
        "Inputs:\n",
        "- Temperature of patient : 35C-42C\n",
        "- Occurrence of nausea : yes/no\n",
        "- Lumbar pain : yes/no\n",
        "- Urine pushing (continuous need for urination) : yes/no\n",
        "- Micturition pains : yes/no\n",
        "- Burning of urethra, itch, swelling of urethra outlet : yes/no\n",
        "\n",
        "Outputs:\n",
        "- decision 1: Inflammation of urinary bladder : yes/no\n",
        "- decision 2: Nephritis of renal pelvis origin : yes/no"
      ]
    },
    {
      "cell_type": "markdown",
      "metadata": {
        "id": "BsE7ATcyKV7E",
        "colab_type": "text"
      },
      "source": [
        "#### Import the data\n",
        "\n",
        "The dataset required for this tutorial can be downloaded from the following link:\n",
        "\n",
        "https://drive.google.com/open?id=1CDPQSqpI7OjNIgOERWaI-BlQMI6vjzb9\n",
        "\n",
        "You should store this file in Drive for use in this Colab notebook."
      ]
    },
    {
      "cell_type": "markdown",
      "metadata": {
        "id": "mldOoZD-KUQ0",
        "colab_type": "text"
      },
      "source": [
        "#### Load the data"
      ]
    },
    {
      "cell_type": "code",
      "metadata": {
        "id": "OxhA5dllEMBI",
        "colab_type": "code",
        "outputId": "71593112-c772-4ad1-8e75-d37002fb13ea",
        "colab": {
          "base_uri": "https://localhost:8080/",
          "height": 70
        }
      },
      "source": [
        "from keras.layers import Conv1D, Input, Dense\n",
        "from keras.models import Model\n",
        "\n",
        "IP=Input(shape=(10,1))\n",
        "h= Conv1D(3,5,activation='relu')(IP)\n",
        "out=Dense(1, activation='sigmoid')(h)\n",
        "model = Model (IP,out)\n",
        "\n",
        "print(model.layers[2].weights)\n",
        "print(model.layers[1].input)\n",
        "print(model.layers[1].output)"
      ],
      "execution_count": 0,
      "outputs": [
        {
          "output_type": "stream",
          "text": [
            "[<tf.Variable 'dense_20/kernel:0' shape=(3, 1) dtype=float32>, <tf.Variable 'dense_20/bias:0' shape=(1,) dtype=float32>]\n",
            "Tensor(\"input_23:0\", shape=(?, 10, 1), dtype=float32)\n",
            "Tensor(\"conv1d_23/Relu:0\", shape=(?, 6, 3), dtype=float32)\n"
          ],
          "name": "stdout"
        }
      ]
    },
    {
      "cell_type": "code",
      "metadata": {
        "id": "uM2ETK5qKXDq",
        "colab_type": "code",
        "outputId": "6a259a67-8224-44b8-f668-0a8e22922989",
        "colab": {
          "base_uri": "https://localhost:8080/",
          "height": 125
        }
      },
      "source": [
        "# Run this cell to connect to your Drive folder\n",
        "\n",
        "from google.colab import drive\n",
        "drive.mount('/content/drive', force_remount=True)"
      ],
      "execution_count": 0,
      "outputs": [
        {
          "output_type": "stream",
          "text": [
            "Go to this URL in a browser: https://accounts.google.com/o/oauth2/auth?client_id=947318989803-6bn6qk8qdgf4n4g3pfee6491hc0brc4i.apps.googleusercontent.com&redirect_uri=urn%3aietf%3awg%3aoauth%3a2.0%3aoob&response_type=code&scope=email%20https%3a%2f%2fwww.googleapis.com%2fauth%2fdocs.test%20https%3a%2f%2fwww.googleapis.com%2fauth%2fdrive%20https%3a%2f%2fwww.googleapis.com%2fauth%2fdrive.photos.readonly%20https%3a%2f%2fwww.googleapis.com%2fauth%2fpeopleapi.readonly\n",
            "\n",
            "Enter your authorization code:\n",
            "··········\n",
            "Mounted at /content/drive\n"
          ],
          "name": "stdout"
        }
      ]
    },
    {
      "cell_type": "code",
      "metadata": {
        "id": "rbgqYkjMsqxL",
        "colab_type": "code",
        "outputId": "85464ced-7dfd-4587-f472-cba675c5921c",
        "colab": {
          "base_uri": "https://localhost:8080/",
          "height": 34
        }
      },
      "source": [
        "!pwd"
      ],
      "execution_count": 0,
      "outputs": [
        {
          "output_type": "stream",
          "text": [
            "/content\n"
          ],
          "name": "stdout"
        }
      ]
    },
    {
      "cell_type": "code",
      "metadata": {
        "id": "rVeWUeI5sqtK",
        "colab_type": "code",
        "outputId": "c693cb29-7e95-4a72-fdda-e8db26c10fbd",
        "colab": {
          "base_uri": "https://localhost:8080/",
          "height": 34
        }
      },
      "source": [
        "%cd /content/drive/My Drive/DL_DATASet/VQA/Preprocessed Data/"
      ],
      "execution_count": 0,
      "outputs": [
        {
          "output_type": "stream",
          "text": [
            "/content/drive/My Drive/DL_DATASet/VQA/Preprocessed Data\n"
          ],
          "name": "stdout"
        }
      ]
    },
    {
      "cell_type": "code",
      "metadata": {
        "id": "i5eT-oSgt40-",
        "colab_type": "code",
        "outputId": "eae6fd55-40ea-4462-d139-971c577e6711",
        "colab": {
          "base_uri": "https://localhost:8080/",
          "height": 34
        }
      },
      "source": [
        "!pwd"
      ],
      "execution_count": 0,
      "outputs": [
        {
          "output_type": "stream",
          "text": [
            "/content\n"
          ],
          "name": "stdout"
        }
      ]
    },
    {
      "cell_type": "code",
      "metadata": {
        "id": "k12ZzhoTs20q",
        "colab_type": "code",
        "colab": {}
      },
      "source": [
        "from google.colab import drive\n",
        "drive.mount('/content/drive')"
      ],
      "execution_count": 0,
      "outputs": []
    },
    {
      "cell_type": "code",
      "metadata": {
        "scrolled": false,
        "id": "__6I4CYqKUQ1",
        "colab_type": "code",
        "outputId": "bdf03751-1da8-47ea-fa7b-60dc4bb8bdff",
        "colab": {
          "base_uri": "https://localhost:8080/",
          "height": 34
        }
      },
      "source": [
        "# Load the dataset\n",
        "\n",
        "from sklearn.model_selection import train_test_split\n",
        "\n",
        "df = pd.read_csv('diagnosis.csv')\n",
        "dataset = df.values\n",
        "df.head(10)\n",
        "df.shape"
      ],
      "execution_count": 0,
      "outputs": [
        {
          "output_type": "execute_result",
          "data": {
            "text/plain": [
              "(120, 8)"
            ]
          },
          "metadata": {
            "tags": []
          },
          "execution_count": 5
        }
      ]
    },
    {
      "cell_type": "code",
      "metadata": {
        "scrolled": false,
        "id": "-wVA5JI8KUQ5",
        "colab_type": "code",
        "outputId": "85c7813e-a9dd-4eef-d507-6ddd9ef20c19",
        "colab": {
          "base_uri": "https://localhost:8080/",
          "height": 87
        }
      },
      "source": [
        "# Build train and test data splits\n",
        "\n",
        "X_train, X_test, Y_train, Y_test = train_test_split(dataset[:,:6], dataset[:,6:], test_size=0.33)\n",
        "print(\"X_train\", X_train.shape)\n",
        "print(\"x_test\",X_test.shape)\n",
        "print(\"y_train\", Y_train.shape)\n",
        "print(\"y_test\",Y_test.shape)"
      ],
      "execution_count": 0,
      "outputs": [
        {
          "output_type": "stream",
          "text": [
            "X_train (80, 6)\n",
            "x_test (40, 6)\n",
            "y_train (80, 2)\n",
            "y_test (40, 2)\n"
          ],
          "name": "stdout"
        }
      ]
    },
    {
      "cell_type": "code",
      "metadata": {
        "scrolled": false,
        "id": "K03GPQNZKUQ9",
        "colab_type": "code",
        "colab": {}
      },
      "source": [
        "# Assign training and testing inputs/outputs to variables\n",
        "\n",
        "temp_train, nocc_train, lumbp_train, up_train, mict_train, bis_train = np.transpose(X_train)\n",
        "temp_test, nocc_test, lumbp_test, up_test, mict_test, bis_test = np.transpose(X_test)\n",
        "\n",
        "inflam_train, nephr_train = Y_train[:, 0], Y_train[:, 1]\n",
        "inflam_test, nephr_test = Y_test[:, 0], Y_test[:, 1]\n",
        "\n",
        "\n"
      ],
      "execution_count": 0,
      "outputs": []
    },
    {
      "cell_type": "markdown",
      "metadata": {
        "id": "Vw_mtaCSKURC",
        "colab_type": "text"
      },
      "source": [
        "#### Build the model"
      ]
    },
    {
      "cell_type": "code",
      "metadata": {
        "scrolled": false,
        "id": "Xjtuk2OmKURE",
        "colab_type": "code",
        "colab": {}
      },
      "source": [
        "# Build the input layers\n",
        "\n",
        "from tensorflow.keras import Input, layers\n",
        "from keras import Model\n",
        "\n",
        "shape_IP=(1,)\n",
        "temperature= Input(shape=shape_IP,name='temp')\n",
        "nausea_occurence= Input(shape=shape_IP,name='nocc')\n",
        "lumbar_pain= Input(shape=shape_IP,name='lumbp')\n",
        "urine_pushing= Input(shape=shape_IP,name='up')\n",
        "micturition_pains= Input(shape=shape_IP,name='mict')\n",
        "bis= Input(shape=shape_IP,name='bis')\n",
        "\n"
      ],
      "execution_count": 0,
      "outputs": []
    },
    {
      "cell_type": "code",
      "metadata": {
        "scrolled": true,
        "id": "rJDt1D0LKURI",
        "colab_type": "code",
        "colab": {}
      },
      "source": [
        "# Create a list of all the inputs\n",
        "\n",
        "list_inputs = [temperature, nausea_occurence, lumbar_pain, urine_pushing, \n",
        "               micturition_pains, bis]"
      ],
      "execution_count": 0,
      "outputs": []
    },
    {
      "cell_type": "code",
      "metadata": {
        "scrolled": false,
        "id": "P41WGVnqKURM",
        "colab_type": "code",
        "colab": {}
      },
      "source": [
        "# Merge all input features into a single large vector\n",
        "\n",
        "x=layers.concatenate(list_inputs)"
      ],
      "execution_count": 0,
      "outputs": []
    },
    {
      "cell_type": "code",
      "metadata": {
        "scrolled": false,
        "id": "BKZOJR-PKURR",
        "colab_type": "code",
        "colab": {}
      },
      "source": [
        "# Use a logistic regression classifier for disease prediction\n",
        "\n",
        "inflammation_pred= layers.Dense(1,activation='sigmoid',name='inflam')(x)\n",
        "nephritis_pred= layers.Dense(1,activation='sigmoid',name='nephr')(x)\n"
      ],
      "execution_count": 0,
      "outputs": []
    },
    {
      "cell_type": "code",
      "metadata": {
        "scrolled": true,
        "id": "M2tESqXWKURV",
        "colab_type": "code",
        "colab": {}
      },
      "source": [
        "# Create a list of all the outputs\n",
        "\n",
        "list_outputs = [inflammation_pred, nephritis_pred]"
      ],
      "execution_count": 0,
      "outputs": []
    },
    {
      "cell_type": "code",
      "metadata": {
        "scrolled": false,
        "id": "AZFVEYX8KURZ",
        "colab_type": "code",
        "colab": {}
      },
      "source": [
        "# Create the model object\n",
        "model=tf.keras.Model(inputs=list_inputs,outputs=list_outputs)\n"
      ],
      "execution_count": 0,
      "outputs": []
    },
    {
      "cell_type": "markdown",
      "metadata": {
        "id": "m5zoXn36KURd",
        "colab_type": "text"
      },
      "source": [
        "#### Plot the model"
      ]
    },
    {
      "cell_type": "code",
      "metadata": {
        "scrolled": false,
        "id": "b3-_VOYiKURe",
        "colab_type": "code",
        "outputId": "eb2c7a9a-2e32-4092-ada0-f9ebe1e9eae2",
        "colab": {
          "base_uri": "https://localhost:8080/",
          "height": 228
        }
      },
      "source": [
        "# Display the multiple input/output model\n",
        "tf.keras.utils.plot_model(model,'multiinput_output.png',show_shapes=True)\n"
      ],
      "execution_count": 0,
      "outputs": [
        {
          "output_type": "execute_result",
          "data": {
            "image/png": "[encoded data removed]",
            "text/plain": [
              "<IPython.core.display.Image object>"
            ]
          },
          "metadata": {
            "tags": []
          },
          "execution_count": 25
        }
      ]
    },
    {
      "cell_type": "markdown",
      "metadata": {
        "id": "FCXImgxwKURi",
        "colab_type": "text"
      },
      "source": [
        "#### Compile the model"
      ]
    },
    {
      "cell_type": "code",
      "metadata": {
        "scrolled": true,
        "id": "MpGzpAeYKURn",
        "colab_type": "code",
        "colab": {}
      },
      "source": [
        "# Compile the model\n",
        "model.compile(optimizer=tf.keras.optimizers.RMSprop(1e-3),\n",
        "              loss=['binary_crossentropy','binary_crossentropy'],\n",
        "              metrics={'inflam':['acc'],\n",
        "                       'nephr':['acc']},\n",
        "              loss_weights=[1.,1])\n",
        "              \n"
      ],
      "execution_count": 0,
      "outputs": []
    },
    {
      "cell_type": "markdown",
      "metadata": {
        "id": "0mKCMtX19t4P",
        "colab_type": "text"
      },
      "source": [
        ""
      ]
    },
    {
      "cell_type": "markdown",
      "metadata": {
        "id": "FCLg62sr9ttg",
        "colab_type": "text"
      },
      "source": [
        ""
      ]
    },
    {
      "cell_type": "markdown",
      "metadata": {
        "id": "LogIRCGRKURr",
        "colab_type": "text"
      },
      "source": [
        "#### Fit the model "
      ]
    },
    {
      "cell_type": "code",
      "metadata": {
        "scrolled": false,
        "id": "WVDztBCHKURs",
        "colab_type": "code",
        "colab": {}
      },
      "source": [
        "# Define training inputs and outputs\n",
        "\n",
        "inputs_train = {'temp': temp_train, 'nocc': nocc_train, 'lumbp': lumbp_train,\n",
        "                'up': up_train, 'mict': mict_train, 'bis': bis_train}\n",
        "\n",
        "outputs_train = {'inflam': inflam_train, 'nephr': nephr_train}"
      ],
      "execution_count": 0,
      "outputs": []
    },
    {
      "cell_type": "code",
      "metadata": {
        "id": "Nd9z2B7NKURw",
        "colab_type": "code",
        "outputId": "38588a4b-412e-4452-d92d-96f8d7578746",
        "colab": {
          "base_uri": "https://localhost:8080/",
          "height": 1000
        }
      },
      "source": [
        "# Train the model\n",
        "history = model.fit(inputs_train,outputs_train,\n",
        "                    epochs=1000,\n",
        "                    batch_size=128,\n",
        "                    verbose= True)\n"
      ],
      "execution_count": 0,
      "outputs": [
        {
          "output_type": "stream",
          "text": [
            "Train on 80 samples\n",
            "Epoch 1/1000\n",
            "80/80 [==============================] - 0s 1ms/sample - loss: 0.6829 - inflam_loss: 0.0673 - nephr_loss: 0.6156 - inflam_acc: 1.0000 - nephr_acc: 0.6375\n",
            "Epoch 2/1000\n",
            "80/80 [==============================] - 0s 27us/sample - loss: 0.6833 - inflam_loss: 0.0675 - nephr_loss: 0.6158 - inflam_acc: 1.0000 - nephr_acc: 0.5625\n",
            "Epoch 3/1000\n",
            "80/80 [==============================] - 0s 22us/sample - loss: 0.6808 - inflam_loss: 0.0671 - nephr_loss: 0.6137 - inflam_acc: 1.0000 - nephr_acc: 0.6375\n",
            "Epoch 4/1000\n",
            "80/80 [==============================] - 0s 25us/sample - loss: 0.6800 - inflam_loss: 0.0670 - nephr_loss: 0.6130 - inflam_acc: 1.0000 - nephr_acc: 0.6375\n",
            "Epoch 5/1000\n",
            "80/80 [==============================] - 0s 21us/sample - loss: 0.6793 - inflam_loss: 0.0670 - nephr_loss: 0.6123 - inflam_acc: 1.0000 - nephr_acc: 0.6375\n",
            "Epoch 6/1000\n",
            "80/80 [==============================] - 0s 22us/sample - loss: 0.6787 - inflam_loss: 0.0669 - nephr_loss: 0.6118 - inflam_acc: 1.0000 - nephr_acc: 0.6375\n",
            "Epoch 7/1000\n",
            "80/80 [==============================] - 0s 19us/sample - loss: 0.6781 - inflam_loss: 0.0668 - nephr_loss: 0.6113 - inflam_acc: 1.0000 - nephr_acc: 0.6375\n",
            "Epoch 8/1000\n",
            "80/80 [==============================] - 0s 23us/sample - loss: 0.6776 - inflam_loss: 0.0668 - nephr_loss: 0.6108 - inflam_acc: 1.0000 - nephr_acc: 0.6375\n",
            "Epoch 9/1000\n",
            "80/80 [==============================] - 0s 21us/sample - loss: 0.6770 - inflam_loss: 0.0668 - nephr_loss: 0.6103 - inflam_acc: 1.0000 - nephr_acc: 0.6375\n",
            "Epoch 10/1000\n",
            "80/80 [==============================] - 0s 28us/sample - loss: 0.6765 - inflam_loss: 0.0667 - nephr_loss: 0.6098 - inflam_acc: 1.0000 - nephr_acc: 0.6375\n",
            "Epoch 11/1000\n",
            "80/80 [==============================] - 0s 20us/sample - loss: 0.6760 - inflam_loss: 0.0667 - nephr_loss: 0.6094 - inflam_acc: 1.0000 - nephr_acc: 0.6375\n",
            "Epoch 12/1000\n",
            "80/80 [==============================] - 0s 24us/sample - loss: 0.6756 - inflam_loss: 0.0666 - nephr_loss: 0.6089 - inflam_acc: 1.0000 - nephr_acc: 0.6375\n",
            "Epoch 13/1000\n",
            "80/80 [==============================] - 0s 20us/sample - loss: 0.6751 - inflam_loss: 0.0666 - nephr_loss: 0.6085 - inflam_acc: 1.0000 - nephr_acc: 0.6375\n",
            "Epoch 14/1000\n",
            "80/80 [==============================] - 0s 26us/sample - loss: 0.6746 - inflam_loss: 0.0665 - nephr_loss: 0.6081 - inflam_acc: 1.0000 - nephr_acc: 0.6375\n",
            "Epoch 15/1000\n",
            "80/80 [==============================] - 0s 28us/sample - loss: 0.6742 - inflam_loss: 0.0665 - nephr_loss: 0.6077 - inflam_acc: 1.0000 - nephr_acc: 0.6375\n",
            "Epoch 16/1000\n",
            "80/80 [==============================] - 0s 22us/sample - loss: 0.6738 - inflam_loss: 0.0665 - nephr_loss: 0.6073 - inflam_acc: 1.0000 - nephr_acc: 0.6375\n",
            "Epoch 17/1000\n",
            "80/80 [==============================] - 0s 21us/sample - loss: 0.6733 - inflam_loss: 0.0664 - nephr_loss: 0.6069 - inflam_acc: 1.0000 - nephr_acc: 0.6375\n",
            "Epoch 18/1000\n",
            "80/80 [==============================] - 0s 21us/sample - loss: 0.6729 - inflam_loss: 0.0664 - nephr_loss: 0.6065 - inflam_acc: 1.0000 - nephr_acc: 0.6375\n",
            "Epoch 19/1000\n",
            "80/80 [==============================] - 0s 21us/sample - loss: 0.6725 - inflam_loss: 0.0664 - nephr_loss: 0.6061 - inflam_acc: 1.0000 - nephr_acc: 0.6375\n",
            "Epoch 20/1000\n",
            "80/80 [==============================] - 0s 21us/sample - loss: 0.6720 - inflam_loss: 0.0663 - nephr_loss: 0.6057 - inflam_acc: 1.0000 - nephr_acc: 0.6375\n",
            "Epoch 21/1000\n",
            "80/80 [==============================] - 0s 21us/sample - loss: 0.6716 - inflam_loss: 0.0663 - nephr_loss: 0.6053 - inflam_acc: 1.0000 - nephr_acc: 0.6375\n",
            "Epoch 22/1000\n",
            "80/80 [==============================] - 0s 21us/sample - loss: 0.6712 - inflam_loss: 0.0662 - nephr_loss: 0.6050 - inflam_acc: 1.0000 - nephr_acc: 0.6375\n",
            "Epoch 23/1000\n",
            "80/80 [==============================] - 0s 25us/sample - loss: 0.6708 - inflam_loss: 0.0662 - nephr_loss: 0.6046 - inflam_acc: 1.0000 - nephr_acc: 0.6375\n",
            "Epoch 24/1000\n",
            "80/80 [==============================] - 0s 23us/sample - loss: 0.6704 - inflam_loss: 0.0662 - nephr_loss: 0.6042 - inflam_acc: 1.0000 - nephr_acc: 0.6375\n",
            "Epoch 25/1000\n",
            "80/80 [==============================] - 0s 22us/sample - loss: 0.6700 - inflam_loss: 0.0661 - nephr_loss: 0.6039 - inflam_acc: 1.0000 - nephr_acc: 0.6375\n",
            "Epoch 26/1000\n",
            "80/80 [==============================] - 0s 19us/sample - loss: 0.6697 - inflam_loss: 0.0661 - nephr_loss: 0.6035 - inflam_acc: 1.0000 - nephr_acc: 0.6375\n",
            "Epoch 27/1000\n",
            "80/80 [==============================] - 0s 23us/sample - loss: 0.6694 - inflam_loss: 0.0661 - nephr_loss: 0.6033 - inflam_acc: 1.0000 - nephr_acc: 0.6375\n",
            "Epoch 28/1000\n",
            "80/80 [==============================] - 0s 22us/sample - loss: 0.6692 - inflam_loss: 0.0661 - nephr_loss: 0.6031 - inflam_acc: 1.0000 - nephr_acc: 0.6375\n",
            "Epoch 29/1000\n",
            "80/80 [==============================] - 0s 21us/sample - loss: 0.6686 - inflam_loss: 0.0660 - nephr_loss: 0.6026 - inflam_acc: 1.0000 - nephr_acc: 0.6375\n",
            "Epoch 30/1000\n",
            "80/80 [==============================] - 0s 23us/sample - loss: 0.6680 - inflam_loss: 0.0660 - nephr_loss: 0.6021 - inflam_acc: 1.0000 - nephr_acc: 0.6375\n",
            "Epoch 31/1000\n",
            "80/80 [==============================] - 0s 23us/sample - loss: 0.6676 - inflam_loss: 0.0659 - nephr_loss: 0.6017 - inflam_acc: 1.0000 - nephr_acc: 0.6375\n",
            "Epoch 32/1000\n",
            "80/80 [==============================] - 0s 25us/sample - loss: 0.6672 - inflam_loss: 0.0659 - nephr_loss: 0.6013 - inflam_acc: 1.0000 - nephr_acc: 0.6375\n",
            "Epoch 33/1000\n",
            "80/80 [==============================] - 0s 17us/sample - loss: 0.6668 - inflam_loss: 0.0658 - nephr_loss: 0.6009 - inflam_acc: 1.0000 - nephr_acc: 0.6375\n",
            "Epoch 34/1000\n",
            "80/80 [==============================] - 0s 19us/sample - loss: 0.6664 - inflam_loss: 0.0658 - nephr_loss: 0.6006 - inflam_acc: 1.0000 - nephr_acc: 0.6375\n",
            "Epoch 35/1000\n",
            "80/80 [==============================] - 0s 23us/sample - loss: 0.6660 - inflam_loss: 0.0658 - nephr_loss: 0.6002 - inflam_acc: 1.0000 - nephr_acc: 0.6375\n",
            "Epoch 36/1000\n",
            "80/80 [==============================] - 0s 24us/sample - loss: 0.6656 - inflam_loss: 0.0657 - nephr_loss: 0.5999 - inflam_acc: 1.0000 - nephr_acc: 0.6375\n",
            "Epoch 37/1000\n",
            "80/80 [==============================] - 0s 27us/sample - loss: 0.6652 - inflam_loss: 0.0657 - nephr_loss: 0.5995 - inflam_acc: 1.0000 - nephr_acc: 0.6375\n",
            "Epoch 38/1000\n",
            "80/80 [==============================] - 0s 21us/sample - loss: 0.6648 - inflam_loss: 0.0657 - nephr_loss: 0.5992 - inflam_acc: 1.0000 - nephr_acc: 0.6375\n",
            "Epoch 39/1000\n",
            "80/80 [==============================] - 0s 38us/sample - loss: 0.6645 - inflam_loss: 0.0656 - nephr_loss: 0.5988 - inflam_acc: 1.0000 - nephr_acc: 0.6375\n",
            "Epoch 40/1000\n",
            "80/80 [==============================] - 0s 29us/sample - loss: 0.6641 - inflam_loss: 0.0656 - nephr_loss: 0.5985 - inflam_acc: 1.0000 - nephr_acc: 0.6375\n",
            "Epoch 41/1000\n",
            "80/80 [==============================] - 0s 25us/sample - loss: 0.6637 - inflam_loss: 0.0656 - nephr_loss: 0.5981 - inflam_acc: 1.0000 - nephr_acc: 0.6375\n",
            "Epoch 42/1000\n",
            "80/80 [==============================] - 0s 31us/sample - loss: 0.6634 - inflam_loss: 0.0656 - nephr_loss: 0.5978 - inflam_acc: 1.0000 - nephr_acc: 0.6375\n",
            "Epoch 43/1000\n",
            "80/80 [==============================] - 0s 20us/sample - loss: 0.6630 - inflam_loss: 0.0655 - nephr_loss: 0.5975 - inflam_acc: 1.0000 - nephr_acc: 0.6375\n",
            "Epoch 44/1000\n",
            "80/80 [==============================] - 0s 23us/sample - loss: 0.6627 - inflam_loss: 0.0655 - nephr_loss: 0.5972 - inflam_acc: 1.0000 - nephr_acc: 0.6375\n",
            "Epoch 45/1000\n",
            "80/80 [==============================] - 0s 20us/sample - loss: 0.6622 - inflam_loss: 0.0654 - nephr_loss: 0.5968 - inflam_acc: 1.0000 - nephr_acc: 0.6375\n",
            "Epoch 46/1000\n",
            "80/80 [==============================] - 0s 23us/sample - loss: 0.6618 - inflam_loss: 0.0654 - nephr_loss: 0.5964 - inflam_acc: 1.0000 - nephr_acc: 0.6375\n",
            "Epoch 47/1000\n",
            "80/80 [==============================] - 0s 27us/sample - loss: 0.6614 - inflam_loss: 0.0654 - nephr_loss: 0.5960 - inflam_acc: 1.0000 - nephr_acc: 0.6375\n",
            "Epoch 48/1000\n",
            "80/80 [==============================] - 0s 23us/sample - loss: 0.6610 - inflam_loss: 0.0653 - nephr_loss: 0.5957 - inflam_acc: 1.0000 - nephr_acc: 0.6375\n",
            "Epoch 49/1000\n",
            "80/80 [==============================] - 0s 25us/sample - loss: 0.6606 - inflam_loss: 0.0653 - nephr_loss: 0.5953 - inflam_acc: 1.0000 - nephr_acc: 0.6375\n",
            "Epoch 50/1000\n",
            "80/80 [==============================] - 0s 20us/sample - loss: 0.6602 - inflam_loss: 0.0653 - nephr_loss: 0.5950 - inflam_acc: 1.0000 - nephr_acc: 0.6375\n",
            "Epoch 51/1000\n",
            "80/80 [==============================] - 0s 28us/sample - loss: 0.6598 - inflam_loss: 0.0652 - nephr_loss: 0.5946 - inflam_acc: 1.0000 - nephr_acc: 0.6375\n",
            "Epoch 52/1000\n",
            "80/80 [==============================] - 0s 21us/sample - loss: 0.6595 - inflam_loss: 0.0652 - nephr_loss: 0.5943 - inflam_acc: 1.0000 - nephr_acc: 0.6375\n",
            "Epoch 53/1000\n",
            "80/80 [==============================] - 0s 22us/sample - loss: 0.6591 - inflam_loss: 0.0652 - nephr_loss: 0.5939 - inflam_acc: 1.0000 - nephr_acc: 0.6375\n",
            "Epoch 54/1000\n",
            "80/80 [==============================] - 0s 21us/sample - loss: 0.6587 - inflam_loss: 0.0651 - nephr_loss: 0.5936 - inflam_acc: 1.0000 - nephr_acc: 0.6375\n",
            "Epoch 55/1000\n",
            "80/80 [==============================] - 0s 27us/sample - loss: 0.6583 - inflam_loss: 0.0651 - nephr_loss: 0.5932 - inflam_acc: 1.0000 - nephr_acc: 0.6375\n",
            "Epoch 56/1000\n",
            "80/80 [==============================] - 0s 21us/sample - loss: 0.6580 - inflam_loss: 0.0651 - nephr_loss: 0.5929 - inflam_acc: 1.0000 - nephr_acc: 0.6375\n",
            "Epoch 57/1000\n",
            "80/80 [==============================] - 0s 20us/sample - loss: 0.6576 - inflam_loss: 0.0650 - nephr_loss: 0.5926 - inflam_acc: 1.0000 - nephr_acc: 0.6375\n",
            "Epoch 58/1000\n",
            "80/80 [==============================] - 0s 22us/sample - loss: 0.6572 - inflam_loss: 0.0650 - nephr_loss: 0.5922 - inflam_acc: 1.0000 - nephr_acc: 0.6375\n",
            "Epoch 59/1000\n",
            "80/80 [==============================] - 0s 24us/sample - loss: 0.6568 - inflam_loss: 0.0650 - nephr_loss: 0.5919 - inflam_acc: 1.0000 - nephr_acc: 0.6375\n",
            "Epoch 60/1000\n",
            "80/80 [==============================] - 0s 28us/sample - loss: 0.6565 - inflam_loss: 0.0649 - nephr_loss: 0.5915 - inflam_acc: 1.0000 - nephr_acc: 0.6375\n",
            "Epoch 61/1000\n",
            "80/80 [==============================] - 0s 23us/sample - loss: 0.6561 - inflam_loss: 0.0649 - nephr_loss: 0.5912 - inflam_acc: 1.0000 - nephr_acc: 0.6375\n",
            "Epoch 62/1000\n",
            "80/80 [==============================] - 0s 20us/sample - loss: 0.6557 - inflam_loss: 0.0649 - nephr_loss: 0.5908 - inflam_acc: 1.0000 - nephr_acc: 0.6375\n",
            "Epoch 63/1000\n",
            "80/80 [==============================] - 0s 36us/sample - loss: 0.6553 - inflam_loss: 0.0648 - nephr_loss: 0.5904 - inflam_acc: 1.0000 - nephr_acc: 0.6375\n",
            "Epoch 64/1000\n",
            "80/80 [==============================] - 0s 33us/sample - loss: 0.6549 - inflam_loss: 0.0648 - nephr_loss: 0.5901 - inflam_acc: 1.0000 - nephr_acc: 0.6375\n",
            "Epoch 65/1000\n",
            "80/80 [==============================] - 0s 23us/sample - loss: 0.6545 - inflam_loss: 0.0648 - nephr_loss: 0.5897 - inflam_acc: 1.0000 - nephr_acc: 0.6375\n",
            "Epoch 66/1000\n",
            "80/80 [==============================] - 0s 23us/sample - loss: 0.6541 - inflam_loss: 0.0647 - nephr_loss: 0.5894 - inflam_acc: 1.0000 - nephr_acc: 0.6375\n",
            "Epoch 67/1000\n",
            "80/80 [==============================] - 0s 18us/sample - loss: 0.6538 - inflam_loss: 0.0647 - nephr_loss: 0.5891 - inflam_acc: 1.0000 - nephr_acc: 0.6375\n",
            "Epoch 68/1000\n",
            "80/80 [==============================] - 0s 24us/sample - loss: 0.6534 - inflam_loss: 0.0647 - nephr_loss: 0.5887 - inflam_acc: 1.0000 - nephr_acc: 0.6375\n",
            "Epoch 69/1000\n",
            "80/80 [==============================] - 0s 26us/sample - loss: 0.6530 - inflam_loss: 0.0646 - nephr_loss: 0.5884 - inflam_acc: 1.0000 - nephr_acc: 0.6375\n",
            "Epoch 70/1000\n",
            "80/80 [==============================] - 0s 23us/sample - loss: 0.6526 - inflam_loss: 0.0646 - nephr_loss: 0.5881 - inflam_acc: 1.0000 - nephr_acc: 0.6375\n",
            "Epoch 71/1000\n",
            "80/80 [==============================] - 0s 20us/sample - loss: 0.6523 - inflam_loss: 0.0646 - nephr_loss: 0.5877 - inflam_acc: 1.0000 - nephr_acc: 0.6375\n",
            "Epoch 72/1000\n",
            "80/80 [==============================] - 0s 24us/sample - loss: 0.6519 - inflam_loss: 0.0645 - nephr_loss: 0.5874 - inflam_acc: 1.0000 - nephr_acc: 0.6375\n",
            "Epoch 73/1000\n",
            "80/80 [==============================] - 0s 26us/sample - loss: 0.6515 - inflam_loss: 0.0645 - nephr_loss: 0.5870 - inflam_acc: 1.0000 - nephr_acc: 0.6375\n",
            "Epoch 74/1000\n",
            "80/80 [==============================] - 0s 21us/sample - loss: 0.6511 - inflam_loss: 0.0645 - nephr_loss: 0.5867 - inflam_acc: 1.0000 - nephr_acc: 0.6375\n",
            "Epoch 75/1000\n",
            "80/80 [==============================] - 0s 22us/sample - loss: 0.6508 - inflam_loss: 0.0644 - nephr_loss: 0.5863 - inflam_acc: 1.0000 - nephr_acc: 0.6375\n",
            "Epoch 76/1000\n",
            "80/80 [==============================] - 0s 20us/sample - loss: 0.6504 - inflam_loss: 0.0644 - nephr_loss: 0.5860 - inflam_acc: 1.0000 - nephr_acc: 0.6375\n",
            "Epoch 77/1000\n",
            "80/80 [==============================] - 0s 24us/sample - loss: 0.6500 - inflam_loss: 0.0644 - nephr_loss: 0.5856 - inflam_acc: 1.0000 - nephr_acc: 0.6375\n",
            "Epoch 78/1000\n",
            "80/80 [==============================] - 0s 24us/sample - loss: 0.6496 - inflam_loss: 0.0643 - nephr_loss: 0.5853 - inflam_acc: 1.0000 - nephr_acc: 0.6375\n",
            "Epoch 79/1000\n",
            "80/80 [==============================] - 0s 32us/sample - loss: 0.6492 - inflam_loss: 0.0643 - nephr_loss: 0.5849 - inflam_acc: 1.0000 - nephr_acc: 0.6375\n",
            "Epoch 80/1000\n",
            "80/80 [==============================] - 0s 41us/sample - loss: 0.6489 - inflam_loss: 0.0643 - nephr_loss: 0.5846 - inflam_acc: 1.0000 - nephr_acc: 0.6375\n",
            "Epoch 81/1000\n",
            "80/80 [==============================] - 0s 41us/sample - loss: 0.6485 - inflam_loss: 0.0642 - nephr_loss: 0.5843 - inflam_acc: 1.0000 - nephr_acc: 0.6375\n",
            "Epoch 82/1000\n",
            "80/80 [==============================] - 0s 19us/sample - loss: 0.6481 - inflam_loss: 0.0642 - nephr_loss: 0.5839 - inflam_acc: 1.0000 - nephr_acc: 0.6375\n",
            "Epoch 83/1000\n",
            "80/80 [==============================] - 0s 28us/sample - loss: 0.6477 - inflam_loss: 0.0642 - nephr_loss: 0.5836 - inflam_acc: 1.0000 - nephr_acc: 0.6375\n",
            "Epoch 84/1000\n",
            "80/80 [==============================] - 0s 26us/sample - loss: 0.6474 - inflam_loss: 0.0641 - nephr_loss: 0.5833 - inflam_acc: 1.0000 - nephr_acc: 0.6375\n",
            "Epoch 85/1000\n",
            "80/80 [==============================] - 0s 28us/sample - loss: 0.6470 - inflam_loss: 0.0641 - nephr_loss: 0.5829 - inflam_acc: 1.0000 - nephr_acc: 0.6375\n",
            "Epoch 86/1000\n",
            "80/80 [==============================] - 0s 25us/sample - loss: 0.6466 - inflam_loss: 0.0641 - nephr_loss: 0.5826 - inflam_acc: 1.0000 - nephr_acc: 0.6375\n",
            "Epoch 87/1000\n",
            "80/80 [==============================] - 0s 22us/sample - loss: 0.6463 - inflam_loss: 0.0640 - nephr_loss: 0.5822 - inflam_acc: 1.0000 - nephr_acc: 0.6375\n",
            "Epoch 88/1000\n",
            "80/80 [==============================] - 0s 20us/sample - loss: 0.6459 - inflam_loss: 0.0640 - nephr_loss: 0.5819 - inflam_acc: 1.0000 - nephr_acc: 0.6375\n",
            "Epoch 89/1000\n",
            "80/80 [==============================] - 0s 32us/sample - loss: 0.6455 - inflam_loss: 0.0640 - nephr_loss: 0.5815 - inflam_acc: 1.0000 - nephr_acc: 0.6375\n",
            "Epoch 90/1000\n",
            "80/80 [==============================] - 0s 20us/sample - loss: 0.6451 - inflam_loss: 0.0639 - nephr_loss: 0.5812 - inflam_acc: 1.0000 - nephr_acc: 0.6375\n",
            "Epoch 91/1000\n",
            "80/80 [==============================] - 0s 25us/sample - loss: 0.6448 - inflam_loss: 0.0639 - nephr_loss: 0.5809 - inflam_acc: 1.0000 - nephr_acc: 0.6375\n",
            "Epoch 92/1000\n",
            "80/80 [==============================] - 0s 39us/sample - loss: 0.6444 - inflam_loss: 0.0639 - nephr_loss: 0.5805 - inflam_acc: 1.0000 - nephr_acc: 0.6375\n",
            "Epoch 93/1000\n",
            "80/80 [==============================] - 0s 30us/sample - loss: 0.6440 - inflam_loss: 0.0638 - nephr_loss: 0.5802 - inflam_acc: 1.0000 - nephr_acc: 0.6375\n",
            "Epoch 94/1000\n",
            "80/80 [==============================] - 0s 20us/sample - loss: 0.6436 - inflam_loss: 0.0638 - nephr_loss: 0.5798 - inflam_acc: 1.0000 - nephr_acc: 0.6375\n",
            "Epoch 95/1000\n",
            "80/80 [==============================] - 0s 26us/sample - loss: 0.6433 - inflam_loss: 0.0638 - nephr_loss: 0.5795 - inflam_acc: 1.0000 - nephr_acc: 0.6375\n",
            "Epoch 96/1000\n",
            "80/80 [==============================] - 0s 26us/sample - loss: 0.6429 - inflam_loss: 0.0637 - nephr_loss: 0.5792 - inflam_acc: 1.0000 - nephr_acc: 0.6375\n",
            "Epoch 97/1000\n",
            "80/80 [==============================] - 0s 23us/sample - loss: 0.6425 - inflam_loss: 0.0637 - nephr_loss: 0.5788 - inflam_acc: 1.0000 - nephr_acc: 0.6375\n",
            "Epoch 98/1000\n",
            "80/80 [==============================] - 0s 18us/sample - loss: 0.6422 - inflam_loss: 0.0637 - nephr_loss: 0.5785 - inflam_acc: 1.0000 - nephr_acc: 0.6375\n",
            "Epoch 99/1000\n",
            "80/80 [==============================] - 0s 25us/sample - loss: 0.6418 - inflam_loss: 0.0636 - nephr_loss: 0.5782 - inflam_acc: 1.0000 - nephr_acc: 0.6375\n",
            "Epoch 100/1000\n",
            "80/80 [==============================] - 0s 31us/sample - loss: 0.6414 - inflam_loss: 0.0636 - nephr_loss: 0.5778 - inflam_acc: 1.0000 - nephr_acc: 0.6375\n",
            "Epoch 101/1000\n",
            "80/80 [==============================] - 0s 24us/sample - loss: 0.6410 - inflam_loss: 0.0636 - nephr_loss: 0.5775 - inflam_acc: 1.0000 - nephr_acc: 0.6375\n",
            "Epoch 102/1000\n",
            "80/80 [==============================] - 0s 22us/sample - loss: 0.6407 - inflam_loss: 0.0635 - nephr_loss: 0.5771 - inflam_acc: 1.0000 - nephr_acc: 0.6375\n",
            "Epoch 103/1000\n",
            "80/80 [==============================] - 0s 22us/sample - loss: 0.6403 - inflam_loss: 0.0635 - nephr_loss: 0.5768 - inflam_acc: 1.0000 - nephr_acc: 0.6375\n",
            "Epoch 104/1000\n",
            "80/80 [==============================] - 0s 24us/sample - loss: 0.6399 - inflam_loss: 0.0635 - nephr_loss: 0.5765 - inflam_acc: 1.0000 - nephr_acc: 0.6375\n",
            "Epoch 105/1000\n",
            "80/80 [==============================] - 0s 23us/sample - loss: 0.6396 - inflam_loss: 0.0634 - nephr_loss: 0.5761 - inflam_acc: 1.0000 - nephr_acc: 0.6375\n",
            "Epoch 106/1000\n",
            "80/80 [==============================] - 0s 23us/sample - loss: 0.6392 - inflam_loss: 0.0634 - nephr_loss: 0.5758 - inflam_acc: 1.0000 - nephr_acc: 0.6375\n",
            "Epoch 107/1000\n",
            "80/80 [==============================] - 0s 37us/sample - loss: 0.6388 - inflam_loss: 0.0634 - nephr_loss: 0.5755 - inflam_acc: 1.0000 - nephr_acc: 0.6375\n",
            "Epoch 108/1000\n",
            "80/80 [==============================] - 0s 31us/sample - loss: 0.6385 - inflam_loss: 0.0633 - nephr_loss: 0.5751 - inflam_acc: 1.0000 - nephr_acc: 0.6375\n",
            "Epoch 109/1000\n",
            "80/80 [==============================] - 0s 39us/sample - loss: 0.6381 - inflam_loss: 0.0633 - nephr_loss: 0.5748 - inflam_acc: 1.0000 - nephr_acc: 0.6375\n",
            "Epoch 110/1000\n",
            "80/80 [==============================] - 0s 54us/sample - loss: 0.6377 - inflam_loss: 0.0633 - nephr_loss: 0.5745 - inflam_acc: 1.0000 - nephr_acc: 0.6375\n",
            "Epoch 111/1000\n",
            "80/80 [==============================] - 0s 23us/sample - loss: 0.6374 - inflam_loss: 0.0632 - nephr_loss: 0.5741 - inflam_acc: 1.0000 - nephr_acc: 0.6375\n",
            "Epoch 112/1000\n",
            "80/80 [==============================] - 0s 22us/sample - loss: 0.6370 - inflam_loss: 0.0632 - nephr_loss: 0.5738 - inflam_acc: 1.0000 - nephr_acc: 0.6375\n",
            "Epoch 113/1000\n",
            "80/80 [==============================] - 0s 30us/sample - loss: 0.6366 - inflam_loss: 0.0632 - nephr_loss: 0.5735 - inflam_acc: 1.0000 - nephr_acc: 0.6375\n",
            "Epoch 114/1000\n",
            "80/80 [==============================] - 0s 22us/sample - loss: 0.6362 - inflam_loss: 0.0631 - nephr_loss: 0.5731 - inflam_acc: 1.0000 - nephr_acc: 0.6375\n",
            "Epoch 115/1000\n",
            "80/80 [==============================] - 0s 27us/sample - loss: 0.6359 - inflam_loss: 0.0631 - nephr_loss: 0.5728 - inflam_acc: 1.0000 - nephr_acc: 0.6375\n",
            "Epoch 116/1000\n",
            "80/80 [==============================] - 0s 22us/sample - loss: 0.6355 - inflam_loss: 0.0631 - nephr_loss: 0.5724 - inflam_acc: 1.0000 - nephr_acc: 0.6375\n",
            "Epoch 117/1000\n",
            "80/80 [==============================] - 0s 23us/sample - loss: 0.6351 - inflam_loss: 0.0630 - nephr_loss: 0.5721 - inflam_acc: 1.0000 - nephr_acc: 0.6375\n",
            "Epoch 118/1000\n",
            "80/80 [==============================] - 0s 23us/sample - loss: 0.6348 - inflam_loss: 0.0630 - nephr_loss: 0.5718 - inflam_acc: 1.0000 - nephr_acc: 0.6375\n",
            "Epoch 119/1000\n",
            "80/80 [==============================] - 0s 23us/sample - loss: 0.6344 - inflam_loss: 0.0630 - nephr_loss: 0.5714 - inflam_acc: 1.0000 - nephr_acc: 0.6375\n",
            "Epoch 120/1000\n",
            "80/80 [==============================] - 0s 25us/sample - loss: 0.6340 - inflam_loss: 0.0629 - nephr_loss: 0.5711 - inflam_acc: 1.0000 - nephr_acc: 0.6375\n",
            "Epoch 121/1000\n",
            "80/80 [==============================] - 0s 24us/sample - loss: 0.6337 - inflam_loss: 0.0629 - nephr_loss: 0.5708 - inflam_acc: 1.0000 - nephr_acc: 0.6375\n",
            "Epoch 122/1000\n",
            "80/80 [==============================] - 0s 25us/sample - loss: 0.6333 - inflam_loss: 0.0629 - nephr_loss: 0.5704 - inflam_acc: 1.0000 - nephr_acc: 0.6375\n",
            "Epoch 123/1000\n",
            "80/80 [==============================] - 0s 24us/sample - loss: 0.6330 - inflam_loss: 0.0628 - nephr_loss: 0.5701 - inflam_acc: 1.0000 - nephr_acc: 0.6375\n",
            "Epoch 124/1000\n",
            "80/80 [==============================] - 0s 25us/sample - loss: 0.6326 - inflam_loss: 0.0628 - nephr_loss: 0.5698 - inflam_acc: 1.0000 - nephr_acc: 0.6375\n",
            "Epoch 125/1000\n",
            "80/80 [==============================] - 0s 22us/sample - loss: 0.6322 - inflam_loss: 0.0628 - nephr_loss: 0.5694 - inflam_acc: 1.0000 - nephr_acc: 0.6375\n",
            "Epoch 126/1000\n",
            "80/80 [==============================] - 0s 21us/sample - loss: 0.6319 - inflam_loss: 0.0627 - nephr_loss: 0.5691 - inflam_acc: 1.0000 - nephr_acc: 0.6375\n",
            "Epoch 127/1000\n",
            "80/80 [==============================] - 0s 20us/sample - loss: 0.6315 - inflam_loss: 0.0627 - nephr_loss: 0.5688 - inflam_acc: 1.0000 - nephr_acc: 0.6375\n",
            "Epoch 128/1000\n",
            "80/80 [==============================] - 0s 28us/sample - loss: 0.6311 - inflam_loss: 0.0627 - nephr_loss: 0.5685 - inflam_acc: 1.0000 - nephr_acc: 0.6375\n",
            "Epoch 129/1000\n",
            "80/80 [==============================] - 0s 38us/sample - loss: 0.6308 - inflam_loss: 0.0626 - nephr_loss: 0.5681 - inflam_acc: 1.0000 - nephr_acc: 0.6375\n",
            "Epoch 130/1000\n",
            "80/80 [==============================] - 0s 23us/sample - loss: 0.6304 - inflam_loss: 0.0626 - nephr_loss: 0.5678 - inflam_acc: 1.0000 - nephr_acc: 0.6375\n",
            "Epoch 131/1000\n",
            "80/80 [==============================] - 0s 22us/sample - loss: 0.6300 - inflam_loss: 0.0626 - nephr_loss: 0.5675 - inflam_acc: 1.0000 - nephr_acc: 0.6375\n",
            "Epoch 132/1000\n",
            "80/80 [==============================] - 0s 25us/sample - loss: 0.6297 - inflam_loss: 0.0625 - nephr_loss: 0.5671 - inflam_acc: 1.0000 - nephr_acc: 0.6375\n",
            "Epoch 133/1000\n",
            "80/80 [==============================] - 0s 24us/sample - loss: 0.6293 - inflam_loss: 0.0625 - nephr_loss: 0.5668 - inflam_acc: 1.0000 - nephr_acc: 0.6375\n",
            "Epoch 134/1000\n",
            "80/80 [==============================] - 0s 21us/sample - loss: 0.6289 - inflam_loss: 0.0625 - nephr_loss: 0.5665 - inflam_acc: 1.0000 - nephr_acc: 0.6375\n",
            "Epoch 135/1000\n",
            "80/80 [==============================] - 0s 26us/sample - loss: 0.6286 - inflam_loss: 0.0624 - nephr_loss: 0.5661 - inflam_acc: 1.0000 - nephr_acc: 0.6375\n",
            "Epoch 136/1000\n",
            "80/80 [==============================] - 0s 27us/sample - loss: 0.6282 - inflam_loss: 0.0624 - nephr_loss: 0.5658 - inflam_acc: 1.0000 - nephr_acc: 0.6375\n",
            "Epoch 137/1000\n",
            "80/80 [==============================] - 0s 27us/sample - loss: 0.6279 - inflam_loss: 0.0624 - nephr_loss: 0.5655 - inflam_acc: 1.0000 - nephr_acc: 0.6375\n",
            "Epoch 138/1000\n",
            "80/80 [==============================] - 0s 22us/sample - loss: 0.6275 - inflam_loss: 0.0624 - nephr_loss: 0.5651 - inflam_acc: 1.0000 - nephr_acc: 0.6375\n",
            "Epoch 139/1000\n",
            "80/80 [==============================] - 0s 21us/sample - loss: 0.6271 - inflam_loss: 0.0623 - nephr_loss: 0.5648 - inflam_acc: 1.0000 - nephr_acc: 0.6375\n",
            "Epoch 140/1000\n",
            "80/80 [==============================] - 0s 23us/sample - loss: 0.6268 - inflam_loss: 0.0623 - nephr_loss: 0.5645 - inflam_acc: 1.0000 - nephr_acc: 0.6375\n",
            "Epoch 141/1000\n",
            "80/80 [==============================] - 0s 24us/sample - loss: 0.6264 - inflam_loss: 0.0623 - nephr_loss: 0.5642 - inflam_acc: 1.0000 - nephr_acc: 0.6375\n",
            "Epoch 142/1000\n",
            "80/80 [==============================] - 0s 21us/sample - loss: 0.6261 - inflam_loss: 0.0622 - nephr_loss: 0.5638 - inflam_acc: 1.0000 - nephr_acc: 0.6375\n",
            "Epoch 143/1000\n",
            "80/80 [==============================] - 0s 24us/sample - loss: 0.6257 - inflam_loss: 0.0622 - nephr_loss: 0.5635 - inflam_acc: 1.0000 - nephr_acc: 0.6375\n",
            "Epoch 144/1000\n",
            "80/80 [==============================] - 0s 26us/sample - loss: 0.6253 - inflam_loss: 0.0622 - nephr_loss: 0.5632 - inflam_acc: 1.0000 - nephr_acc: 0.6375\n",
            "Epoch 145/1000\n",
            "80/80 [==============================] - 0s 28us/sample - loss: 0.6250 - inflam_loss: 0.0621 - nephr_loss: 0.5628 - inflam_acc: 1.0000 - nephr_acc: 0.6375\n",
            "Epoch 146/1000\n",
            "80/80 [==============================] - 0s 26us/sample - loss: 0.6246 - inflam_loss: 0.0621 - nephr_loss: 0.5625 - inflam_acc: 1.0000 - nephr_acc: 0.6375\n",
            "Epoch 147/1000\n",
            "80/80 [==============================] - 0s 21us/sample - loss: 0.6243 - inflam_loss: 0.0621 - nephr_loss: 0.5622 - inflam_acc: 1.0000 - nephr_acc: 0.6375\n",
            "Epoch 148/1000\n",
            "80/80 [==============================] - 0s 24us/sample - loss: 0.6239 - inflam_loss: 0.0620 - nephr_loss: 0.5619 - inflam_acc: 1.0000 - nephr_acc: 0.6375\n",
            "Epoch 149/1000\n",
            "80/80 [==============================] - 0s 25us/sample - loss: 0.6235 - inflam_loss: 0.0620 - nephr_loss: 0.5615 - inflam_acc: 1.0000 - nephr_acc: 0.6375\n",
            "Epoch 150/1000\n",
            "80/80 [==============================] - 0s 27us/sample - loss: 0.6232 - inflam_loss: 0.0620 - nephr_loss: 0.5612 - inflam_acc: 1.0000 - nephr_acc: 0.6375\n",
            "Epoch 151/1000\n",
            "80/80 [==============================] - 0s 32us/sample - loss: 0.6228 - inflam_loss: 0.0619 - nephr_loss: 0.5609 - inflam_acc: 1.0000 - nephr_acc: 0.6375\n",
            "Epoch 152/1000\n",
            "80/80 [==============================] - 0s 27us/sample - loss: 0.6225 - inflam_loss: 0.0619 - nephr_loss: 0.5606 - inflam_acc: 1.0000 - nephr_acc: 0.6375\n",
            "Epoch 153/1000\n",
            "80/80 [==============================] - 0s 24us/sample - loss: 0.6221 - inflam_loss: 0.0619 - nephr_loss: 0.5602 - inflam_acc: 1.0000 - nephr_acc: 0.6375\n",
            "Epoch 154/1000\n",
            "80/80 [==============================] - 0s 27us/sample - loss: 0.6217 - inflam_loss: 0.0618 - nephr_loss: 0.5599 - inflam_acc: 1.0000 - nephr_acc: 0.6375\n",
            "Epoch 155/1000\n",
            "80/80 [==============================] - 0s 30us/sample - loss: 0.6214 - inflam_loss: 0.0618 - nephr_loss: 0.5596 - inflam_acc: 1.0000 - nephr_acc: 0.6375\n",
            "Epoch 156/1000\n",
            "80/80 [==============================] - 0s 21us/sample - loss: 0.6210 - inflam_loss: 0.0618 - nephr_loss: 0.5593 - inflam_acc: 1.0000 - nephr_acc: 0.6375\n",
            "Epoch 157/1000\n",
            "80/80 [==============================] - 0s 19us/sample - loss: 0.6207 - inflam_loss: 0.0617 - nephr_loss: 0.5589 - inflam_acc: 1.0000 - nephr_acc: 0.6375\n",
            "Epoch 158/1000\n",
            "80/80 [==============================] - 0s 23us/sample - loss: 0.6203 - inflam_loss: 0.0617 - nephr_loss: 0.5586 - inflam_acc: 1.0000 - nephr_acc: 0.6375\n",
            "Epoch 159/1000\n",
            "80/80 [==============================] - 0s 20us/sample - loss: 0.6199 - inflam_loss: 0.0617 - nephr_loss: 0.5583 - inflam_acc: 1.0000 - nephr_acc: 0.6375\n",
            "Epoch 160/1000\n",
            "80/80 [==============================] - 0s 25us/sample - loss: 0.6196 - inflam_loss: 0.0616 - nephr_loss: 0.5580 - inflam_acc: 1.0000 - nephr_acc: 0.6500\n",
            "Epoch 161/1000\n",
            "80/80 [==============================] - 0s 23us/sample - loss: 0.6192 - inflam_loss: 0.0616 - nephr_loss: 0.5576 - inflam_acc: 1.0000 - nephr_acc: 0.6500\n",
            "Epoch 162/1000\n",
            "80/80 [==============================] - 0s 25us/sample - loss: 0.6189 - inflam_loss: 0.0616 - nephr_loss: 0.5573 - inflam_acc: 1.0000 - nephr_acc: 0.6625\n",
            "Epoch 163/1000\n",
            "80/80 [==============================] - 0s 23us/sample - loss: 0.6185 - inflam_loss: 0.0615 - nephr_loss: 0.5570 - inflam_acc: 1.0000 - nephr_acc: 0.6500\n",
            "Epoch 164/1000\n",
            "80/80 [==============================] - 0s 24us/sample - loss: 0.6182 - inflam_loss: 0.0615 - nephr_loss: 0.5567 - inflam_acc: 1.0000 - nephr_acc: 0.6625\n",
            "Epoch 165/1000\n",
            "80/80 [==============================] - 0s 25us/sample - loss: 0.6178 - inflam_loss: 0.0615 - nephr_loss: 0.5563 - inflam_acc: 1.0000 - nephr_acc: 0.6625\n",
            "Epoch 166/1000\n",
            "80/80 [==============================] - 0s 25us/sample - loss: 0.6175 - inflam_loss: 0.0615 - nephr_loss: 0.5560 - inflam_acc: 1.0000 - nephr_acc: 0.6625\n",
            "Epoch 167/1000\n",
            "80/80 [==============================] - 0s 23us/sample - loss: 0.6171 - inflam_loss: 0.0614 - nephr_loss: 0.5557 - inflam_acc: 1.0000 - nephr_acc: 0.6625\n",
            "Epoch 168/1000\n",
            "80/80 [==============================] - 0s 22us/sample - loss: 0.6167 - inflam_loss: 0.0614 - nephr_loss: 0.5554 - inflam_acc: 1.0000 - nephr_acc: 0.6750\n",
            "Epoch 169/1000\n",
            "80/80 [==============================] - 0s 28us/sample - loss: 0.6164 - inflam_loss: 0.0614 - nephr_loss: 0.5550 - inflam_acc: 1.0000 - nephr_acc: 0.6625\n",
            "Epoch 170/1000\n",
            "80/80 [==============================] - 0s 31us/sample - loss: 0.6160 - inflam_loss: 0.0613 - nephr_loss: 0.5547 - inflam_acc: 1.0000 - nephr_acc: 0.6750\n",
            "Epoch 171/1000\n",
            "80/80 [==============================] - 0s 32us/sample - loss: 0.6157 - inflam_loss: 0.0613 - nephr_loss: 0.5544 - inflam_acc: 1.0000 - nephr_acc: 0.6625\n",
            "Epoch 172/1000\n",
            "80/80 [==============================] - 0s 28us/sample - loss: 0.6153 - inflam_loss: 0.0613 - nephr_loss: 0.5541 - inflam_acc: 1.0000 - nephr_acc: 0.6875\n",
            "Epoch 173/1000\n",
            "80/80 [==============================] - 0s 22us/sample - loss: 0.6150 - inflam_loss: 0.0612 - nephr_loss: 0.5537 - inflam_acc: 1.0000 - nephr_acc: 0.6875\n",
            "Epoch 174/1000\n",
            "80/80 [==============================] - 0s 24us/sample - loss: 0.6146 - inflam_loss: 0.0612 - nephr_loss: 0.5534 - inflam_acc: 1.0000 - nephr_acc: 0.7000\n",
            "Epoch 175/1000\n",
            "80/80 [==============================] - 0s 28us/sample - loss: 0.6143 - inflam_loss: 0.0612 - nephr_loss: 0.5531 - inflam_acc: 1.0000 - nephr_acc: 0.6875\n",
            "Epoch 176/1000\n",
            "80/80 [==============================] - 0s 30us/sample - loss: 0.6139 - inflam_loss: 0.0611 - nephr_loss: 0.5528 - inflam_acc: 1.0000 - nephr_acc: 0.7000\n",
            "Epoch 177/1000\n",
            "80/80 [==============================] - 0s 26us/sample - loss: 0.6136 - inflam_loss: 0.0611 - nephr_loss: 0.5525 - inflam_acc: 1.0000 - nephr_acc: 0.7000\n",
            "Epoch 178/1000\n",
            "80/80 [==============================] - 0s 28us/sample - loss: 0.6132 - inflam_loss: 0.0611 - nephr_loss: 0.5521 - inflam_acc: 1.0000 - nephr_acc: 0.7125\n",
            "Epoch 179/1000\n",
            "80/80 [==============================] - 0s 41us/sample - loss: 0.6128 - inflam_loss: 0.0610 - nephr_loss: 0.5518 - inflam_acc: 1.0000 - nephr_acc: 0.7000\n",
            "Epoch 180/1000\n",
            "80/80 [==============================] - 0s 35us/sample - loss: 0.6125 - inflam_loss: 0.0610 - nephr_loss: 0.5515 - inflam_acc: 1.0000 - nephr_acc: 0.7125\n",
            "Epoch 181/1000\n",
            "80/80 [==============================] - 0s 21us/sample - loss: 0.6121 - inflam_loss: 0.0610 - nephr_loss: 0.5512 - inflam_acc: 1.0000 - nephr_acc: 0.7125\n",
            "Epoch 182/1000\n",
            "80/80 [==============================] - 0s 30us/sample - loss: 0.6118 - inflam_loss: 0.0609 - nephr_loss: 0.5508 - inflam_acc: 1.0000 - nephr_acc: 0.7125\n",
            "Epoch 183/1000\n",
            "80/80 [==============================] - 0s 56us/sample - loss: 0.6114 - inflam_loss: 0.0609 - nephr_loss: 0.5505 - inflam_acc: 1.0000 - nephr_acc: 0.7125\n",
            "Epoch 184/1000\n",
            "80/80 [==============================] - 0s 23us/sample - loss: 0.6111 - inflam_loss: 0.0609 - nephr_loss: 0.5502 - inflam_acc: 1.0000 - nephr_acc: 0.7125\n",
            "Epoch 185/1000\n",
            "80/80 [==============================] - 0s 24us/sample - loss: 0.6107 - inflam_loss: 0.0608 - nephr_loss: 0.5499 - inflam_acc: 1.0000 - nephr_acc: 0.7125\n",
            "Epoch 186/1000\n",
            "80/80 [==============================] - 0s 33us/sample - loss: 0.6104 - inflam_loss: 0.0608 - nephr_loss: 0.5496 - inflam_acc: 1.0000 - nephr_acc: 0.7125\n",
            "Epoch 187/1000\n",
            "80/80 [==============================] - 0s 21us/sample - loss: 0.6100 - inflam_loss: 0.0608 - nephr_loss: 0.5492 - inflam_acc: 1.0000 - nephr_acc: 0.7125\n",
            "Epoch 188/1000\n",
            "80/80 [==============================] - 0s 22us/sample - loss: 0.6097 - inflam_loss: 0.0608 - nephr_loss: 0.5489 - inflam_acc: 1.0000 - nephr_acc: 0.7250\n",
            "Epoch 189/1000\n",
            "80/80 [==============================] - 0s 23us/sample - loss: 0.6093 - inflam_loss: 0.0607 - nephr_loss: 0.5486 - inflam_acc: 1.0000 - nephr_acc: 0.7125\n",
            "Epoch 190/1000\n",
            "80/80 [==============================] - 0s 23us/sample - loss: 0.6090 - inflam_loss: 0.0607 - nephr_loss: 0.5483 - inflam_acc: 1.0000 - nephr_acc: 0.7250\n",
            "Epoch 191/1000\n",
            "80/80 [==============================] - 0s 20us/sample - loss: 0.6086 - inflam_loss: 0.0607 - nephr_loss: 0.5480 - inflam_acc: 1.0000 - nephr_acc: 0.7125\n",
            "Epoch 192/1000\n",
            "80/80 [==============================] - 0s 44us/sample - loss: 0.6083 - inflam_loss: 0.0606 - nephr_loss: 0.5477 - inflam_acc: 1.0000 - nephr_acc: 0.7250\n",
            "Epoch 193/1000\n",
            "80/80 [==============================] - 0s 23us/sample - loss: 0.6079 - inflam_loss: 0.0606 - nephr_loss: 0.5473 - inflam_acc: 1.0000 - nephr_acc: 0.7125\n",
            "Epoch 194/1000\n",
            "80/80 [==============================] - 0s 31us/sample - loss: 0.6076 - inflam_loss: 0.0606 - nephr_loss: 0.5470 - inflam_acc: 1.0000 - nephr_acc: 0.7250\n",
            "Epoch 195/1000\n",
            "80/80 [==============================] - 0s 31us/sample - loss: 0.6072 - inflam_loss: 0.0605 - nephr_loss: 0.5467 - inflam_acc: 1.0000 - nephr_acc: 0.7125\n",
            "Epoch 196/1000\n",
            "80/80 [==============================] - 0s 25us/sample - loss: 0.6069 - inflam_loss: 0.0605 - nephr_loss: 0.5464 - inflam_acc: 1.0000 - nephr_acc: 0.7375\n",
            "Epoch 197/1000\n",
            "80/80 [==============================] - 0s 23us/sample - loss: 0.6065 - inflam_loss: 0.0605 - nephr_loss: 0.5461 - inflam_acc: 1.0000 - nephr_acc: 0.7125\n",
            "Epoch 198/1000\n",
            "80/80 [==============================] - 0s 23us/sample - loss: 0.6062 - inflam_loss: 0.0604 - nephr_loss: 0.5457 - inflam_acc: 1.0000 - nephr_acc: 0.7375\n",
            "Epoch 199/1000\n",
            "80/80 [==============================] - 0s 21us/sample - loss: 0.6058 - inflam_loss: 0.0604 - nephr_loss: 0.5454 - inflam_acc: 1.0000 - nephr_acc: 0.7125\n",
            "Epoch 200/1000\n",
            "80/80 [==============================] - 0s 22us/sample - loss: 0.6055 - inflam_loss: 0.0604 - nephr_loss: 0.5451 - inflam_acc: 1.0000 - nephr_acc: 0.7500\n",
            "Epoch 201/1000\n",
            "80/80 [==============================] - 0s 25us/sample - loss: 0.6051 - inflam_loss: 0.0603 - nephr_loss: 0.5448 - inflam_acc: 1.0000 - nephr_acc: 0.7125\n",
            "Epoch 202/1000\n",
            "80/80 [==============================] - 0s 29us/sample - loss: 0.6048 - inflam_loss: 0.0603 - nephr_loss: 0.5445 - inflam_acc: 1.0000 - nephr_acc: 0.7500\n",
            "Epoch 203/1000\n",
            "80/80 [==============================] - 0s 25us/sample - loss: 0.6044 - inflam_loss: 0.0603 - nephr_loss: 0.5442 - inflam_acc: 1.0000 - nephr_acc: 0.7125\n",
            "Epoch 204/1000\n",
            "80/80 [==============================] - 0s 22us/sample - loss: 0.6041 - inflam_loss: 0.0603 - nephr_loss: 0.5438 - inflam_acc: 1.0000 - nephr_acc: 0.7750\n",
            "Epoch 205/1000\n",
            "80/80 [==============================] - 0s 22us/sample - loss: 0.6037 - inflam_loss: 0.0602 - nephr_loss: 0.5435 - inflam_acc: 1.0000 - nephr_acc: 0.7250\n",
            "Epoch 206/1000\n",
            "80/80 [==============================] - 0s 49us/sample - loss: 0.6034 - inflam_loss: 0.0602 - nephr_loss: 0.5432 - inflam_acc: 1.0000 - nephr_acc: 0.7750\n",
            "Epoch 207/1000\n",
            "80/80 [==============================] - 0s 18us/sample - loss: 0.6030 - inflam_loss: 0.0602 - nephr_loss: 0.5429 - inflam_acc: 1.0000 - nephr_acc: 0.7375\n",
            "Epoch 208/1000\n",
            "80/80 [==============================] - 0s 19us/sample - loss: 0.6027 - inflam_loss: 0.0601 - nephr_loss: 0.5426 - inflam_acc: 1.0000 - nephr_acc: 0.7750\n",
            "Epoch 209/1000\n",
            "80/80 [==============================] - 0s 16us/sample - loss: 0.6024 - inflam_loss: 0.0601 - nephr_loss: 0.5423 - inflam_acc: 1.0000 - nephr_acc: 0.7375\n",
            "Epoch 210/1000\n",
            "80/80 [==============================] - 0s 20us/sample - loss: 0.6020 - inflam_loss: 0.0601 - nephr_loss: 0.5419 - inflam_acc: 1.0000 - nephr_acc: 0.8125\n",
            "Epoch 211/1000\n",
            "80/80 [==============================] - 0s 24us/sample - loss: 0.6017 - inflam_loss: 0.0600 - nephr_loss: 0.5416 - inflam_acc: 1.0000 - nephr_acc: 0.7375\n",
            "Epoch 212/1000\n",
            "80/80 [==============================] - 0s 23us/sample - loss: 0.6013 - inflam_loss: 0.0600 - nephr_loss: 0.5413 - inflam_acc: 1.0000 - nephr_acc: 0.8125\n",
            "Epoch 213/1000\n",
            "80/80 [==============================] - 0s 24us/sample - loss: 0.6010 - inflam_loss: 0.0600 - nephr_loss: 0.5410 - inflam_acc: 1.0000 - nephr_acc: 0.7375\n",
            "Epoch 214/1000\n",
            "80/80 [==============================] - 0s 19us/sample - loss: 0.6006 - inflam_loss: 0.0599 - nephr_loss: 0.5407 - inflam_acc: 1.0000 - nephr_acc: 0.8250\n",
            "Epoch 215/1000\n",
            "80/80 [==============================] - 0s 21us/sample - loss: 0.6003 - inflam_loss: 0.0599 - nephr_loss: 0.5404 - inflam_acc: 1.0000 - nephr_acc: 0.7500\n",
            "Epoch 216/1000\n",
            "80/80 [==============================] - 0s 18us/sample - loss: 0.5999 - inflam_loss: 0.0599 - nephr_loss: 0.5401 - inflam_acc: 1.0000 - nephr_acc: 0.8250\n",
            "Epoch 217/1000\n",
            "80/80 [==============================] - 0s 29us/sample - loss: 0.5996 - inflam_loss: 0.0598 - nephr_loss: 0.5397 - inflam_acc: 1.0000 - nephr_acc: 0.7625\n",
            "Epoch 218/1000\n",
            "80/80 [==============================] - 0s 22us/sample - loss: 0.5992 - inflam_loss: 0.0598 - nephr_loss: 0.5394 - inflam_acc: 1.0000 - nephr_acc: 0.8375\n",
            "Epoch 219/1000\n",
            "80/80 [==============================] - 0s 39us/sample - loss: 0.5989 - inflam_loss: 0.0598 - nephr_loss: 0.5391 - inflam_acc: 1.0000 - nephr_acc: 0.7750\n",
            "Epoch 220/1000\n",
            "80/80 [==============================] - 0s 23us/sample - loss: 0.5986 - inflam_loss: 0.0598 - nephr_loss: 0.5388 - inflam_acc: 1.0000 - nephr_acc: 0.8500\n",
            "Epoch 221/1000\n",
            "80/80 [==============================] - 0s 22us/sample - loss: 0.5982 - inflam_loss: 0.0597 - nephr_loss: 0.5385 - inflam_acc: 1.0000 - nephr_acc: 0.7750\n",
            "Epoch 222/1000\n",
            "80/80 [==============================] - 0s 18us/sample - loss: 0.5979 - inflam_loss: 0.0597 - nephr_loss: 0.5382 - inflam_acc: 1.0000 - nephr_acc: 0.8500\n",
            "Epoch 223/1000\n",
            "80/80 [==============================] - 0s 24us/sample - loss: 0.5975 - inflam_loss: 0.0597 - nephr_loss: 0.5379 - inflam_acc: 1.0000 - nephr_acc: 0.7750\n",
            "Epoch 224/1000\n",
            "80/80 [==============================] - 0s 37us/sample - loss: 0.5972 - inflam_loss: 0.0596 - nephr_loss: 0.5375 - inflam_acc: 1.0000 - nephr_acc: 0.8625\n",
            "Epoch 225/1000\n",
            "80/80 [==============================] - 0s 18us/sample - loss: 0.5968 - inflam_loss: 0.0596 - nephr_loss: 0.5372 - inflam_acc: 1.0000 - nephr_acc: 0.7875\n",
            "Epoch 226/1000\n",
            "80/80 [==============================] - 0s 21us/sample - loss: 0.5965 - inflam_loss: 0.0596 - nephr_loss: 0.5369 - inflam_acc: 1.0000 - nephr_acc: 0.8625\n",
            "Epoch 227/1000\n",
            "80/80 [==============================] - 0s 22us/sample - loss: 0.5961 - inflam_loss: 0.0595 - nephr_loss: 0.5366 - inflam_acc: 1.0000 - nephr_acc: 0.7875\n",
            "Epoch 228/1000\n",
            "80/80 [==============================] - 0s 25us/sample - loss: 0.5958 - inflam_loss: 0.0595 - nephr_loss: 0.5363 - inflam_acc: 1.0000 - nephr_acc: 0.8750\n",
            "Epoch 229/1000\n",
            "80/80 [==============================] - 0s 26us/sample - loss: 0.5955 - inflam_loss: 0.0595 - nephr_loss: 0.5360 - inflam_acc: 1.0000 - nephr_acc: 0.7875\n",
            "Epoch 230/1000\n",
            "80/80 [==============================] - 0s 20us/sample - loss: 0.5951 - inflam_loss: 0.0594 - nephr_loss: 0.5357 - inflam_acc: 1.0000 - nephr_acc: 0.8750\n",
            "Epoch 231/1000\n",
            "80/80 [==============================] - 0s 18us/sample - loss: 0.5948 - inflam_loss: 0.0594 - nephr_loss: 0.5354 - inflam_acc: 1.0000 - nephr_acc: 0.7875\n",
            "Epoch 232/1000\n",
            "80/80 [==============================] - 0s 31us/sample - loss: 0.5944 - inflam_loss: 0.0594 - nephr_loss: 0.5351 - inflam_acc: 1.0000 - nephr_acc: 0.8750\n",
            "Epoch 233/1000\n",
            "80/80 [==============================] - 0s 28us/sample - loss: 0.5941 - inflam_loss: 0.0594 - nephr_loss: 0.5347 - inflam_acc: 1.0000 - nephr_acc: 0.7875\n",
            "Epoch 234/1000\n",
            "80/80 [==============================] - 0s 20us/sample - loss: 0.5938 - inflam_loss: 0.0593 - nephr_loss: 0.5344 - inflam_acc: 1.0000 - nephr_acc: 0.8750\n",
            "Epoch 235/1000\n",
            "80/80 [==============================] - 0s 17us/sample - loss: 0.5934 - inflam_loss: 0.0593 - nephr_loss: 0.5341 - inflam_acc: 1.0000 - nephr_acc: 0.8000\n",
            "Epoch 236/1000\n",
            "80/80 [==============================] - 0s 20us/sample - loss: 0.5931 - inflam_loss: 0.0593 - nephr_loss: 0.5338 - inflam_acc: 1.0000 - nephr_acc: 0.8750\n",
            "Epoch 237/1000\n",
            "80/80 [==============================] - 0s 23us/sample - loss: 0.5927 - inflam_loss: 0.0592 - nephr_loss: 0.5335 - inflam_acc: 1.0000 - nephr_acc: 0.8000\n",
            "Epoch 238/1000\n",
            "80/80 [==============================] - 0s 20us/sample - loss: 0.5924 - inflam_loss: 0.0592 - nephr_loss: 0.5332 - inflam_acc: 1.0000 - nephr_acc: 0.8875\n",
            "Epoch 239/1000\n",
            "80/80 [==============================] - 0s 19us/sample - loss: 0.5920 - inflam_loss: 0.0592 - nephr_loss: 0.5329 - inflam_acc: 1.0000 - nephr_acc: 0.8000\n",
            "Epoch 240/1000\n",
            "80/80 [==============================] - 0s 17us/sample - loss: 0.5917 - inflam_loss: 0.0591 - nephr_loss: 0.5326 - inflam_acc: 1.0000 - nephr_acc: 0.8875\n",
            "Epoch 241/1000\n",
            "80/80 [==============================] - 0s 19us/sample - loss: 0.5914 - inflam_loss: 0.0591 - nephr_loss: 0.5323 - inflam_acc: 1.0000 - nephr_acc: 0.8125\n",
            "Epoch 242/1000\n",
            "80/80 [==============================] - 0s 22us/sample - loss: 0.5910 - inflam_loss: 0.0591 - nephr_loss: 0.5319 - inflam_acc: 1.0000 - nephr_acc: 0.8875\n",
            "Epoch 243/1000\n",
            "80/80 [==============================] - 0s 22us/sample - loss: 0.5907 - inflam_loss: 0.0590 - nephr_loss: 0.5316 - inflam_acc: 1.0000 - nephr_acc: 0.8125\n",
            "Epoch 244/1000\n",
            "80/80 [==============================] - 0s 21us/sample - loss: 0.5903 - inflam_loss: 0.0590 - nephr_loss: 0.5313 - inflam_acc: 1.0000 - nephr_acc: 0.8875\n",
            "Epoch 245/1000\n",
            "80/80 [==============================] - 0s 26us/sample - loss: 0.5900 - inflam_loss: 0.0590 - nephr_loss: 0.5310 - inflam_acc: 1.0000 - nephr_acc: 0.8125\n",
            "Epoch 246/1000\n",
            "80/80 [==============================] - 0s 31us/sample - loss: 0.5897 - inflam_loss: 0.0590 - nephr_loss: 0.5307 - inflam_acc: 1.0000 - nephr_acc: 0.9000\n",
            "Epoch 247/1000\n",
            "80/80 [==============================] - 0s 21us/sample - loss: 0.5893 - inflam_loss: 0.0589 - nephr_loss: 0.5304 - inflam_acc: 1.0000 - nephr_acc: 0.8125\n",
            "Epoch 248/1000\n",
            "80/80 [==============================] - 0s 23us/sample - loss: 0.5890 - inflam_loss: 0.0589 - nephr_loss: 0.5301 - inflam_acc: 1.0000 - nephr_acc: 0.9000\n",
            "Epoch 249/1000\n",
            "80/80 [==============================] - 0s 21us/sample - loss: 0.5887 - inflam_loss: 0.0589 - nephr_loss: 0.5298 - inflam_acc: 1.0000 - nephr_acc: 0.8250\n",
            "Epoch 250/1000\n",
            "80/80 [==============================] - 0s 23us/sample - loss: 0.5883 - inflam_loss: 0.0588 - nephr_loss: 0.5295 - inflam_acc: 1.0000 - nephr_acc: 0.9000\n",
            "Epoch 251/1000\n",
            "80/80 [==============================] - 0s 23us/sample - loss: 0.5880 - inflam_loss: 0.0588 - nephr_loss: 0.5292 - inflam_acc: 1.0000 - nephr_acc: 0.8250\n",
            "Epoch 252/1000\n",
            "80/80 [==============================] - 0s 24us/sample - loss: 0.5876 - inflam_loss: 0.0588 - nephr_loss: 0.5289 - inflam_acc: 1.0000 - nephr_acc: 0.9000\n",
            "Epoch 253/1000\n",
            "80/80 [==============================] - 0s 21us/sample - loss: 0.5873 - inflam_loss: 0.0587 - nephr_loss: 0.5286 - inflam_acc: 1.0000 - nephr_acc: 0.8250\n",
            "Epoch 254/1000\n",
            "80/80 [==============================] - 0s 27us/sample - loss: 0.5870 - inflam_loss: 0.0587 - nephr_loss: 0.5282 - inflam_acc: 1.0000 - nephr_acc: 0.9000\n",
            "Epoch 255/1000\n",
            "80/80 [==============================] - 0s 25us/sample - loss: 0.5866 - inflam_loss: 0.0587 - nephr_loss: 0.5279 - inflam_acc: 1.0000 - nephr_acc: 0.8250\n",
            "Epoch 256/1000\n",
            "80/80 [==============================] - 0s 22us/sample - loss: 0.5863 - inflam_loss: 0.0587 - nephr_loss: 0.5276 - inflam_acc: 1.0000 - nephr_acc: 0.9000\n",
            "Epoch 257/1000\n",
            "80/80 [==============================] - 0s 19us/sample - loss: 0.5859 - inflam_loss: 0.0586 - nephr_loss: 0.5273 - inflam_acc: 1.0000 - nephr_acc: 0.8375\n",
            "Epoch 258/1000\n",
            "80/80 [==============================] - 0s 21us/sample - loss: 0.5856 - inflam_loss: 0.0586 - nephr_loss: 0.5270 - inflam_acc: 1.0000 - nephr_acc: 0.9000\n",
            "Epoch 259/1000\n",
            "80/80 [==============================] - 0s 27us/sample - loss: 0.5853 - inflam_loss: 0.0586 - nephr_loss: 0.5267 - inflam_acc: 1.0000 - nephr_acc: 0.8375\n",
            "Epoch 260/1000\n",
            "80/80 [==============================] - 0s 40us/sample - loss: 0.5849 - inflam_loss: 0.0585 - nephr_loss: 0.5264 - inflam_acc: 1.0000 - nephr_acc: 0.9000\n",
            "Epoch 261/1000\n",
            "80/80 [==============================] - 0s 27us/sample - loss: 0.5846 - inflam_loss: 0.0585 - nephr_loss: 0.5261 - inflam_acc: 1.0000 - nephr_acc: 0.8375\n",
            "Epoch 262/1000\n",
            "80/80 [==============================] - 0s 30us/sample - loss: 0.5843 - inflam_loss: 0.0585 - nephr_loss: 0.5258 - inflam_acc: 1.0000 - nephr_acc: 0.9000\n",
            "Epoch 263/1000\n",
            "80/80 [==============================] - 0s 21us/sample - loss: 0.5839 - inflam_loss: 0.0584 - nephr_loss: 0.5255 - inflam_acc: 1.0000 - nephr_acc: 0.8375\n",
            "Epoch 264/1000\n",
            "80/80 [==============================] - 0s 19us/sample - loss: 0.5836 - inflam_loss: 0.0584 - nephr_loss: 0.5252 - inflam_acc: 1.0000 - nephr_acc: 0.9000\n",
            "Epoch 265/1000\n",
            "80/80 [==============================] - 0s 21us/sample - loss: 0.5833 - inflam_loss: 0.0584 - nephr_loss: 0.5249 - inflam_acc: 1.0000 - nephr_acc: 0.8375\n",
            "Epoch 266/1000\n",
            "80/80 [==============================] - 0s 25us/sample - loss: 0.5829 - inflam_loss: 0.0584 - nephr_loss: 0.5246 - inflam_acc: 1.0000 - nephr_acc: 0.9000\n",
            "Epoch 267/1000\n",
            "80/80 [==============================] - 0s 21us/sample - loss: 0.5826 - inflam_loss: 0.0583 - nephr_loss: 0.5243 - inflam_acc: 1.0000 - nephr_acc: 0.8500\n",
            "Epoch 268/1000\n",
            "80/80 [==============================] - 0s 25us/sample - loss: 0.5823 - inflam_loss: 0.0583 - nephr_loss: 0.5240 - inflam_acc: 1.0000 - nephr_acc: 0.9000\n",
            "Epoch 269/1000\n",
            "80/80 [==============================] - 0s 18us/sample - loss: 0.5819 - inflam_loss: 0.0583 - nephr_loss: 0.5237 - inflam_acc: 1.0000 - nephr_acc: 0.8625\n",
            "Epoch 270/1000\n",
            "80/80 [==============================] - 0s 23us/sample - loss: 0.5816 - inflam_loss: 0.0582 - nephr_loss: 0.5234 - inflam_acc: 1.0000 - nephr_acc: 0.9000\n",
            "Epoch 271/1000\n",
            "80/80 [==============================] - 0s 34us/sample - loss: 0.5812 - inflam_loss: 0.0582 - nephr_loss: 0.5230 - inflam_acc: 1.0000 - nephr_acc: 0.8625\n",
            "Epoch 272/1000\n",
            "80/80 [==============================] - 0s 24us/sample - loss: 0.5809 - inflam_loss: 0.0582 - nephr_loss: 0.5227 - inflam_acc: 1.0000 - nephr_acc: 0.9000\n",
            "Epoch 273/1000\n",
            "80/80 [==============================] - 0s 24us/sample - loss: 0.5806 - inflam_loss: 0.0581 - nephr_loss: 0.5224 - inflam_acc: 1.0000 - nephr_acc: 0.8625\n",
            "Epoch 274/1000\n",
            "80/80 [==============================] - 0s 28us/sample - loss: 0.5802 - inflam_loss: 0.0581 - nephr_loss: 0.5221 - inflam_acc: 1.0000 - nephr_acc: 0.9000\n",
            "Epoch 275/1000\n",
            "80/80 [==============================] - 0s 20us/sample - loss: 0.5799 - inflam_loss: 0.0581 - nephr_loss: 0.5218 - inflam_acc: 1.0000 - nephr_acc: 0.8750\n",
            "Epoch 276/1000\n",
            "80/80 [==============================] - 0s 27us/sample - loss: 0.5796 - inflam_loss: 0.0581 - nephr_loss: 0.5215 - inflam_acc: 1.0000 - nephr_acc: 0.9000\n",
            "Epoch 277/1000\n",
            "80/80 [==============================] - 0s 21us/sample - loss: 0.5792 - inflam_loss: 0.0580 - nephr_loss: 0.5212 - inflam_acc: 1.0000 - nephr_acc: 0.8750\n",
            "Epoch 278/1000\n",
            "80/80 [==============================] - 0s 30us/sample - loss: 0.5789 - inflam_loss: 0.0580 - nephr_loss: 0.5209 - inflam_acc: 1.0000 - nephr_acc: 0.9000\n",
            "Epoch 279/1000\n",
            "80/80 [==============================] - 0s 18us/sample - loss: 0.5786 - inflam_loss: 0.0580 - nephr_loss: 0.5206 - inflam_acc: 1.0000 - nephr_acc: 0.8750\n",
            "Epoch 280/1000\n",
            "80/80 [==============================] - 0s 49us/sample - loss: 0.5782 - inflam_loss: 0.0579 - nephr_loss: 0.5203 - inflam_acc: 1.0000 - nephr_acc: 0.9000\n",
            "Epoch 281/1000\n",
            "80/80 [==============================] - 0s 19us/sample - loss: 0.5779 - inflam_loss: 0.0579 - nephr_loss: 0.5200 - inflam_acc: 1.0000 - nephr_acc: 0.8750\n",
            "Epoch 282/1000\n",
            "80/80 [==============================] - 0s 16us/sample - loss: 0.5776 - inflam_loss: 0.0579 - nephr_loss: 0.5197 - inflam_acc: 1.0000 - nephr_acc: 0.9000\n",
            "Epoch 283/1000\n",
            "80/80 [==============================] - 0s 19us/sample - loss: 0.5773 - inflam_loss: 0.0578 - nephr_loss: 0.5194 - inflam_acc: 1.0000 - nephr_acc: 0.8750\n",
            "Epoch 284/1000\n",
            "80/80 [==============================] - 0s 16us/sample - loss: 0.5769 - inflam_loss: 0.0578 - nephr_loss: 0.5191 - inflam_acc: 1.0000 - nephr_acc: 0.9000\n",
            "Epoch 285/1000\n",
            "80/80 [==============================] - 0s 21us/sample - loss: 0.5766 - inflam_loss: 0.0578 - nephr_loss: 0.5188 - inflam_acc: 1.0000 - nephr_acc: 0.8875\n",
            "Epoch 286/1000\n",
            "80/80 [==============================] - 0s 18us/sample - loss: 0.5763 - inflam_loss: 0.0578 - nephr_loss: 0.5185 - inflam_acc: 1.0000 - nephr_acc: 0.9000\n",
            "Epoch 287/1000\n",
            "80/80 [==============================] - 0s 19us/sample - loss: 0.5759 - inflam_loss: 0.0577 - nephr_loss: 0.5182 - inflam_acc: 1.0000 - nephr_acc: 0.8875\n",
            "Epoch 288/1000\n",
            "80/80 [==============================] - 0s 18us/sample - loss: 0.5756 - inflam_loss: 0.0577 - nephr_loss: 0.5179 - inflam_acc: 1.0000 - nephr_acc: 0.9000\n",
            "Epoch 289/1000\n",
            "80/80 [==============================] - 0s 28us/sample - loss: 0.5753 - inflam_loss: 0.0577 - nephr_loss: 0.5176 - inflam_acc: 1.0000 - nephr_acc: 0.8875\n",
            "Epoch 290/1000\n",
            "80/80 [==============================] - 0s 33us/sample - loss: 0.5749 - inflam_loss: 0.0576 - nephr_loss: 0.5173 - inflam_acc: 1.0000 - nephr_acc: 0.9000\n",
            "Epoch 291/1000\n",
            "80/80 [==============================] - 0s 26us/sample - loss: 0.5746 - inflam_loss: 0.0576 - nephr_loss: 0.5170 - inflam_acc: 1.0000 - nephr_acc: 0.9000\n",
            "Epoch 292/1000\n",
            "80/80 [==============================] - 0s 19us/sample - loss: 0.5743 - inflam_loss: 0.0576 - nephr_loss: 0.5167 - inflam_acc: 1.0000 - nephr_acc: 0.9000\n",
            "Epoch 293/1000\n",
            "80/80 [==============================] - 0s 29us/sample - loss: 0.5739 - inflam_loss: 0.0575 - nephr_loss: 0.5164 - inflam_acc: 1.0000 - nephr_acc: 0.9000\n",
            "Epoch 294/1000\n",
            "80/80 [==============================] - 0s 28us/sample - loss: 0.5736 - inflam_loss: 0.0575 - nephr_loss: 0.5161 - inflam_acc: 1.0000 - nephr_acc: 0.9000\n",
            "Epoch 295/1000\n",
            "80/80 [==============================] - 0s 20us/sample - loss: 0.5733 - inflam_loss: 0.0575 - nephr_loss: 0.5158 - inflam_acc: 1.0000 - nephr_acc: 0.9000\n",
            "Epoch 296/1000\n",
            "80/80 [==============================] - 0s 21us/sample - loss: 0.5730 - inflam_loss: 0.0575 - nephr_loss: 0.5155 - inflam_acc: 1.0000 - nephr_acc: 0.9000\n",
            "Epoch 297/1000\n",
            "80/80 [==============================] - 0s 29us/sample - loss: 0.5726 - inflam_loss: 0.0574 - nephr_loss: 0.5152 - inflam_acc: 1.0000 - nephr_acc: 0.9000\n",
            "Epoch 298/1000\n",
            "80/80 [==============================] - 0s 17us/sample - loss: 0.5723 - inflam_loss: 0.0574 - nephr_loss: 0.5149 - inflam_acc: 1.0000 - nephr_acc: 0.9000\n",
            "Epoch 299/1000\n",
            "80/80 [==============================] - 0s 36us/sample - loss: 0.5720 - inflam_loss: 0.0574 - nephr_loss: 0.5146 - inflam_acc: 1.0000 - nephr_acc: 0.9000\n",
            "Epoch 300/1000\n",
            "80/80 [==============================] - 0s 21us/sample - loss: 0.5716 - inflam_loss: 0.0573 - nephr_loss: 0.5143 - inflam_acc: 1.0000 - nephr_acc: 0.9000\n",
            "Epoch 301/1000\n",
            "80/80 [==============================] - 0s 20us/sample - loss: 0.5713 - inflam_loss: 0.0573 - nephr_loss: 0.5140 - inflam_acc: 1.0000 - nephr_acc: 0.9000\n",
            "Epoch 302/1000\n",
            "80/80 [==============================] - 0s 23us/sample - loss: 0.5710 - inflam_loss: 0.0573 - nephr_loss: 0.5137 - inflam_acc: 1.0000 - nephr_acc: 0.9000\n",
            "Epoch 303/1000\n",
            "80/80 [==============================] - 0s 21us/sample - loss: 0.5707 - inflam_loss: 0.0572 - nephr_loss: 0.5134 - inflam_acc: 1.0000 - nephr_acc: 0.9000\n",
            "Epoch 304/1000\n",
            "80/80 [==============================] - 0s 23us/sample - loss: 0.5703 - inflam_loss: 0.0572 - nephr_loss: 0.5131 - inflam_acc: 1.0000 - nephr_acc: 0.9000\n",
            "Epoch 305/1000\n",
            "80/80 [==============================] - 0s 20us/sample - loss: 0.5700 - inflam_loss: 0.0572 - nephr_loss: 0.5128 - inflam_acc: 1.0000 - nephr_acc: 0.9000\n",
            "Epoch 306/1000\n",
            "80/80 [==============================] - 0s 21us/sample - loss: 0.5697 - inflam_loss: 0.0572 - nephr_loss: 0.5125 - inflam_acc: 1.0000 - nephr_acc: 0.9000\n",
            "Epoch 307/1000\n",
            "80/80 [==============================] - 0s 19us/sample - loss: 0.5693 - inflam_loss: 0.0571 - nephr_loss: 0.5122 - inflam_acc: 1.0000 - nephr_acc: 0.9000\n",
            "Epoch 308/1000\n",
            "80/80 [==============================] - 0s 23us/sample - loss: 0.5690 - inflam_loss: 0.0571 - nephr_loss: 0.5119 - inflam_acc: 1.0000 - nephr_acc: 0.9000\n",
            "Epoch 309/1000\n",
            "80/80 [==============================] - 0s 37us/sample - loss: 0.5687 - inflam_loss: 0.0571 - nephr_loss: 0.5116 - inflam_acc: 1.0000 - nephr_acc: 0.9000\n",
            "Epoch 310/1000\n",
            "80/80 [==============================] - 0s 28us/sample - loss: 0.5684 - inflam_loss: 0.0570 - nephr_loss: 0.5113 - inflam_acc: 1.0000 - nephr_acc: 0.9000\n",
            "Epoch 311/1000\n",
            "80/80 [==============================] - 0s 15us/sample - loss: 0.5680 - inflam_loss: 0.0570 - nephr_loss: 0.5110 - inflam_acc: 1.0000 - nephr_acc: 0.9000\n",
            "Epoch 312/1000\n",
            "80/80 [==============================] - 0s 25us/sample - loss: 0.5677 - inflam_loss: 0.0570 - nephr_loss: 0.5107 - inflam_acc: 1.0000 - nephr_acc: 0.9000\n",
            "Epoch 313/1000\n",
            "80/80 [==============================] - 0s 50us/sample - loss: 0.5674 - inflam_loss: 0.0570 - nephr_loss: 0.5104 - inflam_acc: 1.0000 - nephr_acc: 0.9000\n",
            "Epoch 314/1000\n",
            "80/80 [==============================] - 0s 23us/sample - loss: 0.5671 - inflam_loss: 0.0569 - nephr_loss: 0.5101 - inflam_acc: 1.0000 - nephr_acc: 0.9000\n",
            "Epoch 315/1000\n",
            "80/80 [==============================] - 0s 20us/sample - loss: 0.5667 - inflam_loss: 0.0569 - nephr_loss: 0.5098 - inflam_acc: 1.0000 - nephr_acc: 0.9000\n",
            "Epoch 316/1000\n",
            "80/80 [==============================] - 0s 22us/sample - loss: 0.5664 - inflam_loss: 0.0569 - nephr_loss: 0.5095 - inflam_acc: 1.0000 - nephr_acc: 0.9000\n",
            "Epoch 317/1000\n",
            "80/80 [==============================] - 0s 21us/sample - loss: 0.5661 - inflam_loss: 0.0568 - nephr_loss: 0.5092 - inflam_acc: 1.0000 - nephr_acc: 0.9000\n",
            "Epoch 318/1000\n",
            "80/80 [==============================] - 0s 33us/sample - loss: 0.5658 - inflam_loss: 0.0568 - nephr_loss: 0.5089 - inflam_acc: 1.0000 - nephr_acc: 0.9000\n",
            "Epoch 319/1000\n",
            "80/80 [==============================] - 0s 16us/sample - loss: 0.5654 - inflam_loss: 0.0568 - nephr_loss: 0.5086 - inflam_acc: 1.0000 - nephr_acc: 0.9000\n",
            "Epoch 320/1000\n",
            "80/80 [==============================] - 0s 18us/sample - loss: 0.5651 - inflam_loss: 0.0567 - nephr_loss: 0.5084 - inflam_acc: 1.0000 - nephr_acc: 0.9000\n",
            "Epoch 321/1000\n",
            "80/80 [==============================] - 0s 25us/sample - loss: 0.5648 - inflam_loss: 0.0567 - nephr_loss: 0.5081 - inflam_acc: 1.0000 - nephr_acc: 0.9000\n",
            "Epoch 322/1000\n",
            "80/80 [==============================] - 0s 24us/sample - loss: 0.5645 - inflam_loss: 0.0567 - nephr_loss: 0.5078 - inflam_acc: 1.0000 - nephr_acc: 0.9000\n",
            "Epoch 323/1000\n",
            "80/80 [==============================] - 0s 21us/sample - loss: 0.5641 - inflam_loss: 0.0567 - nephr_loss: 0.5075 - inflam_acc: 1.0000 - nephr_acc: 0.9000\n",
            "Epoch 324/1000\n",
            "80/80 [==============================] - 0s 22us/sample - loss: 0.5638 - inflam_loss: 0.0566 - nephr_loss: 0.5072 - inflam_acc: 1.0000 - nephr_acc: 0.9000\n",
            "Epoch 325/1000\n",
            "80/80 [==============================] - 0s 23us/sample - loss: 0.5635 - inflam_loss: 0.0566 - nephr_loss: 0.5069 - inflam_acc: 1.0000 - nephr_acc: 0.9000\n",
            "Epoch 326/1000\n",
            "80/80 [==============================] - 0s 29us/sample - loss: 0.5632 - inflam_loss: 0.0566 - nephr_loss: 0.5066 - inflam_acc: 1.0000 - nephr_acc: 0.9000\n",
            "Epoch 327/1000\n",
            "80/80 [==============================] - 0s 35us/sample - loss: 0.5628 - inflam_loss: 0.0565 - nephr_loss: 0.5063 - inflam_acc: 1.0000 - nephr_acc: 0.9000\n",
            "Epoch 328/1000\n",
            "80/80 [==============================] - 0s 22us/sample - loss: 0.5625 - inflam_loss: 0.0565 - nephr_loss: 0.5060 - inflam_acc: 1.0000 - nephr_acc: 0.9000\n",
            "Epoch 329/1000\n",
            "80/80 [==============================] - 0s 21us/sample - loss: 0.5622 - inflam_loss: 0.0565 - nephr_loss: 0.5057 - inflam_acc: 1.0000 - nephr_acc: 0.9000\n",
            "Epoch 330/1000\n",
            "80/80 [==============================] - 0s 23us/sample - loss: 0.5619 - inflam_loss: 0.0565 - nephr_loss: 0.5054 - inflam_acc: 1.0000 - nephr_acc: 0.9000\n",
            "Epoch 331/1000\n",
            "80/80 [==============================] - 0s 21us/sample - loss: 0.5615 - inflam_loss: 0.0564 - nephr_loss: 0.5051 - inflam_acc: 1.0000 - nephr_acc: 0.9000\n",
            "Epoch 332/1000\n",
            "80/80 [==============================] - 0s 18us/sample - loss: 0.5612 - inflam_loss: 0.0564 - nephr_loss: 0.5048 - inflam_acc: 1.0000 - nephr_acc: 0.9000\n",
            "Epoch 333/1000\n",
            "80/80 [==============================] - 0s 20us/sample - loss: 0.5609 - inflam_loss: 0.0564 - nephr_loss: 0.5045 - inflam_acc: 1.0000 - nephr_acc: 0.9000\n",
            "Epoch 334/1000\n",
            "80/80 [==============================] - 0s 18us/sample - loss: 0.5606 - inflam_loss: 0.0563 - nephr_loss: 0.5042 - inflam_acc: 1.0000 - nephr_acc: 0.9000\n",
            "Epoch 335/1000\n",
            "80/80 [==============================] - 0s 18us/sample - loss: 0.5603 - inflam_loss: 0.0563 - nephr_loss: 0.5039 - inflam_acc: 1.0000 - nephr_acc: 0.9000\n",
            "Epoch 336/1000\n",
            "80/80 [==============================] - 0s 23us/sample - loss: 0.5599 - inflam_loss: 0.0563 - nephr_loss: 0.5036 - inflam_acc: 1.0000 - nephr_acc: 0.9000\n",
            "Epoch 337/1000\n",
            "80/80 [==============================] - 0s 24us/sample - loss: 0.5596 - inflam_loss: 0.0563 - nephr_loss: 0.5034 - inflam_acc: 1.0000 - nephr_acc: 0.9000\n",
            "Epoch 338/1000\n",
            "80/80 [==============================] - 0s 23us/sample - loss: 0.5593 - inflam_loss: 0.0562 - nephr_loss: 0.5031 - inflam_acc: 1.0000 - nephr_acc: 0.9000\n",
            "Epoch 339/1000\n",
            "80/80 [==============================] - 0s 22us/sample - loss: 0.5590 - inflam_loss: 0.0562 - nephr_loss: 0.5028 - inflam_acc: 1.0000 - nephr_acc: 0.9000\n",
            "Epoch 340/1000\n",
            "80/80 [==============================] - 0s 22us/sample - loss: 0.5586 - inflam_loss: 0.0562 - nephr_loss: 0.5025 - inflam_acc: 1.0000 - nephr_acc: 0.9000\n",
            "Epoch 341/1000\n",
            "80/80 [==============================] - 0s 24us/sample - loss: 0.5583 - inflam_loss: 0.0561 - nephr_loss: 0.5022 - inflam_acc: 1.0000 - nephr_acc: 0.9000\n",
            "Epoch 342/1000\n",
            "80/80 [==============================] - 0s 21us/sample - loss: 0.5580 - inflam_loss: 0.0561 - nephr_loss: 0.5019 - inflam_acc: 1.0000 - nephr_acc: 0.9000\n",
            "Epoch 343/1000\n",
            "80/80 [==============================] - 0s 17us/sample - loss: 0.5577 - inflam_loss: 0.0561 - nephr_loss: 0.5016 - inflam_acc: 1.0000 - nephr_acc: 0.9000\n",
            "Epoch 344/1000\n",
            "80/80 [==============================] - 0s 27us/sample - loss: 0.5574 - inflam_loss: 0.0561 - nephr_loss: 0.5013 - inflam_acc: 1.0000 - nephr_acc: 0.9000\n",
            "Epoch 345/1000\n",
            "80/80 [==============================] - 0s 21us/sample - loss: 0.5570 - inflam_loss: 0.0560 - nephr_loss: 0.5010 - inflam_acc: 1.0000 - nephr_acc: 0.9000\n",
            "Epoch 346/1000\n",
            "80/80 [==============================] - 0s 26us/sample - loss: 0.5567 - inflam_loss: 0.0560 - nephr_loss: 0.5007 - inflam_acc: 1.0000 - nephr_acc: 0.9000\n",
            "Epoch 347/1000\n",
            "80/80 [==============================] - 0s 25us/sample - loss: 0.5564 - inflam_loss: 0.0560 - nephr_loss: 0.5004 - inflam_acc: 1.0000 - nephr_acc: 0.9000\n",
            "Epoch 348/1000\n",
            "80/80 [==============================] - 0s 27us/sample - loss: 0.5561 - inflam_loss: 0.0559 - nephr_loss: 0.5001 - inflam_acc: 1.0000 - nephr_acc: 0.9000\n",
            "Epoch 349/1000\n",
            "80/80 [==============================] - 0s 24us/sample - loss: 0.5558 - inflam_loss: 0.0559 - nephr_loss: 0.4999 - inflam_acc: 1.0000 - nephr_acc: 0.9000\n",
            "Epoch 350/1000\n",
            "80/80 [==============================] - 0s 23us/sample - loss: 0.5554 - inflam_loss: 0.0559 - nephr_loss: 0.4996 - inflam_acc: 1.0000 - nephr_acc: 0.9000\n",
            "Epoch 351/1000\n",
            "80/80 [==============================] - 0s 30us/sample - loss: 0.5551 - inflam_loss: 0.0558 - nephr_loss: 0.4993 - inflam_acc: 1.0000 - nephr_acc: 0.9000\n",
            "Epoch 352/1000\n",
            "80/80 [==============================] - 0s 24us/sample - loss: 0.5548 - inflam_loss: 0.0558 - nephr_loss: 0.4990 - inflam_acc: 1.0000 - nephr_acc: 0.9000\n",
            "Epoch 353/1000\n",
            "80/80 [==============================] - 0s 22us/sample - loss: 0.5545 - inflam_loss: 0.0558 - nephr_loss: 0.4987 - inflam_acc: 1.0000 - nephr_acc: 0.9000\n",
            "Epoch 354/1000\n",
            "80/80 [==============================] - 0s 29us/sample - loss: 0.5542 - inflam_loss: 0.0558 - nephr_loss: 0.4984 - inflam_acc: 1.0000 - nephr_acc: 0.9000\n",
            "Epoch 355/1000\n",
            "80/80 [==============================] - 0s 21us/sample - loss: 0.5539 - inflam_loss: 0.0557 - nephr_loss: 0.4981 - inflam_acc: 1.0000 - nephr_acc: 0.9000\n",
            "Epoch 356/1000\n",
            "80/80 [==============================] - 0s 27us/sample - loss: 0.5535 - inflam_loss: 0.0557 - nephr_loss: 0.4978 - inflam_acc: 1.0000 - nephr_acc: 0.9000\n",
            "Epoch 357/1000\n",
            "80/80 [==============================] - 0s 26us/sample - loss: 0.5532 - inflam_loss: 0.0557 - nephr_loss: 0.4975 - inflam_acc: 1.0000 - nephr_acc: 0.9000\n",
            "Epoch 358/1000\n",
            "80/80 [==============================] - 0s 25us/sample - loss: 0.5529 - inflam_loss: 0.0556 - nephr_loss: 0.4972 - inflam_acc: 1.0000 - nephr_acc: 0.9000\n",
            "Epoch 359/1000\n",
            "80/80 [==============================] - 0s 22us/sample - loss: 0.5526 - inflam_loss: 0.0556 - nephr_loss: 0.4970 - inflam_acc: 1.0000 - nephr_acc: 0.9000\n",
            "Epoch 360/1000\n",
            "80/80 [==============================] - 0s 19us/sample - loss: 0.5523 - inflam_loss: 0.0556 - nephr_loss: 0.4967 - inflam_acc: 1.0000 - nephr_acc: 0.9000\n",
            "Epoch 361/1000\n",
            "80/80 [==============================] - 0s 24us/sample - loss: 0.5519 - inflam_loss: 0.0556 - nephr_loss: 0.4964 - inflam_acc: 1.0000 - nephr_acc: 0.9000\n",
            "Epoch 362/1000\n",
            "80/80 [==============================] - 0s 37us/sample - loss: 0.5516 - inflam_loss: 0.0555 - nephr_loss: 0.4961 - inflam_acc: 1.0000 - nephr_acc: 0.9000\n",
            "Epoch 363/1000\n",
            "80/80 [==============================] - 0s 24us/sample - loss: 0.5513 - inflam_loss: 0.0555 - nephr_loss: 0.4958 - inflam_acc: 1.0000 - nephr_acc: 0.9000\n",
            "Epoch 364/1000\n",
            "80/80 [==============================] - 0s 19us/sample - loss: 0.5510 - inflam_loss: 0.0555 - nephr_loss: 0.4955 - inflam_acc: 1.0000 - nephr_acc: 0.9000\n",
            "Epoch 365/1000\n",
            "80/80 [==============================] - 0s 24us/sample - loss: 0.5507 - inflam_loss: 0.0554 - nephr_loss: 0.4952 - inflam_acc: 1.0000 - nephr_acc: 0.9000\n",
            "Epoch 366/1000\n",
            "80/80 [==============================] - 0s 25us/sample - loss: 0.5504 - inflam_loss: 0.0554 - nephr_loss: 0.4949 - inflam_acc: 1.0000 - nephr_acc: 0.9000\n",
            "Epoch 367/1000\n",
            "80/80 [==============================] - 0s 22us/sample - loss: 0.5500 - inflam_loss: 0.0554 - nephr_loss: 0.4947 - inflam_acc: 1.0000 - nephr_acc: 0.9000\n",
            "Epoch 368/1000\n",
            "80/80 [==============================] - 0s 25us/sample - loss: 0.5497 - inflam_loss: 0.0554 - nephr_loss: 0.4944 - inflam_acc: 1.0000 - nephr_acc: 0.9000\n",
            "Epoch 369/1000\n",
            "80/80 [==============================] - 0s 22us/sample - loss: 0.5494 - inflam_loss: 0.0553 - nephr_loss: 0.4941 - inflam_acc: 1.0000 - nephr_acc: 0.9000\n",
            "Epoch 370/1000\n",
            "80/80 [==============================] - 0s 22us/sample - loss: 0.5491 - inflam_loss: 0.0553 - nephr_loss: 0.4938 - inflam_acc: 1.0000 - nephr_acc: 0.9000\n",
            "Epoch 371/1000\n",
            "80/80 [==============================] - 0s 21us/sample - loss: 0.5488 - inflam_loss: 0.0553 - nephr_loss: 0.4935 - inflam_acc: 1.0000 - nephr_acc: 0.9000\n",
            "Epoch 372/1000\n",
            "80/80 [==============================] - 0s 24us/sample - loss: 0.5485 - inflam_loss: 0.0552 - nephr_loss: 0.4932 - inflam_acc: 1.0000 - nephr_acc: 0.9000\n",
            "Epoch 373/1000\n",
            "80/80 [==============================] - 0s 28us/sample - loss: 0.5482 - inflam_loss: 0.0552 - nephr_loss: 0.4929 - inflam_acc: 1.0000 - nephr_acc: 0.9000\n",
            "Epoch 374/1000\n",
            "80/80 [==============================] - 0s 19us/sample - loss: 0.5478 - inflam_loss: 0.0552 - nephr_loss: 0.4926 - inflam_acc: 1.0000 - nephr_acc: 0.9000\n",
            "Epoch 375/1000\n",
            "80/80 [==============================] - 0s 20us/sample - loss: 0.5475 - inflam_loss: 0.0552 - nephr_loss: 0.4924 - inflam_acc: 1.0000 - nephr_acc: 0.9000\n",
            "Epoch 376/1000\n",
            "80/80 [==============================] - 0s 24us/sample - loss: 0.5472 - inflam_loss: 0.0551 - nephr_loss: 0.4921 - inflam_acc: 1.0000 - nephr_acc: 0.9000\n",
            "Epoch 377/1000\n",
            "80/80 [==============================] - 0s 22us/sample - loss: 0.5469 - inflam_loss: 0.0551 - nephr_loss: 0.4918 - inflam_acc: 1.0000 - nephr_acc: 0.9000\n",
            "Epoch 378/1000\n",
            "80/80 [==============================] - 0s 26us/sample - loss: 0.5466 - inflam_loss: 0.0551 - nephr_loss: 0.4915 - inflam_acc: 1.0000 - nephr_acc: 0.9000\n",
            "Epoch 379/1000\n",
            "80/80 [==============================] - 0s 22us/sample - loss: 0.5463 - inflam_loss: 0.0551 - nephr_loss: 0.4912 - inflam_acc: 1.0000 - nephr_acc: 0.9000\n",
            "Epoch 380/1000\n",
            "80/80 [==============================] - 0s 20us/sample - loss: 0.5460 - inflam_loss: 0.0550 - nephr_loss: 0.4909 - inflam_acc: 1.0000 - nephr_acc: 0.9000\n",
            "Epoch 381/1000\n",
            "80/80 [==============================] - 0s 17us/sample - loss: 0.5456 - inflam_loss: 0.0550 - nephr_loss: 0.4907 - inflam_acc: 1.0000 - nephr_acc: 0.9000\n",
            "Epoch 382/1000\n",
            "80/80 [==============================] - 0s 24us/sample - loss: 0.5453 - inflam_loss: 0.0550 - nephr_loss: 0.4904 - inflam_acc: 1.0000 - nephr_acc: 0.9000\n",
            "Epoch 383/1000\n",
            "80/80 [==============================] - 0s 30us/sample - loss: 0.5450 - inflam_loss: 0.0549 - nephr_loss: 0.4901 - inflam_acc: 1.0000 - nephr_acc: 0.9000\n",
            "Epoch 384/1000\n",
            "80/80 [==============================] - 0s 23us/sample - loss: 0.5447 - inflam_loss: 0.0549 - nephr_loss: 0.4898 - inflam_acc: 1.0000 - nephr_acc: 0.9000\n",
            "Epoch 385/1000\n",
            "80/80 [==============================] - 0s 29us/sample - loss: 0.5444 - inflam_loss: 0.0549 - nephr_loss: 0.4895 - inflam_acc: 1.0000 - nephr_acc: 0.9000\n",
            "Epoch 386/1000\n",
            "80/80 [==============================] - 0s 18us/sample - loss: 0.5441 - inflam_loss: 0.0549 - nephr_loss: 0.4892 - inflam_acc: 1.0000 - nephr_acc: 0.9000\n",
            "Epoch 387/1000\n",
            "80/80 [==============================] - 0s 24us/sample - loss: 0.5438 - inflam_loss: 0.0548 - nephr_loss: 0.4889 - inflam_acc: 1.0000 - nephr_acc: 0.9000\n",
            "Epoch 388/1000\n",
            "80/80 [==============================] - 0s 21us/sample - loss: 0.5435 - inflam_loss: 0.0548 - nephr_loss: 0.4887 - inflam_acc: 1.0000 - nephr_acc: 0.9000\n",
            "Epoch 389/1000\n",
            "80/80 [==============================] - 0s 22us/sample - loss: 0.5431 - inflam_loss: 0.0548 - nephr_loss: 0.4884 - inflam_acc: 1.0000 - nephr_acc: 0.9000\n",
            "Epoch 390/1000\n",
            "80/80 [==============================] - 0s 20us/sample - loss: 0.5428 - inflam_loss: 0.0547 - nephr_loss: 0.4881 - inflam_acc: 1.0000 - nephr_acc: 0.9000\n",
            "Epoch 391/1000\n",
            "80/80 [==============================] - 0s 21us/sample - loss: 0.5425 - inflam_loss: 0.0547 - nephr_loss: 0.4878 - inflam_acc: 1.0000 - nephr_acc: 0.9000\n",
            "Epoch 392/1000\n",
            "80/80 [==============================] - 0s 18us/sample - loss: 0.5422 - inflam_loss: 0.0547 - nephr_loss: 0.4875 - inflam_acc: 1.0000 - nephr_acc: 0.9000\n",
            "Epoch 393/1000\n",
            "80/80 [==============================] - 0s 20us/sample - loss: 0.5419 - inflam_loss: 0.0547 - nephr_loss: 0.4872 - inflam_acc: 1.0000 - nephr_acc: 0.9000\n",
            "Epoch 394/1000\n",
            "80/80 [==============================] - 0s 22us/sample - loss: 0.5416 - inflam_loss: 0.0546 - nephr_loss: 0.4870 - inflam_acc: 1.0000 - nephr_acc: 0.9000\n",
            "Epoch 395/1000\n",
            "80/80 [==============================] - 0s 24us/sample - loss: 0.5413 - inflam_loss: 0.0546 - nephr_loss: 0.4867 - inflam_acc: 1.0000 - nephr_acc: 0.9000\n",
            "Epoch 396/1000\n",
            "80/80 [==============================] - 0s 20us/sample - loss: 0.5410 - inflam_loss: 0.0546 - nephr_loss: 0.4864 - inflam_acc: 1.0000 - nephr_acc: 0.9000\n",
            "Epoch 397/1000\n",
            "80/80 [==============================] - 0s 27us/sample - loss: 0.5407 - inflam_loss: 0.0545 - nephr_loss: 0.4861 - inflam_acc: 1.0000 - nephr_acc: 0.9000\n",
            "Epoch 398/1000\n",
            "80/80 [==============================] - 0s 21us/sample - loss: 0.5403 - inflam_loss: 0.0545 - nephr_loss: 0.4858 - inflam_acc: 1.0000 - nephr_acc: 0.9000\n",
            "Epoch 399/1000\n",
            "80/80 [==============================] - 0s 19us/sample - loss: 0.5400 - inflam_loss: 0.0545 - nephr_loss: 0.4856 - inflam_acc: 1.0000 - nephr_acc: 0.9000\n",
            "Epoch 400/1000\n",
            "80/80 [==============================] - 0s 21us/sample - loss: 0.5397 - inflam_loss: 0.0545 - nephr_loss: 0.4853 - inflam_acc: 1.0000 - nephr_acc: 0.9000\n",
            "Epoch 401/1000\n",
            "80/80 [==============================] - 0s 20us/sample - loss: 0.5394 - inflam_loss: 0.0544 - nephr_loss: 0.4850 - inflam_acc: 1.0000 - nephr_acc: 0.9000\n",
            "Epoch 402/1000\n",
            "80/80 [==============================] - 0s 25us/sample - loss: 0.5391 - inflam_loss: 0.0544 - nephr_loss: 0.4847 - inflam_acc: 1.0000 - nephr_acc: 0.9000\n",
            "Epoch 403/1000\n",
            "80/80 [==============================] - 0s 24us/sample - loss: 0.5388 - inflam_loss: 0.0544 - nephr_loss: 0.4844 - inflam_acc: 1.0000 - nephr_acc: 0.9000\n",
            "Epoch 404/1000\n",
            "80/80 [==============================] - 0s 23us/sample - loss: 0.5385 - inflam_loss: 0.0543 - nephr_loss: 0.4841 - inflam_acc: 1.0000 - nephr_acc: 0.9000\n",
            "Epoch 405/1000\n",
            "80/80 [==============================] - 0s 21us/sample - loss: 0.5382 - inflam_loss: 0.0543 - nephr_loss: 0.4839 - inflam_acc: 1.0000 - nephr_acc: 0.9000\n",
            "Epoch 406/1000\n",
            "80/80 [==============================] - 0s 27us/sample - loss: 0.5379 - inflam_loss: 0.0543 - nephr_loss: 0.4836 - inflam_acc: 1.0000 - nephr_acc: 0.9000\n",
            "Epoch 407/1000\n",
            "80/80 [==============================] - 0s 20us/sample - loss: 0.5376 - inflam_loss: 0.0543 - nephr_loss: 0.4833 - inflam_acc: 1.0000 - nephr_acc: 0.9000\n",
            "Epoch 408/1000\n",
            "80/80 [==============================] - 0s 21us/sample - loss: 0.5373 - inflam_loss: 0.0542 - nephr_loss: 0.4830 - inflam_acc: 1.0000 - nephr_acc: 0.9000\n",
            "Epoch 409/1000\n",
            "80/80 [==============================] - 0s 20us/sample - loss: 0.5369 - inflam_loss: 0.0542 - nephr_loss: 0.4827 - inflam_acc: 1.0000 - nephr_acc: 0.9000\n",
            "Epoch 410/1000\n",
            "80/80 [==============================] - 0s 18us/sample - loss: 0.5366 - inflam_loss: 0.0542 - nephr_loss: 0.4825 - inflam_acc: 1.0000 - nephr_acc: 0.9000\n",
            "Epoch 411/1000\n",
            "80/80 [==============================] - 0s 21us/sample - loss: 0.5363 - inflam_loss: 0.0542 - nephr_loss: 0.4822 - inflam_acc: 1.0000 - nephr_acc: 0.9000\n",
            "Epoch 412/1000\n",
            "80/80 [==============================] - 0s 23us/sample - loss: 0.5360 - inflam_loss: 0.0541 - nephr_loss: 0.4819 - inflam_acc: 1.0000 - nephr_acc: 0.9000\n",
            "Epoch 413/1000\n",
            "80/80 [==============================] - 0s 29us/sample - loss: 0.5357 - inflam_loss: 0.0541 - nephr_loss: 0.4816 - inflam_acc: 1.0000 - nephr_acc: 0.9000\n",
            "Epoch 414/1000\n",
            "80/80 [==============================] - 0s 22us/sample - loss: 0.5354 - inflam_loss: 0.0541 - nephr_loss: 0.4813 - inflam_acc: 1.0000 - nephr_acc: 0.9000\n",
            "Epoch 415/1000\n",
            "80/80 [==============================] - 0s 21us/sample - loss: 0.5351 - inflam_loss: 0.0540 - nephr_loss: 0.4811 - inflam_acc: 1.0000 - nephr_acc: 0.9000\n",
            "Epoch 416/1000\n",
            "80/80 [==============================] - 0s 23us/sample - loss: 0.5348 - inflam_loss: 0.0540 - nephr_loss: 0.4808 - inflam_acc: 1.0000 - nephr_acc: 0.9000\n",
            "Epoch 417/1000\n",
            "80/80 [==============================] - 0s 22us/sample - loss: 0.5345 - inflam_loss: 0.0540 - nephr_loss: 0.4805 - inflam_acc: 1.0000 - nephr_acc: 0.9000\n",
            "Epoch 418/1000\n",
            "80/80 [==============================] - 0s 24us/sample - loss: 0.5342 - inflam_loss: 0.0540 - nephr_loss: 0.4802 - inflam_acc: 1.0000 - nephr_acc: 0.9000\n",
            "Epoch 419/1000\n",
            "80/80 [==============================] - 0s 22us/sample - loss: 0.5339 - inflam_loss: 0.0539 - nephr_loss: 0.4799 - inflam_acc: 1.0000 - nephr_acc: 0.9000\n",
            "Epoch 420/1000\n",
            "80/80 [==============================] - 0s 42us/sample - loss: 0.5336 - inflam_loss: 0.0539 - nephr_loss: 0.4797 - inflam_acc: 1.0000 - nephr_acc: 0.9000\n",
            "Epoch 421/1000\n",
            "80/80 [==============================] - 0s 21us/sample - loss: 0.5333 - inflam_loss: 0.0539 - nephr_loss: 0.4794 - inflam_acc: 1.0000 - nephr_acc: 0.9000\n",
            "Epoch 422/1000\n",
            "80/80 [==============================] - 0s 20us/sample - loss: 0.5330 - inflam_loss: 0.0538 - nephr_loss: 0.4791 - inflam_acc: 1.0000 - nephr_acc: 0.9000\n",
            "Epoch 423/1000\n",
            "80/80 [==============================] - 0s 16us/sample - loss: 0.5327 - inflam_loss: 0.0538 - nephr_loss: 0.4788 - inflam_acc: 1.0000 - nephr_acc: 0.9000\n",
            "Epoch 424/1000\n",
            "80/80 [==============================] - 0s 26us/sample - loss: 0.5324 - inflam_loss: 0.0538 - nephr_loss: 0.4786 - inflam_acc: 1.0000 - nephr_acc: 0.9000\n",
            "Epoch 425/1000\n",
            "80/80 [==============================] - 0s 29us/sample - loss: 0.5320 - inflam_loss: 0.0538 - nephr_loss: 0.4783 - inflam_acc: 1.0000 - nephr_acc: 0.9000\n",
            "Epoch 426/1000\n",
            "80/80 [==============================] - 0s 27us/sample - loss: 0.5317 - inflam_loss: 0.0537 - nephr_loss: 0.4780 - inflam_acc: 1.0000 - nephr_acc: 0.9000\n",
            "Epoch 427/1000\n",
            "80/80 [==============================] - 0s 32us/sample - loss: 0.5314 - inflam_loss: 0.0537 - nephr_loss: 0.4777 - inflam_acc: 1.0000 - nephr_acc: 0.9000\n",
            "Epoch 428/1000\n",
            "80/80 [==============================] - 0s 22us/sample - loss: 0.5311 - inflam_loss: 0.0537 - nephr_loss: 0.4774 - inflam_acc: 1.0000 - nephr_acc: 0.9000\n",
            "Epoch 429/1000\n",
            "80/80 [==============================] - 0s 22us/sample - loss: 0.5308 - inflam_loss: 0.0537 - nephr_loss: 0.4772 - inflam_acc: 1.0000 - nephr_acc: 0.9000\n",
            "Epoch 430/1000\n",
            "80/80 [==============================] - 0s 23us/sample - loss: 0.5305 - inflam_loss: 0.0536 - nephr_loss: 0.4769 - inflam_acc: 1.0000 - nephr_acc: 0.9000\n",
            "Epoch 431/1000\n",
            "80/80 [==============================] - 0s 22us/sample - loss: 0.5302 - inflam_loss: 0.0536 - nephr_loss: 0.4766 - inflam_acc: 1.0000 - nephr_acc: 0.9000\n",
            "Epoch 432/1000\n",
            "80/80 [==============================] - 0s 17us/sample - loss: 0.5299 - inflam_loss: 0.0536 - nephr_loss: 0.4763 - inflam_acc: 1.0000 - nephr_acc: 0.9000\n",
            "Epoch 433/1000\n",
            "80/80 [==============================] - 0s 26us/sample - loss: 0.5296 - inflam_loss: 0.0535 - nephr_loss: 0.4761 - inflam_acc: 1.0000 - nephr_acc: 0.9000\n",
            "Epoch 434/1000\n",
            "80/80 [==============================] - 0s 22us/sample - loss: 0.5293 - inflam_loss: 0.0535 - nephr_loss: 0.4758 - inflam_acc: 1.0000 - nephr_acc: 0.9000\n",
            "Epoch 435/1000\n",
            "80/80 [==============================] - 0s 22us/sample - loss: 0.5290 - inflam_loss: 0.0535 - nephr_loss: 0.4755 - inflam_acc: 1.0000 - nephr_acc: 0.9000\n",
            "Epoch 436/1000\n",
            "80/80 [==============================] - 0s 22us/sample - loss: 0.5287 - inflam_loss: 0.0535 - nephr_loss: 0.4752 - inflam_acc: 1.0000 - nephr_acc: 0.9000\n",
            "Epoch 437/1000\n",
            "80/80 [==============================] - 0s 23us/sample - loss: 0.5284 - inflam_loss: 0.0534 - nephr_loss: 0.4750 - inflam_acc: 1.0000 - nephr_acc: 0.9000\n",
            "Epoch 438/1000\n",
            "80/80 [==============================] - 0s 24us/sample - loss: 0.5281 - inflam_loss: 0.0534 - nephr_loss: 0.4747 - inflam_acc: 1.0000 - nephr_acc: 0.9000\n",
            "Epoch 439/1000\n",
            "80/80 [==============================] - 0s 17us/sample - loss: 0.5278 - inflam_loss: 0.0534 - nephr_loss: 0.4744 - inflam_acc: 1.0000 - nephr_acc: 0.9000\n",
            "Epoch 440/1000\n",
            "80/80 [==============================] - 0s 18us/sample - loss: 0.5275 - inflam_loss: 0.0534 - nephr_loss: 0.4741 - inflam_acc: 1.0000 - nephr_acc: 0.9000\n",
            "Epoch 441/1000\n",
            "80/80 [==============================] - 0s 21us/sample - loss: 0.5272 - inflam_loss: 0.0533 - nephr_loss: 0.4739 - inflam_acc: 1.0000 - nephr_acc: 0.9000\n",
            "Epoch 442/1000\n",
            "80/80 [==============================] - 0s 26us/sample - loss: 0.5269 - inflam_loss: 0.0533 - nephr_loss: 0.4736 - inflam_acc: 1.0000 - nephr_acc: 0.9000\n",
            "Epoch 443/1000\n",
            "80/80 [==============================] - 0s 21us/sample - loss: 0.5266 - inflam_loss: 0.0533 - nephr_loss: 0.4733 - inflam_acc: 1.0000 - nephr_acc: 0.9000\n",
            "Epoch 444/1000\n",
            "80/80 [==============================] - 0s 22us/sample - loss: 0.5263 - inflam_loss: 0.0532 - nephr_loss: 0.4730 - inflam_acc: 1.0000 - nephr_acc: 0.9000\n",
            "Epoch 445/1000\n",
            "80/80 [==============================] - 0s 19us/sample - loss: 0.5260 - inflam_loss: 0.0532 - nephr_loss: 0.4728 - inflam_acc: 1.0000 - nephr_acc: 0.9000\n",
            "Epoch 446/1000\n",
            "80/80 [==============================] - 0s 22us/sample - loss: 0.5257 - inflam_loss: 0.0532 - nephr_loss: 0.4725 - inflam_acc: 1.0000 - nephr_acc: 0.9000\n",
            "Epoch 447/1000\n",
            "80/80 [==============================] - 0s 21us/sample - loss: 0.5254 - inflam_loss: 0.0532 - nephr_loss: 0.4722 - inflam_acc: 1.0000 - nephr_acc: 0.9000\n",
            "Epoch 448/1000\n",
            "80/80 [==============================] - 0s 28us/sample - loss: 0.5251 - inflam_loss: 0.0531 - nephr_loss: 0.4719 - inflam_acc: 1.0000 - nephr_acc: 0.9000\n",
            "Epoch 449/1000\n",
            "80/80 [==============================] - 0s 20us/sample - loss: 0.5248 - inflam_loss: 0.0531 - nephr_loss: 0.4717 - inflam_acc: 1.0000 - nephr_acc: 0.9000\n",
            "Epoch 450/1000\n",
            "80/80 [==============================] - 0s 24us/sample - loss: 0.5245 - inflam_loss: 0.0531 - nephr_loss: 0.4714 - inflam_acc: 1.0000 - nephr_acc: 0.9000\n",
            "Epoch 451/1000\n",
            "80/80 [==============================] - 0s 22us/sample - loss: 0.5242 - inflam_loss: 0.0531 - nephr_loss: 0.4711 - inflam_acc: 1.0000 - nephr_acc: 0.9000\n",
            "Epoch 452/1000\n",
            "80/80 [==============================] - 0s 22us/sample - loss: 0.5239 - inflam_loss: 0.0530 - nephr_loss: 0.4709 - inflam_acc: 1.0000 - nephr_acc: 0.9000\n",
            "Epoch 453/1000\n",
            "80/80 [==============================] - 0s 19us/sample - loss: 0.5236 - inflam_loss: 0.0530 - nephr_loss: 0.4706 - inflam_acc: 1.0000 - nephr_acc: 0.9000\n",
            "Epoch 454/1000\n",
            "80/80 [==============================] - 0s 30us/sample - loss: 0.5233 - inflam_loss: 0.0530 - nephr_loss: 0.4703 - inflam_acc: 1.0000 - nephr_acc: 0.9000\n",
            "Epoch 455/1000\n",
            "80/80 [==============================] - 0s 57us/sample - loss: 0.5230 - inflam_loss: 0.0529 - nephr_loss: 0.4700 - inflam_acc: 1.0000 - nephr_acc: 0.9000\n",
            "Epoch 456/1000\n",
            "80/80 [==============================] - 0s 25us/sample - loss: 0.5227 - inflam_loss: 0.0529 - nephr_loss: 0.4698 - inflam_acc: 1.0000 - nephr_acc: 0.9000\n",
            "Epoch 457/1000\n",
            "80/80 [==============================] - 0s 26us/sample - loss: 0.5224 - inflam_loss: 0.0529 - nephr_loss: 0.4695 - inflam_acc: 1.0000 - nephr_acc: 0.9000\n",
            "Epoch 458/1000\n",
            "80/80 [==============================] - 0s 22us/sample - loss: 0.5221 - inflam_loss: 0.0529 - nephr_loss: 0.4692 - inflam_acc: 1.0000 - nephr_acc: 0.9000\n",
            "Epoch 459/1000\n",
            "80/80 [==============================] - 0s 23us/sample - loss: 0.5218 - inflam_loss: 0.0528 - nephr_loss: 0.4689 - inflam_acc: 1.0000 - nephr_acc: 0.9000\n",
            "Epoch 460/1000\n",
            "80/80 [==============================] - 0s 22us/sample - loss: 0.5215 - inflam_loss: 0.0528 - nephr_loss: 0.4687 - inflam_acc: 1.0000 - nephr_acc: 0.9000\n",
            "Epoch 461/1000\n",
            "80/80 [==============================] - 0s 21us/sample - loss: 0.5212 - inflam_loss: 0.0528 - nephr_loss: 0.4684 - inflam_acc: 1.0000 - nephr_acc: 0.9000\n",
            "Epoch 462/1000\n",
            "80/80 [==============================] - 0s 20us/sample - loss: 0.5209 - inflam_loss: 0.0528 - nephr_loss: 0.4681 - inflam_acc: 1.0000 - nephr_acc: 0.9000\n",
            "Epoch 463/1000\n",
            "80/80 [==============================] - 0s 26us/sample - loss: 0.5206 - inflam_loss: 0.0527 - nephr_loss: 0.4679 - inflam_acc: 1.0000 - nephr_acc: 0.9000\n",
            "Epoch 464/1000\n",
            "80/80 [==============================] - 0s 23us/sample - loss: 0.5203 - inflam_loss: 0.0527 - nephr_loss: 0.4676 - inflam_acc: 1.0000 - nephr_acc: 0.9000\n",
            "Epoch 465/1000\n",
            "80/80 [==============================] - 0s 29us/sample - loss: 0.5200 - inflam_loss: 0.0527 - nephr_loss: 0.4673 - inflam_acc: 1.0000 - nephr_acc: 0.9000\n",
            "Epoch 466/1000\n",
            "80/80 [==============================] - 0s 23us/sample - loss: 0.5197 - inflam_loss: 0.0526 - nephr_loss: 0.4670 - inflam_acc: 1.0000 - nephr_acc: 0.9000\n",
            "Epoch 467/1000\n",
            "80/80 [==============================] - 0s 28us/sample - loss: 0.5194 - inflam_loss: 0.0526 - nephr_loss: 0.4668 - inflam_acc: 1.0000 - nephr_acc: 0.9000\n",
            "Epoch 468/1000\n",
            "80/80 [==============================] - 0s 26us/sample - loss: 0.5191 - inflam_loss: 0.0526 - nephr_loss: 0.4665 - inflam_acc: 1.0000 - nephr_acc: 0.9000\n",
            "Epoch 469/1000\n",
            "80/80 [==============================] - 0s 36us/sample - loss: 0.5188 - inflam_loss: 0.0526 - nephr_loss: 0.4662 - inflam_acc: 1.0000 - nephr_acc: 0.9000\n",
            "Epoch 470/1000\n",
            "80/80 [==============================] - 0s 21us/sample - loss: 0.5185 - inflam_loss: 0.0525 - nephr_loss: 0.4660 - inflam_acc: 1.0000 - nephr_acc: 0.9000\n",
            "Epoch 471/1000\n",
            "80/80 [==============================] - 0s 23us/sample - loss: 0.5182 - inflam_loss: 0.0525 - nephr_loss: 0.4657 - inflam_acc: 1.0000 - nephr_acc: 0.9000\n",
            "Epoch 472/1000\n",
            "80/80 [==============================] - 0s 23us/sample - loss: 0.5179 - inflam_loss: 0.0525 - nephr_loss: 0.4654 - inflam_acc: 1.0000 - nephr_acc: 0.9000\n",
            "Epoch 473/1000\n",
            "80/80 [==============================] - 0s 28us/sample - loss: 0.5176 - inflam_loss: 0.0525 - nephr_loss: 0.4652 - inflam_acc: 1.0000 - nephr_acc: 0.9000\n",
            "Epoch 474/1000\n",
            "80/80 [==============================] - 0s 25us/sample - loss: 0.5173 - inflam_loss: 0.0524 - nephr_loss: 0.4649 - inflam_acc: 1.0000 - nephr_acc: 0.9000\n",
            "Epoch 475/1000\n",
            "80/80 [==============================] - 0s 23us/sample - loss: 0.5170 - inflam_loss: 0.0524 - nephr_loss: 0.4646 - inflam_acc: 1.0000 - nephr_acc: 0.9000\n",
            "Epoch 476/1000\n",
            "80/80 [==============================] - 0s 23us/sample - loss: 0.5167 - inflam_loss: 0.0524 - nephr_loss: 0.4644 - inflam_acc: 1.0000 - nephr_acc: 0.9000\n",
            "Epoch 477/1000\n",
            "80/80 [==============================] - 0s 27us/sample - loss: 0.5164 - inflam_loss: 0.0523 - nephr_loss: 0.4641 - inflam_acc: 1.0000 - nephr_acc: 0.9000\n",
            "Epoch 478/1000\n",
            "80/80 [==============================] - 0s 26us/sample - loss: 0.5161 - inflam_loss: 0.0523 - nephr_loss: 0.4638 - inflam_acc: 1.0000 - nephr_acc: 0.9000\n",
            "Epoch 479/1000\n",
            "80/80 [==============================] - 0s 21us/sample - loss: 0.5158 - inflam_loss: 0.0523 - nephr_loss: 0.4635 - inflam_acc: 1.0000 - nephr_acc: 0.9000\n",
            "Epoch 480/1000\n",
            "80/80 [==============================] - 0s 31us/sample - loss: 0.5155 - inflam_loss: 0.0523 - nephr_loss: 0.4633 - inflam_acc: 1.0000 - nephr_acc: 0.9000\n",
            "Epoch 481/1000\n",
            "80/80 [==============================] - 0s 25us/sample - loss: 0.5153 - inflam_loss: 0.0522 - nephr_loss: 0.4630 - inflam_acc: 1.0000 - nephr_acc: 0.9000\n",
            "Epoch 482/1000\n",
            "80/80 [==============================] - 0s 22us/sample - loss: 0.5150 - inflam_loss: 0.0522 - nephr_loss: 0.4627 - inflam_acc: 1.0000 - nephr_acc: 0.9000\n",
            "Epoch 483/1000\n",
            "80/80 [==============================] - 0s 20us/sample - loss: 0.5147 - inflam_loss: 0.0522 - nephr_loss: 0.4625 - inflam_acc: 1.0000 - nephr_acc: 0.9000\n",
            "Epoch 484/1000\n",
            "80/80 [==============================] - 0s 21us/sample - loss: 0.5144 - inflam_loss: 0.0522 - nephr_loss: 0.4622 - inflam_acc: 1.0000 - nephr_acc: 0.9000\n",
            "Epoch 485/1000\n",
            "80/80 [==============================] - 0s 23us/sample - loss: 0.5141 - inflam_loss: 0.0521 - nephr_loss: 0.4619 - inflam_acc: 1.0000 - nephr_acc: 0.9000\n",
            "Epoch 486/1000\n",
            "80/80 [==============================] - 0s 22us/sample - loss: 0.5138 - inflam_loss: 0.0521 - nephr_loss: 0.4617 - inflam_acc: 1.0000 - nephr_acc: 0.9000\n",
            "Epoch 487/1000\n",
            "80/80 [==============================] - 0s 64us/sample - loss: 0.5135 - inflam_loss: 0.0521 - nephr_loss: 0.4614 - inflam_acc: 1.0000 - nephr_acc: 0.9000\n",
            "Epoch 488/1000\n",
            "80/80 [==============================] - 0s 16us/sample - loss: 0.5132 - inflam_loss: 0.0521 - nephr_loss: 0.4611 - inflam_acc: 1.0000 - nephr_acc: 0.9000\n",
            "Epoch 489/1000\n",
            "80/80 [==============================] - 0s 21us/sample - loss: 0.5129 - inflam_loss: 0.0520 - nephr_loss: 0.4609 - inflam_acc: 1.0000 - nephr_acc: 0.9000\n",
            "Epoch 490/1000\n",
            "80/80 [==============================] - 0s 16us/sample - loss: 0.5126 - inflam_loss: 0.0520 - nephr_loss: 0.4606 - inflam_acc: 1.0000 - nephr_acc: 0.9000\n",
            "Epoch 491/1000\n",
            "80/80 [==============================] - 0s 18us/sample - loss: 0.5123 - inflam_loss: 0.0520 - nephr_loss: 0.4603 - inflam_acc: 1.0000 - nephr_acc: 0.9000\n",
            "Epoch 492/1000\n",
            "80/80 [==============================] - 0s 23us/sample - loss: 0.5120 - inflam_loss: 0.0519 - nephr_loss: 0.4601 - inflam_acc: 1.0000 - nephr_acc: 0.9000\n",
            "Epoch 493/1000\n",
            "80/80 [==============================] - 0s 22us/sample - loss: 0.5117 - inflam_loss: 0.0519 - nephr_loss: 0.4598 - inflam_acc: 1.0000 - nephr_acc: 0.9000\n",
            "Epoch 494/1000\n",
            "80/80 [==============================] - 0s 24us/sample - loss: 0.5114 - inflam_loss: 0.0519 - nephr_loss: 0.4595 - inflam_acc: 1.0000 - nephr_acc: 0.9000\n",
            "Epoch 495/1000\n",
            "80/80 [==============================] - 0s 20us/sample - loss: 0.5111 - inflam_loss: 0.0519 - nephr_loss: 0.4593 - inflam_acc: 1.0000 - nephr_acc: 0.9000\n",
            "Epoch 496/1000\n",
            "80/80 [==============================] - 0s 22us/sample - loss: 0.5109 - inflam_loss: 0.0518 - nephr_loss: 0.4590 - inflam_acc: 1.0000 - nephr_acc: 0.9000\n",
            "Epoch 497/1000\n",
            "80/80 [==============================] - 0s 22us/sample - loss: 0.5106 - inflam_loss: 0.0518 - nephr_loss: 0.4587 - inflam_acc: 1.0000 - nephr_acc: 0.9000\n",
            "Epoch 498/1000\n",
            "80/80 [==============================] - 0s 22us/sample - loss: 0.5103 - inflam_loss: 0.0518 - nephr_loss: 0.4585 - inflam_acc: 1.0000 - nephr_acc: 0.9000\n",
            "Epoch 499/1000\n",
            "80/80 [==============================] - 0s 16us/sample - loss: 0.5100 - inflam_loss: 0.0518 - nephr_loss: 0.4582 - inflam_acc: 1.0000 - nephr_acc: 0.9000\n",
            "Epoch 500/1000\n",
            "80/80 [==============================] - 0s 24us/sample - loss: 0.5097 - inflam_loss: 0.0517 - nephr_loss: 0.4579 - inflam_acc: 1.0000 - nephr_acc: 0.9000\n",
            "Epoch 501/1000\n",
            "80/80 [==============================] - 0s 22us/sample - loss: 0.5094 - inflam_loss: 0.0517 - nephr_loss: 0.4577 - inflam_acc: 1.0000 - nephr_acc: 0.9000\n",
            "Epoch 502/1000\n",
            "80/80 [==============================] - 0s 46us/sample - loss: 0.5091 - inflam_loss: 0.0517 - nephr_loss: 0.4574 - inflam_acc: 1.0000 - nephr_acc: 0.9000\n",
            "Epoch 503/1000\n",
            "80/80 [==============================] - 0s 27us/sample - loss: 0.5088 - inflam_loss: 0.0517 - nephr_loss: 0.4572 - inflam_acc: 1.0000 - nephr_acc: 0.9000\n",
            "Epoch 504/1000\n",
            "80/80 [==============================] - 0s 21us/sample - loss: 0.5085 - inflam_loss: 0.0516 - nephr_loss: 0.4569 - inflam_acc: 1.0000 - nephr_acc: 0.9000\n",
            "Epoch 505/1000\n",
            "80/80 [==============================] - 0s 48us/sample - loss: 0.5082 - inflam_loss: 0.0516 - nephr_loss: 0.4566 - inflam_acc: 1.0000 - nephr_acc: 0.9000\n",
            "Epoch 506/1000\n",
            "80/80 [==============================] - 0s 25us/sample - loss: 0.5079 - inflam_loss: 0.0516 - nephr_loss: 0.4564 - inflam_acc: 1.0000 - nephr_acc: 0.9000\n",
            "Epoch 507/1000\n",
            "80/80 [==============================] - 0s 21us/sample - loss: 0.5076 - inflam_loss: 0.0516 - nephr_loss: 0.4561 - inflam_acc: 1.0000 - nephr_acc: 0.9000\n",
            "Epoch 508/1000\n",
            "80/80 [==============================] - 0s 23us/sample - loss: 0.5074 - inflam_loss: 0.0515 - nephr_loss: 0.4558 - inflam_acc: 1.0000 - nephr_acc: 0.9000\n",
            "Epoch 509/1000\n",
            "80/80 [==============================] - 0s 21us/sample - loss: 0.5071 - inflam_loss: 0.0515 - nephr_loss: 0.4556 - inflam_acc: 1.0000 - nephr_acc: 0.9000\n",
            "Epoch 510/1000\n",
            "80/80 [==============================] - 0s 21us/sample - loss: 0.5068 - inflam_loss: 0.0515 - nephr_loss: 0.4553 - inflam_acc: 1.0000 - nephr_acc: 0.9000\n",
            "Epoch 511/1000\n",
            "80/80 [==============================] - 0s 20us/sample - loss: 0.5065 - inflam_loss: 0.0514 - nephr_loss: 0.4550 - inflam_acc: 1.0000 - nephr_acc: 0.9000\n",
            "Epoch 512/1000\n",
            "80/80 [==============================] - 0s 18us/sample - loss: 0.5062 - inflam_loss: 0.0514 - nephr_loss: 0.4548 - inflam_acc: 1.0000 - nephr_acc: 0.9000\n",
            "Epoch 513/1000\n",
            "80/80 [==============================] - 0s 22us/sample - loss: 0.5059 - inflam_loss: 0.0514 - nephr_loss: 0.4545 - inflam_acc: 1.0000 - nephr_acc: 0.9000\n",
            "Epoch 514/1000\n",
            "80/80 [==============================] - 0s 29us/sample - loss: 0.5056 - inflam_loss: 0.0514 - nephr_loss: 0.4543 - inflam_acc: 1.0000 - nephr_acc: 0.9000\n",
            "Epoch 515/1000\n",
            "80/80 [==============================] - 0s 20us/sample - loss: 0.5053 - inflam_loss: 0.0513 - nephr_loss: 0.4540 - inflam_acc: 1.0000 - nephr_acc: 0.9000\n",
            "Epoch 516/1000\n",
            "80/80 [==============================] - 0s 19us/sample - loss: 0.5050 - inflam_loss: 0.0513 - nephr_loss: 0.4537 - inflam_acc: 1.0000 - nephr_acc: 0.9000\n",
            "Epoch 517/1000\n",
            "80/80 [==============================] - 0s 20us/sample - loss: 0.5048 - inflam_loss: 0.0513 - nephr_loss: 0.4535 - inflam_acc: 1.0000 - nephr_acc: 0.9000\n",
            "Epoch 518/1000\n",
            "80/80 [==============================] - 0s 24us/sample - loss: 0.5045 - inflam_loss: 0.0513 - nephr_loss: 0.4532 - inflam_acc: 1.0000 - nephr_acc: 0.9000\n",
            "Epoch 519/1000\n",
            "80/80 [==============================] - 0s 22us/sample - loss: 0.5042 - inflam_loss: 0.0512 - nephr_loss: 0.4529 - inflam_acc: 1.0000 - nephr_acc: 0.9000\n",
            "Epoch 520/1000\n",
            "80/80 [==============================] - 0s 21us/sample - loss: 0.5039 - inflam_loss: 0.0512 - nephr_loss: 0.4527 - inflam_acc: 1.0000 - nephr_acc: 0.9000\n",
            "Epoch 521/1000\n",
            "80/80 [==============================] - 0s 32us/sample - loss: 0.5036 - inflam_loss: 0.0512 - nephr_loss: 0.4524 - inflam_acc: 1.0000 - nephr_acc: 0.9000\n",
            "Epoch 522/1000\n",
            "80/80 [==============================] - 0s 24us/sample - loss: 0.5033 - inflam_loss: 0.0512 - nephr_loss: 0.4522 - inflam_acc: 1.0000 - nephr_acc: 0.9000\n",
            "Epoch 523/1000\n",
            "80/80 [==============================] - 0s 33us/sample - loss: 0.5030 - inflam_loss: 0.0511 - nephr_loss: 0.4519 - inflam_acc: 1.0000 - nephr_acc: 0.9000\n",
            "Epoch 524/1000\n",
            "80/80 [==============================] - 0s 34us/sample - loss: 0.5027 - inflam_loss: 0.0511 - nephr_loss: 0.4516 - inflam_acc: 1.0000 - nephr_acc: 0.9000\n",
            "Epoch 525/1000\n",
            "80/80 [==============================] - 0s 26us/sample - loss: 0.5025 - inflam_loss: 0.0511 - nephr_loss: 0.4514 - inflam_acc: 1.0000 - nephr_acc: 0.9000\n",
            "Epoch 526/1000\n",
            "80/80 [==============================] - 0s 18us/sample - loss: 0.5022 - inflam_loss: 0.0511 - nephr_loss: 0.4511 - inflam_acc: 1.0000 - nephr_acc: 0.9000\n",
            "Epoch 527/1000\n",
            "80/80 [==============================] - 0s 28us/sample - loss: 0.5019 - inflam_loss: 0.0510 - nephr_loss: 0.4509 - inflam_acc: 1.0000 - nephr_acc: 0.9000\n",
            "Epoch 528/1000\n",
            "80/80 [==============================] - 0s 21us/sample - loss: 0.5016 - inflam_loss: 0.0510 - nephr_loss: 0.4506 - inflam_acc: 1.0000 - nephr_acc: 0.9000\n",
            "Epoch 529/1000\n",
            "80/80 [==============================] - 0s 22us/sample - loss: 0.5013 - inflam_loss: 0.0510 - nephr_loss: 0.4503 - inflam_acc: 1.0000 - nephr_acc: 0.9000\n",
            "Epoch 530/1000\n",
            "80/80 [==============================] - 0s 40us/sample - loss: 0.5010 - inflam_loss: 0.0509 - nephr_loss: 0.4501 - inflam_acc: 1.0000 - nephr_acc: 0.9000\n",
            "Epoch 531/1000\n",
            "80/80 [==============================] - 0s 24us/sample - loss: 0.5007 - inflam_loss: 0.0509 - nephr_loss: 0.4498 - inflam_acc: 1.0000 - nephr_acc: 0.9000\n",
            "Epoch 532/1000\n",
            "80/80 [==============================] - 0s 33us/sample - loss: 0.5005 - inflam_loss: 0.0509 - nephr_loss: 0.4496 - inflam_acc: 1.0000 - nephr_acc: 0.9000\n",
            "Epoch 533/1000\n",
            "80/80 [==============================] - 0s 30us/sample - loss: 0.5002 - inflam_loss: 0.0509 - nephr_loss: 0.4493 - inflam_acc: 1.0000 - nephr_acc: 0.9000\n",
            "Epoch 534/1000\n",
            "80/80 [==============================] - 0s 23us/sample - loss: 0.4999 - inflam_loss: 0.0508 - nephr_loss: 0.4490 - inflam_acc: 1.0000 - nephr_acc: 0.9000\n",
            "Epoch 535/1000\n",
            "80/80 [==============================] - 0s 24us/sample - loss: 0.4996 - inflam_loss: 0.0508 - nephr_loss: 0.4488 - inflam_acc: 1.0000 - nephr_acc: 0.9000\n",
            "Epoch 536/1000\n",
            "80/80 [==============================] - 0s 23us/sample - loss: 0.4993 - inflam_loss: 0.0508 - nephr_loss: 0.4485 - inflam_acc: 1.0000 - nephr_acc: 0.9000\n",
            "Epoch 537/1000\n",
            "80/80 [==============================] - 0s 27us/sample - loss: 0.4990 - inflam_loss: 0.0508 - nephr_loss: 0.4483 - inflam_acc: 1.0000 - nephr_acc: 0.9000\n",
            "Epoch 538/1000\n",
            "80/80 [==============================] - 0s 23us/sample - loss: 0.4987 - inflam_loss: 0.0507 - nephr_loss: 0.4480 - inflam_acc: 1.0000 - nephr_acc: 0.9000\n",
            "Epoch 539/1000\n",
            "80/80 [==============================] - 0s 19us/sample - loss: 0.4985 - inflam_loss: 0.0507 - nephr_loss: 0.4477 - inflam_acc: 1.0000 - nephr_acc: 0.9000\n",
            "Epoch 540/1000\n",
            "80/80 [==============================] - 0s 24us/sample - loss: 0.4982 - inflam_loss: 0.0507 - nephr_loss: 0.4475 - inflam_acc: 1.0000 - nephr_acc: 0.9000\n",
            "Epoch 541/1000\n",
            "80/80 [==============================] - 0s 21us/sample - loss: 0.4979 - inflam_loss: 0.0507 - nephr_loss: 0.4472 - inflam_acc: 1.0000 - nephr_acc: 0.9000\n",
            "Epoch 542/1000\n",
            "80/80 [==============================] - 0s 22us/sample - loss: 0.4976 - inflam_loss: 0.0506 - nephr_loss: 0.4470 - inflam_acc: 1.0000 - nephr_acc: 0.9000\n",
            "Epoch 543/1000\n",
            "80/80 [==============================] - 0s 19us/sample - loss: 0.4973 - inflam_loss: 0.0506 - nephr_loss: 0.4467 - inflam_acc: 1.0000 - nephr_acc: 0.9000\n",
            "Epoch 544/1000\n",
            "80/80 [==============================] - 0s 19us/sample - loss: 0.4970 - inflam_loss: 0.0506 - nephr_loss: 0.4465 - inflam_acc: 1.0000 - nephr_acc: 0.9000\n",
            "Epoch 545/1000\n",
            "80/80 [==============================] - 0s 24us/sample - loss: 0.4968 - inflam_loss: 0.0506 - nephr_loss: 0.4462 - inflam_acc: 1.0000 - nephr_acc: 0.9000\n",
            "Epoch 546/1000\n",
            "80/80 [==============================] - 0s 22us/sample - loss: 0.4965 - inflam_loss: 0.0505 - nephr_loss: 0.4459 - inflam_acc: 1.0000 - nephr_acc: 0.9000\n",
            "Epoch 547/1000\n",
            "80/80 [==============================] - 0s 18us/sample - loss: 0.4962 - inflam_loss: 0.0505 - nephr_loss: 0.4457 - inflam_acc: 1.0000 - nephr_acc: 0.9000\n",
            "Epoch 548/1000\n",
            "80/80 [==============================] - 0s 22us/sample - loss: 0.4959 - inflam_loss: 0.0505 - nephr_loss: 0.4454 - inflam_acc: 1.0000 - nephr_acc: 0.9000\n",
            "Epoch 549/1000\n",
            "80/80 [==============================] - 0s 33us/sample - loss: 0.4956 - inflam_loss: 0.0505 - nephr_loss: 0.4452 - inflam_acc: 1.0000 - nephr_acc: 0.9000\n",
            "Epoch 550/1000\n",
            "80/80 [==============================] - 0s 20us/sample - loss: 0.4953 - inflam_loss: 0.0504 - nephr_loss: 0.4449 - inflam_acc: 1.0000 - nephr_acc: 0.9000\n",
            "Epoch 551/1000\n",
            "80/80 [==============================] - 0s 36us/sample - loss: 0.4951 - inflam_loss: 0.0504 - nephr_loss: 0.4447 - inflam_acc: 1.0000 - nephr_acc: 0.9000\n",
            "Epoch 552/1000\n",
            "80/80 [==============================] - 0s 19us/sample - loss: 0.4948 - inflam_loss: 0.0504 - nephr_loss: 0.4444 - inflam_acc: 1.0000 - nephr_acc: 0.9000\n",
            "Epoch 553/1000\n",
            "80/80 [==============================] - 0s 19us/sample - loss: 0.4945 - inflam_loss: 0.0504 - nephr_loss: 0.4441 - inflam_acc: 1.0000 - nephr_acc: 0.9000\n",
            "Epoch 554/1000\n",
            "80/80 [==============================] - 0s 19us/sample - loss: 0.4942 - inflam_loss: 0.0503 - nephr_loss: 0.4439 - inflam_acc: 1.0000 - nephr_acc: 0.9000\n",
            "Epoch 555/1000\n",
            "80/80 [==============================] - 0s 18us/sample - loss: 0.4939 - inflam_loss: 0.0503 - nephr_loss: 0.4436 - inflam_acc: 1.0000 - nephr_acc: 0.9000\n",
            "Epoch 556/1000\n",
            "80/80 [==============================] - 0s 28us/sample - loss: 0.4936 - inflam_loss: 0.0503 - nephr_loss: 0.4434 - inflam_acc: 1.0000 - nephr_acc: 0.9000\n",
            "Epoch 557/1000\n",
            "80/80 [==============================] - 0s 34us/sample - loss: 0.4934 - inflam_loss: 0.0502 - nephr_loss: 0.4431 - inflam_acc: 1.0000 - nephr_acc: 0.9000\n",
            "Epoch 558/1000\n",
            "80/80 [==============================] - 0s 28us/sample - loss: 0.4931 - inflam_loss: 0.0502 - nephr_loss: 0.4429 - inflam_acc: 1.0000 - nephr_acc: 0.9000\n",
            "Epoch 559/1000\n",
            "80/80 [==============================] - 0s 22us/sample - loss: 0.4928 - inflam_loss: 0.0502 - nephr_loss: 0.4426 - inflam_acc: 1.0000 - nephr_acc: 0.9000\n",
            "Epoch 560/1000\n",
            "80/80 [==============================] - 0s 17us/sample - loss: 0.4925 - inflam_loss: 0.0502 - nephr_loss: 0.4423 - inflam_acc: 1.0000 - nephr_acc: 0.9125\n",
            "Epoch 561/1000\n",
            "80/80 [==============================] - 0s 21us/sample - loss: 0.4922 - inflam_loss: 0.0501 - nephr_loss: 0.4421 - inflam_acc: 1.0000 - nephr_acc: 0.9000\n",
            "Epoch 562/1000\n",
            "80/80 [==============================] - 0s 27us/sample - loss: 0.4920 - inflam_loss: 0.0501 - nephr_loss: 0.4418 - inflam_acc: 1.0000 - nephr_acc: 0.9125\n",
            "Epoch 563/1000\n",
            "80/80 [==============================] - 0s 37us/sample - loss: 0.4917 - inflam_loss: 0.0501 - nephr_loss: 0.4416 - inflam_acc: 1.0000 - nephr_acc: 0.9000\n",
            "Epoch 564/1000\n",
            "80/80 [==============================] - 0s 21us/sample - loss: 0.4914 - inflam_loss: 0.0501 - nephr_loss: 0.4413 - inflam_acc: 1.0000 - nephr_acc: 0.9125\n",
            "Epoch 565/1000\n",
            "80/80 [==============================] - 0s 19us/sample - loss: 0.4911 - inflam_loss: 0.0500 - nephr_loss: 0.4411 - inflam_acc: 1.0000 - nephr_acc: 0.9000\n",
            "Epoch 566/1000\n",
            "80/80 [==============================] - 0s 23us/sample - loss: 0.4908 - inflam_loss: 0.0500 - nephr_loss: 0.4408 - inflam_acc: 1.0000 - nephr_acc: 0.9125\n",
            "Epoch 567/1000\n",
            "80/80 [==============================] - 0s 22us/sample - loss: 0.4906 - inflam_loss: 0.0500 - nephr_loss: 0.4406 - inflam_acc: 1.0000 - nephr_acc: 0.9000\n",
            "Epoch 568/1000\n",
            "80/80 [==============================] - 0s 21us/sample - loss: 0.4903 - inflam_loss: 0.0500 - nephr_loss: 0.4403 - inflam_acc: 1.0000 - nephr_acc: 0.9125\n",
            "Epoch 569/1000\n",
            "80/80 [==============================] - 0s 24us/sample - loss: 0.4900 - inflam_loss: 0.0499 - nephr_loss: 0.4401 - inflam_acc: 1.0000 - nephr_acc: 0.9000\n",
            "Epoch 570/1000\n",
            "80/80 [==============================] - 0s 20us/sample - loss: 0.4897 - inflam_loss: 0.0499 - nephr_loss: 0.4398 - inflam_acc: 1.0000 - nephr_acc: 0.9250\n",
            "Epoch 571/1000\n",
            "80/80 [==============================] - 0s 21us/sample - loss: 0.4894 - inflam_loss: 0.0499 - nephr_loss: 0.4396 - inflam_acc: 1.0000 - nephr_acc: 0.9000\n",
            "Epoch 572/1000\n",
            "80/80 [==============================] - 0s 26us/sample - loss: 0.4892 - inflam_loss: 0.0499 - nephr_loss: 0.4393 - inflam_acc: 1.0000 - nephr_acc: 0.9250\n",
            "Epoch 573/1000\n",
            "80/80 [==============================] - 0s 22us/sample - loss: 0.4889 - inflam_loss: 0.0498 - nephr_loss: 0.4390 - inflam_acc: 1.0000 - nephr_acc: 0.9000\n",
            "Epoch 574/1000\n",
            "80/80 [==============================] - 0s 19us/sample - loss: 0.4886 - inflam_loss: 0.0498 - nephr_loss: 0.4388 - inflam_acc: 1.0000 - nephr_acc: 0.9375\n",
            "Epoch 575/1000\n",
            "80/80 [==============================] - 0s 35us/sample - loss: 0.4883 - inflam_loss: 0.0498 - nephr_loss: 0.4385 - inflam_acc: 1.0000 - nephr_acc: 0.9000\n",
            "Epoch 576/1000\n",
            "80/80 [==============================] - 0s 20us/sample - loss: 0.4880 - inflam_loss: 0.0498 - nephr_loss: 0.4383 - inflam_acc: 1.0000 - nephr_acc: 0.9375\n",
            "Epoch 577/1000\n",
            "80/80 [==============================] - 0s 34us/sample - loss: 0.4878 - inflam_loss: 0.0497 - nephr_loss: 0.4380 - inflam_acc: 1.0000 - nephr_acc: 0.9000\n",
            "Epoch 578/1000\n",
            "80/80 [==============================] - 0s 26us/sample - loss: 0.4875 - inflam_loss: 0.0497 - nephr_loss: 0.4378 - inflam_acc: 1.0000 - nephr_acc: 0.9500\n",
            "Epoch 579/1000\n",
            "80/80 [==============================] - 0s 22us/sample - loss: 0.4872 - inflam_loss: 0.0497 - nephr_loss: 0.4375 - inflam_acc: 1.0000 - nephr_acc: 0.9000\n",
            "Epoch 580/1000\n",
            "80/80 [==============================] - 0s 18us/sample - loss: 0.4869 - inflam_loss: 0.0497 - nephr_loss: 0.4373 - inflam_acc: 1.0000 - nephr_acc: 0.9500\n",
            "Epoch 581/1000\n",
            "80/80 [==============================] - 0s 23us/sample - loss: 0.4867 - inflam_loss: 0.0496 - nephr_loss: 0.4370 - inflam_acc: 1.0000 - nephr_acc: 0.9000\n",
            "Epoch 582/1000\n",
            "80/80 [==============================] - 0s 22us/sample - loss: 0.4864 - inflam_loss: 0.0496 - nephr_loss: 0.4368 - inflam_acc: 1.0000 - nephr_acc: 0.9500\n",
            "Epoch 583/1000\n",
            "80/80 [==============================] - 0s 24us/sample - loss: 0.4861 - inflam_loss: 0.0496 - nephr_loss: 0.4365 - inflam_acc: 1.0000 - nephr_acc: 0.9000\n",
            "Epoch 584/1000\n",
            "80/80 [==============================] - 0s 19us/sample - loss: 0.4858 - inflam_loss: 0.0496 - nephr_loss: 0.4363 - inflam_acc: 1.0000 - nephr_acc: 0.9500\n",
            "Epoch 585/1000\n",
            "80/80 [==============================] - 0s 21us/sample - loss: 0.4856 - inflam_loss: 0.0495 - nephr_loss: 0.4360 - inflam_acc: 1.0000 - nephr_acc: 0.9000\n",
            "Epoch 586/1000\n",
            "80/80 [==============================] - 0s 18us/sample - loss: 0.4853 - inflam_loss: 0.0495 - nephr_loss: 0.4358 - inflam_acc: 1.0000 - nephr_acc: 0.9500\n",
            "Epoch 587/1000\n",
            "80/80 [==============================] - 0s 26us/sample - loss: 0.4850 - inflam_loss: 0.0495 - nephr_loss: 0.4355 - inflam_acc: 1.0000 - nephr_acc: 0.9000\n",
            "Epoch 588/1000\n",
            "80/80 [==============================] - 0s 26us/sample - loss: 0.4847 - inflam_loss: 0.0495 - nephr_loss: 0.4353 - inflam_acc: 1.0000 - nephr_acc: 0.9625\n",
            "Epoch 589/1000\n",
            "80/80 [==============================] - 0s 33us/sample - loss: 0.4844 - inflam_loss: 0.0494 - nephr_loss: 0.4350 - inflam_acc: 1.0000 - nephr_acc: 0.9000\n",
            "Epoch 590/1000\n",
            "80/80 [==============================] - 0s 32us/sample - loss: 0.4842 - inflam_loss: 0.0494 - nephr_loss: 0.4348 - inflam_acc: 1.0000 - nephr_acc: 0.9625\n",
            "Epoch 591/1000\n",
            "80/80 [==============================] - 0s 22us/sample - loss: 0.4839 - inflam_loss: 0.0494 - nephr_loss: 0.4345 - inflam_acc: 1.0000 - nephr_acc: 0.9000\n",
            "Epoch 592/1000\n",
            "80/80 [==============================] - 0s 33us/sample - loss: 0.4836 - inflam_loss: 0.0494 - nephr_loss: 0.4343 - inflam_acc: 1.0000 - nephr_acc: 0.9750\n",
            "Epoch 593/1000\n",
            "80/80 [==============================] - 0s 21us/sample - loss: 0.4833 - inflam_loss: 0.0493 - nephr_loss: 0.4340 - inflam_acc: 1.0000 - nephr_acc: 0.9000\n",
            "Epoch 594/1000\n",
            "80/80 [==============================] - 0s 20us/sample - loss: 0.4831 - inflam_loss: 0.0493 - nephr_loss: 0.4338 - inflam_acc: 1.0000 - nephr_acc: 0.9750\n",
            "Epoch 595/1000\n",
            "80/80 [==============================] - 0s 22us/sample - loss: 0.4828 - inflam_loss: 0.0493 - nephr_loss: 0.4335 - inflam_acc: 1.0000 - nephr_acc: 0.9000\n",
            "Epoch 596/1000\n",
            "80/80 [==============================] - 0s 22us/sample - loss: 0.4825 - inflam_loss: 0.0493 - nephr_loss: 0.4333 - inflam_acc: 1.0000 - nephr_acc: 0.9750\n",
            "Epoch 597/1000\n",
            "80/80 [==============================] - 0s 28us/sample - loss: 0.4822 - inflam_loss: 0.0492 - nephr_loss: 0.4330 - inflam_acc: 1.0000 - nephr_acc: 0.9000\n",
            "Epoch 598/1000\n",
            "80/80 [==============================] - 0s 22us/sample - loss: 0.4820 - inflam_loss: 0.0492 - nephr_loss: 0.4328 - inflam_acc: 1.0000 - nephr_acc: 0.9875\n",
            "Epoch 599/1000\n",
            "80/80 [==============================] - 0s 20us/sample - loss: 0.4817 - inflam_loss: 0.0492 - nephr_loss: 0.4325 - inflam_acc: 1.0000 - nephr_acc: 0.9000\n",
            "Epoch 600/1000\n",
            "80/80 [==============================] - 0s 21us/sample - loss: 0.4814 - inflam_loss: 0.0492 - nephr_loss: 0.4323 - inflam_acc: 1.0000 - nephr_acc: 0.9875\n",
            "Epoch 601/1000\n",
            "80/80 [==============================] - 0s 21us/sample - loss: 0.4812 - inflam_loss: 0.0491 - nephr_loss: 0.4320 - inflam_acc: 1.0000 - nephr_acc: 0.9000\n",
            "Epoch 602/1000\n",
            "80/80 [==============================] - 0s 24us/sample - loss: 0.4809 - inflam_loss: 0.0491 - nephr_loss: 0.4318 - inflam_acc: 1.0000 - nephr_acc: 0.9875\n",
            "Epoch 603/1000\n",
            "80/80 [==============================] - 0s 19us/sample - loss: 0.4806 - inflam_loss: 0.0491 - nephr_loss: 0.4315 - inflam_acc: 1.0000 - nephr_acc: 0.9000\n",
            "Epoch 604/1000\n",
            "80/80 [==============================] - 0s 23us/sample - loss: 0.4803 - inflam_loss: 0.0491 - nephr_loss: 0.4313 - inflam_acc: 1.0000 - nephr_acc: 0.9875\n",
            "Epoch 605/1000\n",
            "80/80 [==============================] - 0s 17us/sample - loss: 0.4801 - inflam_loss: 0.0490 - nephr_loss: 0.4310 - inflam_acc: 1.0000 - nephr_acc: 0.9000\n",
            "Epoch 606/1000\n",
            "80/80 [==============================] - 0s 20us/sample - loss: 0.4798 - inflam_loss: 0.0490 - nephr_loss: 0.4308 - inflam_acc: 1.0000 - nephr_acc: 0.9875\n",
            "Epoch 607/1000\n",
            "80/80 [==============================] - 0s 21us/sample - loss: 0.4795 - inflam_loss: 0.0490 - nephr_loss: 0.4305 - inflam_acc: 1.0000 - nephr_acc: 0.9000\n",
            "Epoch 608/1000\n",
            "80/80 [==============================] - 0s 45us/sample - loss: 0.4792 - inflam_loss: 0.0490 - nephr_loss: 0.4303 - inflam_acc: 1.0000 - nephr_acc: 0.9875\n",
            "Epoch 609/1000\n",
            "80/80 [==============================] - 0s 18us/sample - loss: 0.4790 - inflam_loss: 0.0489 - nephr_loss: 0.4300 - inflam_acc: 1.0000 - nephr_acc: 0.9000\n",
            "Epoch 610/1000\n",
            "80/80 [==============================] - 0s 24us/sample - loss: 0.4787 - inflam_loss: 0.0489 - nephr_loss: 0.4298 - inflam_acc: 1.0000 - nephr_acc: 0.9875\n",
            "Epoch 611/1000\n",
            "80/80 [==============================] - 0s 44us/sample - loss: 0.4784 - inflam_loss: 0.0489 - nephr_loss: 0.4295 - inflam_acc: 1.0000 - nephr_acc: 0.9000\n",
            "Epoch 612/1000\n",
            "80/80 [==============================] - 0s 20us/sample - loss: 0.4782 - inflam_loss: 0.0489 - nephr_loss: 0.4293 - inflam_acc: 1.0000 - nephr_acc: 1.0000\n",
            "Epoch 613/1000\n",
            "80/80 [==============================] - 0s 36us/sample - loss: 0.4779 - inflam_loss: 0.0488 - nephr_loss: 0.4290 - inflam_acc: 1.0000 - nephr_acc: 0.9000\n",
            "Epoch 614/1000\n",
            "80/80 [==============================] - 0s 20us/sample - loss: 0.4776 - inflam_loss: 0.0488 - nephr_loss: 0.4288 - inflam_acc: 1.0000 - nephr_acc: 1.0000\n",
            "Epoch 615/1000\n",
            "80/80 [==============================] - 0s 24us/sample - loss: 0.4773 - inflam_loss: 0.0488 - nephr_loss: 0.4286 - inflam_acc: 1.0000 - nephr_acc: 0.9000\n",
            "Epoch 616/1000\n",
            "80/80 [==============================] - 0s 42us/sample - loss: 0.4771 - inflam_loss: 0.0488 - nephr_loss: 0.4283 - inflam_acc: 1.0000 - nephr_acc: 1.0000\n",
            "Epoch 617/1000\n",
            "80/80 [==============================] - 0s 23us/sample - loss: 0.4768 - inflam_loss: 0.0487 - nephr_loss: 0.4281 - inflam_acc: 1.0000 - nephr_acc: 0.9000\n",
            "Epoch 618/1000\n",
            "80/80 [==============================] - 0s 19us/sample - loss: 0.4765 - inflam_loss: 0.0487 - nephr_loss: 0.4278 - inflam_acc: 1.0000 - nephr_acc: 1.0000\n",
            "Epoch 619/1000\n",
            "80/80 [==============================] - 0s 19us/sample - loss: 0.4763 - inflam_loss: 0.0487 - nephr_loss: 0.4276 - inflam_acc: 1.0000 - nephr_acc: 0.9000\n",
            "Epoch 620/1000\n",
            "80/80 [==============================] - 0s 23us/sample - loss: 0.4760 - inflam_loss: 0.0487 - nephr_loss: 0.4273 - inflam_acc: 1.0000 - nephr_acc: 1.0000\n",
            "Epoch 621/1000\n",
            "80/80 [==============================] - 0s 24us/sample - loss: 0.4757 - inflam_loss: 0.0486 - nephr_loss: 0.4271 - inflam_acc: 1.0000 - nephr_acc: 0.9000\n",
            "Epoch 622/1000\n",
            "80/80 [==============================] - 0s 20us/sample - loss: 0.4754 - inflam_loss: 0.0486 - nephr_loss: 0.4268 - inflam_acc: 1.0000 - nephr_acc: 1.0000\n",
            "Epoch 623/1000\n",
            "80/80 [==============================] - 0s 21us/sample - loss: 0.4752 - inflam_loss: 0.0486 - nephr_loss: 0.4266 - inflam_acc: 1.0000 - nephr_acc: 0.9000\n",
            "Epoch 624/1000\n",
            "80/80 [==============================] - 0s 21us/sample - loss: 0.4749 - inflam_loss: 0.0486 - nephr_loss: 0.4263 - inflam_acc: 1.0000 - nephr_acc: 1.0000\n",
            "Epoch 625/1000\n",
            "80/80 [==============================] - 0s 18us/sample - loss: 0.4746 - inflam_loss: 0.0485 - nephr_loss: 0.4261 - inflam_acc: 1.0000 - nephr_acc: 0.9000\n",
            "Epoch 626/1000\n",
            "80/80 [==============================] - 0s 32us/sample - loss: 0.4744 - inflam_loss: 0.0485 - nephr_loss: 0.4259 - inflam_acc: 1.0000 - nephr_acc: 1.0000\n",
            "Epoch 627/1000\n",
            "80/80 [==============================] - 0s 19us/sample - loss: 0.4741 - inflam_loss: 0.0485 - nephr_loss: 0.4256 - inflam_acc: 1.0000 - nephr_acc: 0.9000\n",
            "Epoch 628/1000\n",
            "80/80 [==============================] - 0s 35us/sample - loss: 0.4738 - inflam_loss: 0.0485 - nephr_loss: 0.4254 - inflam_acc: 1.0000 - nephr_acc: 1.0000\n",
            "Epoch 629/1000\n",
            "80/80 [==============================] - 0s 44us/sample - loss: 0.4736 - inflam_loss: 0.0484 - nephr_loss: 0.4251 - inflam_acc: 1.0000 - nephr_acc: 0.9000\n",
            "Epoch 630/1000\n",
            "80/80 [==============================] - 0s 22us/sample - loss: 0.4733 - inflam_loss: 0.0484 - nephr_loss: 0.4249 - inflam_acc: 1.0000 - nephr_acc: 1.0000\n",
            "Epoch 631/1000\n",
            "80/80 [==============================] - 0s 23us/sample - loss: 0.4730 - inflam_loss: 0.0484 - nephr_loss: 0.4246 - inflam_acc: 1.0000 - nephr_acc: 0.9000\n",
            "Epoch 632/1000\n",
            "80/80 [==============================] - 0s 20us/sample - loss: 0.4727 - inflam_loss: 0.0484 - nephr_loss: 0.4244 - inflam_acc: 1.0000 - nephr_acc: 1.0000\n",
            "Epoch 633/1000\n",
            "80/80 [==============================] - 0s 21us/sample - loss: 0.4725 - inflam_loss: 0.0483 - nephr_loss: 0.4241 - inflam_acc: 1.0000 - nephr_acc: 0.9000\n",
            "Epoch 634/1000\n",
            "80/80 [==============================] - 0s 20us/sample - loss: 0.4722 - inflam_loss: 0.0483 - nephr_loss: 0.4239 - inflam_acc: 1.0000 - nephr_acc: 1.0000\n",
            "Epoch 635/1000\n",
            "80/80 [==============================] - 0s 22us/sample - loss: 0.4719 - inflam_loss: 0.0483 - nephr_loss: 0.4237 - inflam_acc: 1.0000 - nephr_acc: 0.9125\n",
            "Epoch 636/1000\n",
            "80/80 [==============================] - 0s 21us/sample - loss: 0.4717 - inflam_loss: 0.0483 - nephr_loss: 0.4234 - inflam_acc: 1.0000 - nephr_acc: 1.0000\n",
            "Epoch 637/1000\n",
            "80/80 [==============================] - 0s 22us/sample - loss: 0.4714 - inflam_loss: 0.0482 - nephr_loss: 0.4232 - inflam_acc: 1.0000 - nephr_acc: 0.9125\n",
            "Epoch 638/1000\n",
            "80/80 [==============================] - 0s 19us/sample - loss: 0.4711 - inflam_loss: 0.0482 - nephr_loss: 0.4229 - inflam_acc: 1.0000 - nephr_acc: 1.0000\n",
            "Epoch 639/1000\n",
            "80/80 [==============================] - 0s 23us/sample - loss: 0.4709 - inflam_loss: 0.0482 - nephr_loss: 0.4227 - inflam_acc: 1.0000 - nephr_acc: 0.9125\n",
            "Epoch 640/1000\n",
            "80/80 [==============================] - 0s 21us/sample - loss: 0.4706 - inflam_loss: 0.0482 - nephr_loss: 0.4224 - inflam_acc: 1.0000 - nephr_acc: 1.0000\n",
            "Epoch 641/1000\n",
            "80/80 [==============================] - 0s 18us/sample - loss: 0.4703 - inflam_loss: 0.0481 - nephr_loss: 0.4222 - inflam_acc: 1.0000 - nephr_acc: 0.9125\n",
            "Epoch 642/1000\n",
            "80/80 [==============================] - 0s 21us/sample - loss: 0.4701 - inflam_loss: 0.0481 - nephr_loss: 0.4220 - inflam_acc: 1.0000 - nephr_acc: 1.0000\n",
            "Epoch 643/1000\n",
            "80/80 [==============================] - 0s 25us/sample - loss: 0.4698 - inflam_loss: 0.0481 - nephr_loss: 0.4217 - inflam_acc: 1.0000 - nephr_acc: 0.9125\n",
            "Epoch 644/1000\n",
            "80/80 [==============================] - 0s 21us/sample - loss: 0.4695 - inflam_loss: 0.0481 - nephr_loss: 0.4215 - inflam_acc: 1.0000 - nephr_acc: 1.0000\n",
            "Epoch 645/1000\n",
            "80/80 [==============================] - 0s 23us/sample - loss: 0.4693 - inflam_loss: 0.0480 - nephr_loss: 0.4212 - inflam_acc: 1.0000 - nephr_acc: 0.9250\n",
            "Epoch 646/1000\n",
            "80/80 [==============================] - 0s 24us/sample - loss: 0.4690 - inflam_loss: 0.0480 - nephr_loss: 0.4210 - inflam_acc: 1.0000 - nephr_acc: 1.0000\n",
            "Epoch 647/1000\n",
            "80/80 [==============================] - 0s 20us/sample - loss: 0.4687 - inflam_loss: 0.0480 - nephr_loss: 0.4207 - inflam_acc: 1.0000 - nephr_acc: 0.9250\n",
            "Epoch 648/1000\n",
            "80/80 [==============================] - 0s 25us/sample - loss: 0.4685 - inflam_loss: 0.0480 - nephr_loss: 0.4205 - inflam_acc: 1.0000 - nephr_acc: 1.0000\n",
            "Epoch 649/1000\n",
            "80/80 [==============================] - 0s 21us/sample - loss: 0.4682 - inflam_loss: 0.0479 - nephr_loss: 0.4203 - inflam_acc: 1.0000 - nephr_acc: 0.9375\n",
            "Epoch 650/1000\n",
            "80/80 [==============================] - 0s 20us/sample - loss: 0.4679 - inflam_loss: 0.0479 - nephr_loss: 0.4200 - inflam_acc: 1.0000 - nephr_acc: 1.0000\n",
            "Epoch 651/1000\n",
            "80/80 [==============================] - 0s 28us/sample - loss: 0.4677 - inflam_loss: 0.0479 - nephr_loss: 0.4198 - inflam_acc: 1.0000 - nephr_acc: 0.9375\n",
            "Epoch 652/1000\n",
            "80/80 [==============================] - 0s 23us/sample - loss: 0.4674 - inflam_loss: 0.0479 - nephr_loss: 0.4195 - inflam_acc: 1.0000 - nephr_acc: 1.0000\n",
            "Epoch 653/1000\n",
            "80/80 [==============================] - 0s 19us/sample - loss: 0.4671 - inflam_loss: 0.0478 - nephr_loss: 0.4193 - inflam_acc: 1.0000 - nephr_acc: 0.9500\n",
            "Epoch 654/1000\n",
            "80/80 [==============================] - 0s 19us/sample - loss: 0.4669 - inflam_loss: 0.0478 - nephr_loss: 0.4191 - inflam_acc: 1.0000 - nephr_acc: 1.0000\n",
            "Epoch 655/1000\n",
            "80/80 [==============================] - 0s 31us/sample - loss: 0.4666 - inflam_loss: 0.0478 - nephr_loss: 0.4188 - inflam_acc: 1.0000 - nephr_acc: 0.9500\n",
            "Epoch 656/1000\n",
            "80/80 [==============================] - 0s 19us/sample - loss: 0.4664 - inflam_loss: 0.0478 - nephr_loss: 0.4186 - inflam_acc: 1.0000 - nephr_acc: 1.0000\n",
            "Epoch 657/1000\n",
            "80/80 [==============================] - 0s 21us/sample - loss: 0.4661 - inflam_loss: 0.0477 - nephr_loss: 0.4183 - inflam_acc: 1.0000 - nephr_acc: 0.9500\n",
            "Epoch 658/1000\n",
            "80/80 [==============================] - 0s 20us/sample - loss: 0.4658 - inflam_loss: 0.0477 - nephr_loss: 0.4181 - inflam_acc: 1.0000 - nephr_acc: 1.0000\n",
            "Epoch 659/1000\n",
            "80/80 [==============================] - 0s 20us/sample - loss: 0.4656 - inflam_loss: 0.0477 - nephr_loss: 0.4179 - inflam_acc: 1.0000 - nephr_acc: 0.9500\n",
            "Epoch 660/1000\n",
            "80/80 [==============================] - 0s 19us/sample - loss: 0.4653 - inflam_loss: 0.0477 - nephr_loss: 0.4176 - inflam_acc: 1.0000 - nephr_acc: 1.0000\n",
            "Epoch 661/1000\n",
            "80/80 [==============================] - 0s 17us/sample - loss: 0.4650 - inflam_loss: 0.0476 - nephr_loss: 0.4174 - inflam_acc: 1.0000 - nephr_acc: 0.9500\n",
            "Epoch 662/1000\n",
            "80/80 [==============================] - 0s 18us/sample - loss: 0.4648 - inflam_loss: 0.0476 - nephr_loss: 0.4171 - inflam_acc: 1.0000 - nephr_acc: 1.0000\n",
            "Epoch 663/1000\n",
            "80/80 [==============================] - 0s 19us/sample - loss: 0.4645 - inflam_loss: 0.0476 - nephr_loss: 0.4169 - inflam_acc: 1.0000 - nephr_acc: 0.9625\n",
            "Epoch 664/1000\n",
            "80/80 [==============================] - 0s 15us/sample - loss: 0.4642 - inflam_loss: 0.0476 - nephr_loss: 0.4167 - inflam_acc: 1.0000 - nephr_acc: 1.0000\n",
            "Epoch 665/1000\n",
            "80/80 [==============================] - 0s 21us/sample - loss: 0.4640 - inflam_loss: 0.0476 - nephr_loss: 0.4164 - inflam_acc: 1.0000 - nephr_acc: 0.9750\n",
            "Epoch 666/1000\n",
            "80/80 [==============================] - 0s 28us/sample - loss: 0.4637 - inflam_loss: 0.0475 - nephr_loss: 0.4162 - inflam_acc: 1.0000 - nephr_acc: 1.0000\n",
            "Epoch 667/1000\n",
            "80/80 [==============================] - 0s 20us/sample - loss: 0.4635 - inflam_loss: 0.0475 - nephr_loss: 0.4159 - inflam_acc: 1.0000 - nephr_acc: 0.9750\n",
            "Epoch 668/1000\n",
            "80/80 [==============================] - 0s 27us/sample - loss: 0.4632 - inflam_loss: 0.0475 - nephr_loss: 0.4157 - inflam_acc: 1.0000 - nephr_acc: 1.0000\n",
            "Epoch 669/1000\n",
            "80/80 [==============================] - 0s 21us/sample - loss: 0.4629 - inflam_loss: 0.0475 - nephr_loss: 0.4155 - inflam_acc: 1.0000 - nephr_acc: 0.9750\n",
            "Epoch 670/1000\n",
            "80/80 [==============================] - 0s 20us/sample - loss: 0.4627 - inflam_loss: 0.0474 - nephr_loss: 0.4152 - inflam_acc: 1.0000 - nephr_acc: 1.0000\n",
            "Epoch 671/1000\n",
            "80/80 [==============================] - 0s 22us/sample - loss: 0.4624 - inflam_loss: 0.0474 - nephr_loss: 0.4150 - inflam_acc: 1.0000 - nephr_acc: 0.9750\n",
            "Epoch 672/1000\n",
            "80/80 [==============================] - 0s 19us/sample - loss: 0.4621 - inflam_loss: 0.0474 - nephr_loss: 0.4148 - inflam_acc: 1.0000 - nephr_acc: 1.0000\n",
            "Epoch 673/1000\n",
            "80/80 [==============================] - 0s 21us/sample - loss: 0.4619 - inflam_loss: 0.0474 - nephr_loss: 0.4145 - inflam_acc: 1.0000 - nephr_acc: 0.9875\n",
            "Epoch 674/1000\n",
            "80/80 [==============================] - 0s 23us/sample - loss: 0.4616 - inflam_loss: 0.0473 - nephr_loss: 0.4143 - inflam_acc: 1.0000 - nephr_acc: 1.0000\n",
            "Epoch 675/1000\n",
            "80/80 [==============================] - 0s 22us/sample - loss: 0.4614 - inflam_loss: 0.0473 - nephr_loss: 0.4140 - inflam_acc: 1.0000 - nephr_acc: 0.9875\n",
            "Epoch 676/1000\n",
            "80/80 [==============================] - 0s 22us/sample - loss: 0.4611 - inflam_loss: 0.0473 - nephr_loss: 0.4138 - inflam_acc: 1.0000 - nephr_acc: 1.0000\n",
            "Epoch 677/1000\n",
            "80/80 [==============================] - 0s 35us/sample - loss: 0.4608 - inflam_loss: 0.0473 - nephr_loss: 0.4136 - inflam_acc: 1.0000 - nephr_acc: 0.9875\n",
            "Epoch 678/1000\n",
            "80/80 [==============================] - 0s 21us/sample - loss: 0.4606 - inflam_loss: 0.0472 - nephr_loss: 0.4133 - inflam_acc: 1.0000 - nephr_acc: 1.0000\n",
            "Epoch 679/1000\n",
            "80/80 [==============================] - 0s 31us/sample - loss: 0.4603 - inflam_loss: 0.0472 - nephr_loss: 0.4131 - inflam_acc: 1.0000 - nephr_acc: 0.9875\n",
            "Epoch 680/1000\n",
            "80/80 [==============================] - 0s 34us/sample - loss: 0.4601 - inflam_loss: 0.0472 - nephr_loss: 0.4129 - inflam_acc: 1.0000 - nephr_acc: 1.0000\n",
            "Epoch 681/1000\n",
            "80/80 [==============================] - 0s 25us/sample - loss: 0.4598 - inflam_loss: 0.0472 - nephr_loss: 0.4126 - inflam_acc: 1.0000 - nephr_acc: 0.9875\n",
            "Epoch 682/1000\n",
            "80/80 [==============================] - 0s 18us/sample - loss: 0.4595 - inflam_loss: 0.0471 - nephr_loss: 0.4124 - inflam_acc: 1.0000 - nephr_acc: 1.0000\n",
            "Epoch 683/1000\n",
            "80/80 [==============================] - 0s 21us/sample - loss: 0.4593 - inflam_loss: 0.0471 - nephr_loss: 0.4122 - inflam_acc: 1.0000 - nephr_acc: 0.9875\n",
            "Epoch 684/1000\n",
            "80/80 [==============================] - 0s 22us/sample - loss: 0.4590 - inflam_loss: 0.0471 - nephr_loss: 0.4119 - inflam_acc: 1.0000 - nephr_acc: 1.0000\n",
            "Epoch 685/1000\n",
            "80/80 [==============================] - 0s 23us/sample - loss: 0.4588 - inflam_loss: 0.0471 - nephr_loss: 0.4117 - inflam_acc: 1.0000 - nephr_acc: 1.0000\n",
            "Epoch 686/1000\n",
            "80/80 [==============================] - 0s 30us/sample - loss: 0.4585 - inflam_loss: 0.0470 - nephr_loss: 0.4114 - inflam_acc: 1.0000 - nephr_acc: 1.0000\n",
            "Epoch 687/1000\n",
            "80/80 [==============================] - 0s 29us/sample - loss: 0.4582 - inflam_loss: 0.0470 - nephr_loss: 0.4112 - inflam_acc: 1.0000 - nephr_acc: 1.0000\n",
            "Epoch 688/1000\n",
            "80/80 [==============================] - 0s 21us/sample - loss: 0.4580 - inflam_loss: 0.0470 - nephr_loss: 0.4110 - inflam_acc: 1.0000 - nephr_acc: 1.0000\n",
            "Epoch 689/1000\n",
            "80/80 [==============================] - 0s 21us/sample - loss: 0.4577 - inflam_loss: 0.0470 - nephr_loss: 0.4107 - inflam_acc: 1.0000 - nephr_acc: 1.0000\n",
            "Epoch 690/1000\n",
            "80/80 [==============================] - 0s 27us/sample - loss: 0.4575 - inflam_loss: 0.0469 - nephr_loss: 0.4105 - inflam_acc: 1.0000 - nephr_acc: 1.0000\n",
            "Epoch 691/1000\n",
            "80/80 [==============================] - 0s 23us/sample - loss: 0.4572 - inflam_loss: 0.0469 - nephr_loss: 0.4103 - inflam_acc: 1.0000 - nephr_acc: 1.0000\n",
            "Epoch 692/1000\n",
            "80/80 [==============================] - 0s 25us/sample - loss: 0.4569 - inflam_loss: 0.0469 - nephr_loss: 0.4100 - inflam_acc: 1.0000 - nephr_acc: 1.0000\n",
            "Epoch 693/1000\n",
            "80/80 [==============================] - 0s 33us/sample - loss: 0.4567 - inflam_loss: 0.0469 - nephr_loss: 0.4098 - inflam_acc: 1.0000 - nephr_acc: 1.0000\n",
            "Epoch 694/1000\n",
            "80/80 [==============================] - 0s 25us/sample - loss: 0.4564 - inflam_loss: 0.0469 - nephr_loss: 0.4096 - inflam_acc: 1.0000 - nephr_acc: 1.0000\n",
            "Epoch 695/1000\n",
            "80/80 [==============================] - 0s 21us/sample - loss: 0.4562 - inflam_loss: 0.0468 - nephr_loss: 0.4093 - inflam_acc: 1.0000 - nephr_acc: 1.0000\n",
            "Epoch 696/1000\n",
            "80/80 [==============================] - 0s 20us/sample - loss: 0.4559 - inflam_loss: 0.0468 - nephr_loss: 0.4091 - inflam_acc: 1.0000 - nephr_acc: 1.0000\n",
            "Epoch 697/1000\n",
            "80/80 [==============================] - 0s 31us/sample - loss: 0.4556 - inflam_loss: 0.0468 - nephr_loss: 0.4089 - inflam_acc: 1.0000 - nephr_acc: 1.0000\n",
            "Epoch 698/1000\n",
            "80/80 [==============================] - 0s 33us/sample - loss: 0.4554 - inflam_loss: 0.0468 - nephr_loss: 0.4086 - inflam_acc: 1.0000 - nephr_acc: 1.0000\n",
            "Epoch 699/1000\n",
            "80/80 [==============================] - 0s 23us/sample - loss: 0.4551 - inflam_loss: 0.0467 - nephr_loss: 0.4084 - inflam_acc: 1.0000 - nephr_acc: 1.0000\n",
            "Epoch 700/1000\n",
            "80/80 [==============================] - 0s 21us/sample - loss: 0.4549 - inflam_loss: 0.0467 - nephr_loss: 0.4082 - inflam_acc: 1.0000 - nephr_acc: 1.0000\n",
            "Epoch 701/1000\n",
            "80/80 [==============================] - 0s 30us/sample - loss: 0.4546 - inflam_loss: 0.0467 - nephr_loss: 0.4079 - inflam_acc: 1.0000 - nephr_acc: 1.0000\n",
            "Epoch 702/1000\n",
            "80/80 [==============================] - 0s 23us/sample - loss: 0.4544 - inflam_loss: 0.0467 - nephr_loss: 0.4077 - inflam_acc: 1.0000 - nephr_acc: 1.0000\n",
            "Epoch 703/1000\n",
            "80/80 [==============================] - 0s 23us/sample - loss: 0.4541 - inflam_loss: 0.0466 - nephr_loss: 0.4075 - inflam_acc: 1.0000 - nephr_acc: 1.0000\n",
            "Epoch 704/1000\n",
            "80/80 [==============================] - 0s 17us/sample - loss: 0.4538 - inflam_loss: 0.0466 - nephr_loss: 0.4072 - inflam_acc: 1.0000 - nephr_acc: 1.0000\n",
            "Epoch 705/1000\n",
            "80/80 [==============================] - 0s 21us/sample - loss: 0.4536 - inflam_loss: 0.0466 - nephr_loss: 0.4070 - inflam_acc: 1.0000 - nephr_acc: 1.0000\n",
            "Epoch 706/1000\n",
            "80/80 [==============================] - 0s 21us/sample - loss: 0.4533 - inflam_loss: 0.0466 - nephr_loss: 0.4068 - inflam_acc: 1.0000 - nephr_acc: 1.0000\n",
            "Epoch 707/1000\n",
            "80/80 [==============================] - 0s 27us/sample - loss: 0.4531 - inflam_loss: 0.0465 - nephr_loss: 0.4065 - inflam_acc: 1.0000 - nephr_acc: 1.0000\n",
            "Epoch 708/1000\n",
            "80/80 [==============================] - 0s 23us/sample - loss: 0.4528 - inflam_loss: 0.0465 - nephr_loss: 0.4063 - inflam_acc: 1.0000 - nephr_acc: 1.0000\n",
            "Epoch 709/1000\n",
            "80/80 [==============================] - 0s 22us/sample - loss: 0.4526 - inflam_loss: 0.0465 - nephr_loss: 0.4061 - inflam_acc: 1.0000 - nephr_acc: 1.0000\n",
            "Epoch 710/1000\n",
            "80/80 [==============================] - 0s 22us/sample - loss: 0.4523 - inflam_loss: 0.0465 - nephr_loss: 0.4058 - inflam_acc: 1.0000 - nephr_acc: 1.0000\n",
            "Epoch 711/1000\n",
            "80/80 [==============================] - 0s 24us/sample - loss: 0.4521 - inflam_loss: 0.0464 - nephr_loss: 0.4056 - inflam_acc: 1.0000 - nephr_acc: 1.0000\n",
            "Epoch 712/1000\n",
            "80/80 [==============================] - 0s 20us/sample - loss: 0.4518 - inflam_loss: 0.0464 - nephr_loss: 0.4054 - inflam_acc: 1.0000 - nephr_acc: 1.0000\n",
            "Epoch 713/1000\n",
            "80/80 [==============================] - 0s 18us/sample - loss: 0.4515 - inflam_loss: 0.0464 - nephr_loss: 0.4051 - inflam_acc: 1.0000 - nephr_acc: 1.0000\n",
            "Epoch 714/1000\n",
            "80/80 [==============================] - 0s 18us/sample - loss: 0.4513 - inflam_loss: 0.0464 - nephr_loss: 0.4049 - inflam_acc: 1.0000 - nephr_acc: 1.0000\n",
            "Epoch 715/1000\n",
            "80/80 [==============================] - 0s 21us/sample - loss: 0.4510 - inflam_loss: 0.0464 - nephr_loss: 0.4047 - inflam_acc: 1.0000 - nephr_acc: 1.0000\n",
            "Epoch 716/1000\n",
            "80/80 [==============================] - 0s 48us/sample - loss: 0.4508 - inflam_loss: 0.0463 - nephr_loss: 0.4044 - inflam_acc: 1.0000 - nephr_acc: 1.0000\n",
            "Epoch 717/1000\n",
            "80/80 [==============================] - 0s 19us/sample - loss: 0.4505 - inflam_loss: 0.0463 - nephr_loss: 0.4042 - inflam_acc: 1.0000 - nephr_acc: 1.0000\n",
            "Epoch 718/1000\n",
            "80/80 [==============================] - 0s 27us/sample - loss: 0.4503 - inflam_loss: 0.0463 - nephr_loss: 0.4040 - inflam_acc: 1.0000 - nephr_acc: 1.0000\n",
            "Epoch 719/1000\n",
            "80/80 [==============================] - 0s 20us/sample - loss: 0.4500 - inflam_loss: 0.0463 - nephr_loss: 0.4038 - inflam_acc: 1.0000 - nephr_acc: 1.0000\n",
            "Epoch 720/1000\n",
            "80/80 [==============================] - 0s 21us/sample - loss: 0.4498 - inflam_loss: 0.0462 - nephr_loss: 0.4035 - inflam_acc: 1.0000 - nephr_acc: 1.0000\n",
            "Epoch 721/1000\n",
            "80/80 [==============================] - 0s 24us/sample - loss: 0.4495 - inflam_loss: 0.0462 - nephr_loss: 0.4033 - inflam_acc: 1.0000 - nephr_acc: 1.0000\n",
            "Epoch 722/1000\n",
            "80/80 [==============================] - 0s 24us/sample - loss: 0.4493 - inflam_loss: 0.0462 - nephr_loss: 0.4031 - inflam_acc: 1.0000 - nephr_acc: 1.0000\n",
            "Epoch 723/1000\n",
            "80/80 [==============================] - 0s 20us/sample - loss: 0.4490 - inflam_loss: 0.0462 - nephr_loss: 0.4028 - inflam_acc: 1.0000 - nephr_acc: 1.0000\n",
            "Epoch 724/1000\n",
            "80/80 [==============================] - 0s 19us/sample - loss: 0.4487 - inflam_loss: 0.0461 - nephr_loss: 0.4026 - inflam_acc: 1.0000 - nephr_acc: 1.0000\n",
            "Epoch 725/1000\n",
            "80/80 [==============================] - 0s 19us/sample - loss: 0.4485 - inflam_loss: 0.0461 - nephr_loss: 0.4024 - inflam_acc: 1.0000 - nephr_acc: 1.0000\n",
            "Epoch 726/1000\n",
            "80/80 [==============================] - 0s 22us/sample - loss: 0.4482 - inflam_loss: 0.0461 - nephr_loss: 0.4021 - inflam_acc: 1.0000 - nephr_acc: 1.0000\n",
            "Epoch 727/1000\n",
            "80/80 [==============================] - 0s 26us/sample - loss: 0.4480 - inflam_loss: 0.0461 - nephr_loss: 0.4019 - inflam_acc: 1.0000 - nephr_acc: 1.0000\n",
            "Epoch 728/1000\n",
            "80/80 [==============================] - 0s 21us/sample - loss: 0.4477 - inflam_loss: 0.0460 - nephr_loss: 0.4017 - inflam_acc: 1.0000 - nephr_acc: 1.0000\n",
            "Epoch 729/1000\n",
            "80/80 [==============================] - 0s 21us/sample - loss: 0.4475 - inflam_loss: 0.0460 - nephr_loss: 0.4015 - inflam_acc: 1.0000 - nephr_acc: 1.0000\n",
            "Epoch 730/1000\n",
            "80/80 [==============================] - 0s 35us/sample - loss: 0.4472 - inflam_loss: 0.0460 - nephr_loss: 0.4012 - inflam_acc: 1.0000 - nephr_acc: 1.0000\n",
            "Epoch 731/1000\n",
            "80/80 [==============================] - 0s 22us/sample - loss: 0.4470 - inflam_loss: 0.0460 - nephr_loss: 0.4010 - inflam_acc: 1.0000 - nephr_acc: 1.0000\n",
            "Epoch 732/1000\n",
            "80/80 [==============================] - 0s 23us/sample - loss: 0.4467 - inflam_loss: 0.0460 - nephr_loss: 0.4008 - inflam_acc: 1.0000 - nephr_acc: 1.0000\n",
            "Epoch 733/1000\n",
            "80/80 [==============================] - 0s 25us/sample - loss: 0.4465 - inflam_loss: 0.0459 - nephr_loss: 0.4005 - inflam_acc: 1.0000 - nephr_acc: 1.0000\n",
            "Epoch 734/1000\n",
            "80/80 [==============================] - 0s 21us/sample - loss: 0.4462 - inflam_loss: 0.0459 - nephr_loss: 0.4003 - inflam_acc: 1.0000 - nephr_acc: 1.0000\n",
            "Epoch 735/1000\n",
            "80/80 [==============================] - 0s 23us/sample - loss: 0.4460 - inflam_loss: 0.0459 - nephr_loss: 0.4001 - inflam_acc: 1.0000 - nephr_acc: 1.0000\n",
            "Epoch 736/1000\n",
            "80/80 [==============================] - 0s 23us/sample - loss: 0.4457 - inflam_loss: 0.0459 - nephr_loss: 0.3999 - inflam_acc: 1.0000 - nephr_acc: 1.0000\n",
            "Epoch 737/1000\n",
            "80/80 [==============================] - 0s 23us/sample - loss: 0.4455 - inflam_loss: 0.0458 - nephr_loss: 0.3996 - inflam_acc: 1.0000 - nephr_acc: 1.0000\n",
            "Epoch 738/1000\n",
            "80/80 [==============================] - 0s 27us/sample - loss: 0.4452 - inflam_loss: 0.0458 - nephr_loss: 0.3994 - inflam_acc: 1.0000 - nephr_acc: 1.0000\n",
            "Epoch 739/1000\n",
            "80/80 [==============================] - 0s 26us/sample - loss: 0.4450 - inflam_loss: 0.0458 - nephr_loss: 0.3992 - inflam_acc: 1.0000 - nephr_acc: 1.0000\n",
            "Epoch 740/1000\n",
            "80/80 [==============================] - 0s 26us/sample - loss: 0.4447 - inflam_loss: 0.0458 - nephr_loss: 0.3989 - inflam_acc: 1.0000 - nephr_acc: 1.0000\n",
            "Epoch 741/1000\n",
            "80/80 [==============================] - 0s 23us/sample - loss: 0.4445 - inflam_loss: 0.0457 - nephr_loss: 0.3987 - inflam_acc: 1.0000 - nephr_acc: 1.0000\n",
            "Epoch 742/1000\n",
            "80/80 [==============================] - 0s 30us/sample - loss: 0.4442 - inflam_loss: 0.0457 - nephr_loss: 0.3985 - inflam_acc: 1.0000 - nephr_acc: 1.0000\n",
            "Epoch 743/1000\n",
            "80/80 [==============================] - 0s 45us/sample - loss: 0.4440 - inflam_loss: 0.0457 - nephr_loss: 0.3983 - inflam_acc: 1.0000 - nephr_acc: 1.0000\n",
            "Epoch 744/1000\n",
            "80/80 [==============================] - 0s 24us/sample - loss: 0.4437 - inflam_loss: 0.0457 - nephr_loss: 0.3980 - inflam_acc: 1.0000 - nephr_acc: 1.0000\n",
            "Epoch 745/1000\n",
            "80/80 [==============================] - 0s 21us/sample - loss: 0.4435 - inflam_loss: 0.0457 - nephr_loss: 0.3978 - inflam_acc: 1.0000 - nephr_acc: 1.0000\n",
            "Epoch 746/1000\n",
            "80/80 [==============================] - 0s 27us/sample - loss: 0.4432 - inflam_loss: 0.0456 - nephr_loss: 0.3976 - inflam_acc: 1.0000 - nephr_acc: 1.0000\n",
            "Epoch 747/1000\n",
            "80/80 [==============================] - 0s 21us/sample - loss: 0.4430 - inflam_loss: 0.0456 - nephr_loss: 0.3974 - inflam_acc: 1.0000 - nephr_acc: 1.0000\n",
            "Epoch 748/1000\n",
            "80/80 [==============================] - 0s 22us/sample - loss: 0.4427 - inflam_loss: 0.0456 - nephr_loss: 0.3971 - inflam_acc: 1.0000 - nephr_acc: 1.0000\n",
            "Epoch 749/1000\n",
            "80/80 [==============================] - 0s 22us/sample - loss: 0.4425 - inflam_loss: 0.0456 - nephr_loss: 0.3969 - inflam_acc: 1.0000 - nephr_acc: 1.0000\n",
            "Epoch 750/1000\n",
            "80/80 [==============================] - 0s 20us/sample - loss: 0.4422 - inflam_loss: 0.0455 - nephr_loss: 0.3967 - inflam_acc: 1.0000 - nephr_acc: 1.0000\n",
            "Epoch 751/1000\n",
            "80/80 [==============================] - 0s 23us/sample - loss: 0.4420 - inflam_loss: 0.0455 - nephr_loss: 0.3965 - inflam_acc: 1.0000 - nephr_acc: 1.0000\n",
            "Epoch 752/1000\n",
            "80/80 [==============================] - 0s 19us/sample - loss: 0.4417 - inflam_loss: 0.0455 - nephr_loss: 0.3962 - inflam_acc: 1.0000 - nephr_acc: 1.0000\n",
            "Epoch 753/1000\n",
            "80/80 [==============================] - 0s 25us/sample - loss: 0.4415 - inflam_loss: 0.0455 - nephr_loss: 0.3960 - inflam_acc: 1.0000 - nephr_acc: 1.0000\n",
            "Epoch 754/1000\n",
            "80/80 [==============================] - 0s 28us/sample - loss: 0.4412 - inflam_loss: 0.0454 - nephr_loss: 0.3958 - inflam_acc: 1.0000 - nephr_acc: 1.0000\n",
            "Epoch 755/1000\n",
            "80/80 [==============================] - 0s 22us/sample - loss: 0.4410 - inflam_loss: 0.0454 - nephr_loss: 0.3955 - inflam_acc: 1.0000 - nephr_acc: 1.0000\n",
            "Epoch 756/1000\n",
            "80/80 [==============================] - 0s 23us/sample - loss: 0.4407 - inflam_loss: 0.0454 - nephr_loss: 0.3953 - inflam_acc: 1.0000 - nephr_acc: 1.0000\n",
            "Epoch 757/1000\n",
            "80/80 [==============================] - 0s 18us/sample - loss: 0.4405 - inflam_loss: 0.0454 - nephr_loss: 0.3951 - inflam_acc: 1.0000 - nephr_acc: 1.0000\n",
            "Epoch 758/1000\n",
            "80/80 [==============================] - 0s 20us/sample - loss: 0.4402 - inflam_loss: 0.0454 - nephr_loss: 0.3949 - inflam_acc: 1.0000 - nephr_acc: 1.0000\n",
            "Epoch 759/1000\n",
            "80/80 [==============================] - 0s 19us/sample - loss: 0.4400 - inflam_loss: 0.0453 - nephr_loss: 0.3946 - inflam_acc: 1.0000 - nephr_acc: 1.0000\n",
            "Epoch 760/1000\n",
            "80/80 [==============================] - 0s 36us/sample - loss: 0.4397 - inflam_loss: 0.0453 - nephr_loss: 0.3944 - inflam_acc: 1.0000 - nephr_acc: 1.0000\n",
            "Epoch 761/1000\n",
            "80/80 [==============================] - 0s 26us/sample - loss: 0.4395 - inflam_loss: 0.0453 - nephr_loss: 0.3942 - inflam_acc: 1.0000 - nephr_acc: 1.0000\n",
            "Epoch 762/1000\n",
            "80/80 [==============================] - 0s 35us/sample - loss: 0.4392 - inflam_loss: 0.0453 - nephr_loss: 0.3940 - inflam_acc: 1.0000 - nephr_acc: 1.0000\n",
            "Epoch 763/1000\n",
            "80/80 [==============================] - 0s 23us/sample - loss: 0.4390 - inflam_loss: 0.0452 - nephr_loss: 0.3938 - inflam_acc: 1.0000 - nephr_acc: 1.0000\n",
            "Epoch 764/1000\n",
            "80/80 [==============================] - 0s 26us/sample - loss: 0.4387 - inflam_loss: 0.0452 - nephr_loss: 0.3935 - inflam_acc: 1.0000 - nephr_acc: 1.0000\n",
            "Epoch 765/1000\n",
            "80/80 [==============================] - 0s 20us/sample - loss: 0.4385 - inflam_loss: 0.0452 - nephr_loss: 0.3933 - inflam_acc: 1.0000 - nephr_acc: 1.0000\n",
            "Epoch 766/1000\n",
            "80/80 [==============================] - 0s 22us/sample - loss: 0.4382 - inflam_loss: 0.0452 - nephr_loss: 0.3931 - inflam_acc: 1.0000 - nephr_acc: 1.0000\n",
            "Epoch 767/1000\n",
            "80/80 [==============================] - 0s 22us/sample - loss: 0.4380 - inflam_loss: 0.0451 - nephr_loss: 0.3929 - inflam_acc: 1.0000 - nephr_acc: 1.0000\n",
            "Epoch 768/1000\n",
            "80/80 [==============================] - 0s 26us/sample - loss: 0.4378 - inflam_loss: 0.0451 - nephr_loss: 0.3926 - inflam_acc: 1.0000 - nephr_acc: 1.0000\n",
            "Epoch 769/1000\n",
            "80/80 [==============================] - 0s 22us/sample - loss: 0.4375 - inflam_loss: 0.0451 - nephr_loss: 0.3924 - inflam_acc: 1.0000 - nephr_acc: 1.0000\n",
            "Epoch 770/1000\n",
            "80/80 [==============================] - 0s 20us/sample - loss: 0.4373 - inflam_loss: 0.0451 - nephr_loss: 0.3922 - inflam_acc: 1.0000 - nephr_acc: 1.0000\n",
            "Epoch 771/1000\n",
            "80/80 [==============================] - 0s 22us/sample - loss: 0.4370 - inflam_loss: 0.0451 - nephr_loss: 0.3920 - inflam_acc: 1.0000 - nephr_acc: 1.0000\n",
            "Epoch 772/1000\n",
            "80/80 [==============================] - 0s 22us/sample - loss: 0.4368 - inflam_loss: 0.0450 - nephr_loss: 0.3917 - inflam_acc: 1.0000 - nephr_acc: 1.0000\n",
            "Epoch 773/1000\n",
            "80/80 [==============================] - 0s 23us/sample - loss: 0.4365 - inflam_loss: 0.0450 - nephr_loss: 0.3915 - inflam_acc: 1.0000 - nephr_acc: 1.0000\n",
            "Epoch 774/1000\n",
            "80/80 [==============================] - 0s 20us/sample - loss: 0.4363 - inflam_loss: 0.0450 - nephr_loss: 0.3913 - inflam_acc: 1.0000 - nephr_acc: 1.0000\n",
            "Epoch 775/1000\n",
            "80/80 [==============================] - 0s 34us/sample - loss: 0.4360 - inflam_loss: 0.0450 - nephr_loss: 0.3911 - inflam_acc: 1.0000 - nephr_acc: 1.0000\n",
            "Epoch 776/1000\n",
            "80/80 [==============================] - 0s 20us/sample - loss: 0.4358 - inflam_loss: 0.0449 - nephr_loss: 0.3908 - inflam_acc: 1.0000 - nephr_acc: 1.0000\n",
            "Epoch 777/1000\n",
            "80/80 [==============================] - 0s 23us/sample - loss: 0.4355 - inflam_loss: 0.0449 - nephr_loss: 0.3906 - inflam_acc: 1.0000 - nephr_acc: 1.0000\n",
            "Epoch 778/1000\n",
            "80/80 [==============================] - 0s 19us/sample - loss: 0.4353 - inflam_loss: 0.0449 - nephr_loss: 0.3904 - inflam_acc: 1.0000 - nephr_acc: 1.0000\n",
            "Epoch 779/1000\n",
            "80/80 [==============================] - 0s 21us/sample - loss: 0.4351 - inflam_loss: 0.0449 - nephr_loss: 0.3902 - inflam_acc: 1.0000 - nephr_acc: 1.0000\n",
            "Epoch 780/1000\n",
            "80/80 [==============================] - 0s 22us/sample - loss: 0.4348 - inflam_loss: 0.0448 - nephr_loss: 0.3900 - inflam_acc: 1.0000 - nephr_acc: 1.0000\n",
            "Epoch 781/1000\n",
            "80/80 [==============================] - 0s 46us/sample - loss: 0.4346 - inflam_loss: 0.0448 - nephr_loss: 0.3897 - inflam_acc: 1.0000 - nephr_acc: 1.0000\n",
            "Epoch 782/1000\n",
            "80/80 [==============================] - 0s 21us/sample - loss: 0.4343 - inflam_loss: 0.0448 - nephr_loss: 0.3895 - inflam_acc: 1.0000 - nephr_acc: 1.0000\n",
            "Epoch 783/1000\n",
            "80/80 [==============================] - 0s 24us/sample - loss: 0.4341 - inflam_loss: 0.0448 - nephr_loss: 0.3893 - inflam_acc: 1.0000 - nephr_acc: 1.0000\n",
            "Epoch 784/1000\n",
            "80/80 [==============================] - 0s 21us/sample - loss: 0.4338 - inflam_loss: 0.0448 - nephr_loss: 0.3891 - inflam_acc: 1.0000 - nephr_acc: 1.0000\n",
            "Epoch 785/1000\n",
            "80/80 [==============================] - 0s 22us/sample - loss: 0.4336 - inflam_loss: 0.0447 - nephr_loss: 0.3889 - inflam_acc: 1.0000 - nephr_acc: 1.0000\n",
            "Epoch 786/1000\n",
            "80/80 [==============================] - 0s 20us/sample - loss: 0.4333 - inflam_loss: 0.0447 - nephr_loss: 0.3886 - inflam_acc: 1.0000 - nephr_acc: 1.0000\n",
            "Epoch 787/1000\n",
            "80/80 [==============================] - 0s 29us/sample - loss: 0.4331 - inflam_loss: 0.0447 - nephr_loss: 0.3884 - inflam_acc: 1.0000 - nephr_acc: 1.0000\n",
            "Epoch 788/1000\n",
            "80/80 [==============================] - 0s 25us/sample - loss: 0.4329 - inflam_loss: 0.0447 - nephr_loss: 0.3882 - inflam_acc: 1.0000 - nephr_acc: 1.0000\n",
            "Epoch 789/1000\n",
            "80/80 [==============================] - 0s 26us/sample - loss: 0.4326 - inflam_loss: 0.0446 - nephr_loss: 0.3880 - inflam_acc: 1.0000 - nephr_acc: 1.0000\n",
            "Epoch 790/1000\n",
            "80/80 [==============================] - 0s 18us/sample - loss: 0.4324 - inflam_loss: 0.0446 - nephr_loss: 0.3878 - inflam_acc: 1.0000 - nephr_acc: 1.0000\n",
            "Epoch 791/1000\n",
            "80/80 [==============================] - 0s 20us/sample - loss: 0.4321 - inflam_loss: 0.0446 - nephr_loss: 0.3875 - inflam_acc: 1.0000 - nephr_acc: 1.0000\n",
            "Epoch 792/1000\n",
            "80/80 [==============================] - 0s 20us/sample - loss: 0.4319 - inflam_loss: 0.0446 - nephr_loss: 0.3873 - inflam_acc: 1.0000 - nephr_acc: 1.0000\n",
            "Epoch 793/1000\n",
            "80/80 [==============================] - 0s 44us/sample - loss: 0.4316 - inflam_loss: 0.0446 - nephr_loss: 0.3871 - inflam_acc: 1.0000 - nephr_acc: 1.0000\n",
            "Epoch 794/1000\n",
            "80/80 [==============================] - 0s 21us/sample - loss: 0.4314 - inflam_loss: 0.0445 - nephr_loss: 0.3869 - inflam_acc: 1.0000 - nephr_acc: 1.0000\n",
            "Epoch 795/1000\n",
            "80/80 [==============================] - 0s 22us/sample - loss: 0.4312 - inflam_loss: 0.0445 - nephr_loss: 0.3867 - inflam_acc: 1.0000 - nephr_acc: 1.0000\n",
            "Epoch 796/1000\n",
            "80/80 [==============================] - 0s 16us/sample - loss: 0.4309 - inflam_loss: 0.0445 - nephr_loss: 0.3864 - inflam_acc: 1.0000 - nephr_acc: 1.0000\n",
            "Epoch 797/1000\n",
            "80/80 [==============================] - 0s 23us/sample - loss: 0.4307 - inflam_loss: 0.0445 - nephr_loss: 0.3862 - inflam_acc: 1.0000 - nephr_acc: 1.0000\n",
            "Epoch 798/1000\n",
            "80/80 [==============================] - 0s 24us/sample - loss: 0.4304 - inflam_loss: 0.0444 - nephr_loss: 0.3860 - inflam_acc: 1.0000 - nephr_acc: 1.0000\n",
            "Epoch 799/1000\n",
            "80/80 [==============================] - 0s 24us/sample - loss: 0.4302 - inflam_loss: 0.0444 - nephr_loss: 0.3858 - inflam_acc: 1.0000 - nephr_acc: 1.0000\n",
            "Epoch 800/1000\n",
            "80/80 [==============================] - 0s 31us/sample - loss: 0.4299 - inflam_loss: 0.0444 - nephr_loss: 0.3856 - inflam_acc: 1.0000 - nephr_acc: 1.0000\n",
            "Epoch 801/1000\n",
            "80/80 [==============================] - 0s 22us/sample - loss: 0.4297 - inflam_loss: 0.0444 - nephr_loss: 0.3853 - inflam_acc: 1.0000 - nephr_acc: 1.0000\n",
            "Epoch 802/1000\n",
            "80/80 [==============================] - 0s 26us/sample - loss: 0.4295 - inflam_loss: 0.0443 - nephr_loss: 0.3851 - inflam_acc: 1.0000 - nephr_acc: 1.0000\n",
            "Epoch 803/1000\n",
            "80/80 [==============================] - 0s 25us/sample - loss: 0.4292 - inflam_loss: 0.0443 - nephr_loss: 0.3849 - inflam_acc: 1.0000 - nephr_acc: 1.0000\n",
            "Epoch 804/1000\n",
            "80/80 [==============================] - 0s 30us/sample - loss: 0.4290 - inflam_loss: 0.0443 - nephr_loss: 0.3847 - inflam_acc: 1.0000 - nephr_acc: 1.0000\n",
            "Epoch 805/1000\n",
            "80/80 [==============================] - 0s 21us/sample - loss: 0.4287 - inflam_loss: 0.0443 - nephr_loss: 0.3845 - inflam_acc: 1.0000 - nephr_acc: 1.0000\n",
            "Epoch 806/1000\n",
            "80/80 [==============================] - 0s 18us/sample - loss: 0.4285 - inflam_loss: 0.0443 - nephr_loss: 0.3842 - inflam_acc: 1.0000 - nephr_acc: 1.0000\n",
            "Epoch 807/1000\n",
            "80/80 [==============================] - 0s 25us/sample - loss: 0.4283 - inflam_loss: 0.0442 - nephr_loss: 0.3840 - inflam_acc: 1.0000 - nephr_acc: 1.0000\n",
            "Epoch 808/1000\n",
            "80/80 [==============================] - 0s 21us/sample - loss: 0.4280 - inflam_loss: 0.0442 - nephr_loss: 0.3838 - inflam_acc: 1.0000 - nephr_acc: 1.0000\n",
            "Epoch 809/1000\n",
            "80/80 [==============================] - 0s 22us/sample - loss: 0.4278 - inflam_loss: 0.0442 - nephr_loss: 0.3836 - inflam_acc: 1.0000 - nephr_acc: 1.0000\n",
            "Epoch 810/1000\n",
            "80/80 [==============================] - 0s 18us/sample - loss: 0.4275 - inflam_loss: 0.0442 - nephr_loss: 0.3834 - inflam_acc: 1.0000 - nephr_acc: 1.0000\n",
            "Epoch 811/1000\n",
            "80/80 [==============================] - 0s 18us/sample - loss: 0.4273 - inflam_loss: 0.0441 - nephr_loss: 0.3832 - inflam_acc: 1.0000 - nephr_acc: 1.0000\n",
            "Epoch 812/1000\n",
            "80/80 [==============================] - 0s 22us/sample - loss: 0.4271 - inflam_loss: 0.0441 - nephr_loss: 0.3829 - inflam_acc: 1.0000 - nephr_acc: 1.0000\n",
            "Epoch 813/1000\n",
            "80/80 [==============================] - 0s 37us/sample - loss: 0.4268 - inflam_loss: 0.0441 - nephr_loss: 0.3827 - inflam_acc: 1.0000 - nephr_acc: 1.0000\n",
            "Epoch 814/1000\n",
            "80/80 [==============================] - 0s 30us/sample - loss: 0.4266 - inflam_loss: 0.0441 - nephr_loss: 0.3825 - inflam_acc: 1.0000 - nephr_acc: 1.0000\n",
            "Epoch 815/1000\n",
            "80/80 [==============================] - 0s 21us/sample - loss: 0.4263 - inflam_loss: 0.0441 - nephr_loss: 0.3823 - inflam_acc: 1.0000 - nephr_acc: 1.0000\n",
            "Epoch 816/1000\n",
            "80/80 [==============================] - 0s 22us/sample - loss: 0.4261 - inflam_loss: 0.0440 - nephr_loss: 0.3821 - inflam_acc: 1.0000 - nephr_acc: 1.0000\n",
            "Epoch 817/1000\n",
            "80/80 [==============================] - 0s 20us/sample - loss: 0.4259 - inflam_loss: 0.0440 - nephr_loss: 0.3819 - inflam_acc: 1.0000 - nephr_acc: 1.0000\n",
            "Epoch 818/1000\n",
            "80/80 [==============================] - 0s 22us/sample - loss: 0.4256 - inflam_loss: 0.0440 - nephr_loss: 0.3816 - inflam_acc: 1.0000 - nephr_acc: 1.0000\n",
            "Epoch 819/1000\n",
            "80/80 [==============================] - 0s 27us/sample - loss: 0.4254 - inflam_loss: 0.0440 - nephr_loss: 0.3814 - inflam_acc: 1.0000 - nephr_acc: 1.0000\n",
            "Epoch 820/1000\n",
            "80/80 [==============================] - 0s 19us/sample - loss: 0.4251 - inflam_loss: 0.0439 - nephr_loss: 0.3812 - inflam_acc: 1.0000 - nephr_acc: 1.0000\n",
            "Epoch 821/1000\n",
            "80/80 [==============================] - 0s 23us/sample - loss: 0.4249 - inflam_loss: 0.0439 - nephr_loss: 0.3810 - inflam_acc: 1.0000 - nephr_acc: 1.0000\n",
            "Epoch 822/1000\n",
            "80/80 [==============================] - 0s 21us/sample - loss: 0.4247 - inflam_loss: 0.0439 - nephr_loss: 0.3808 - inflam_acc: 1.0000 - nephr_acc: 1.0000\n",
            "Epoch 823/1000\n",
            "80/80 [==============================] - 0s 21us/sample - loss: 0.4244 - inflam_loss: 0.0439 - nephr_loss: 0.3806 - inflam_acc: 1.0000 - nephr_acc: 1.0000\n",
            "Epoch 824/1000\n",
            "80/80 [==============================] - 0s 19us/sample - loss: 0.4242 - inflam_loss: 0.0439 - nephr_loss: 0.3803 - inflam_acc: 1.0000 - nephr_acc: 1.0000\n",
            "Epoch 825/1000\n",
            "80/80 [==============================] - 0s 26us/sample - loss: 0.4240 - inflam_loss: 0.0438 - nephr_loss: 0.3801 - inflam_acc: 1.0000 - nephr_acc: 1.0000\n",
            "Epoch 826/1000\n",
            "80/80 [==============================] - 0s 29us/sample - loss: 0.4237 - inflam_loss: 0.0438 - nephr_loss: 0.3799 - inflam_acc: 1.0000 - nephr_acc: 1.0000\n",
            "Epoch 827/1000\n",
            "80/80 [==============================] - 0s 20us/sample - loss: 0.4235 - inflam_loss: 0.0438 - nephr_loss: 0.3797 - inflam_acc: 1.0000 - nephr_acc: 1.0000\n",
            "Epoch 828/1000\n",
            "80/80 [==============================] - 0s 20us/sample - loss: 0.4232 - inflam_loss: 0.0438 - nephr_loss: 0.3795 - inflam_acc: 1.0000 - nephr_acc: 1.0000\n",
            "Epoch 829/1000\n",
            "80/80 [==============================] - 0s 27us/sample - loss: 0.4230 - inflam_loss: 0.0437 - nephr_loss: 0.3793 - inflam_acc: 1.0000 - nephr_acc: 1.0000\n",
            "Epoch 830/1000\n",
            "80/80 [==============================] - 0s 35us/sample - loss: 0.4228 - inflam_loss: 0.0437 - nephr_loss: 0.3791 - inflam_acc: 1.0000 - nephr_acc: 1.0000\n",
            "Epoch 831/1000\n",
            "80/80 [==============================] - 0s 19us/sample - loss: 0.4225 - inflam_loss: 0.0437 - nephr_loss: 0.3788 - inflam_acc: 1.0000 - nephr_acc: 1.0000\n",
            "Epoch 832/1000\n",
            "80/80 [==============================] - 0s 33us/sample - loss: 0.4223 - inflam_loss: 0.0437 - nephr_loss: 0.3786 - inflam_acc: 1.0000 - nephr_acc: 1.0000\n",
            "Epoch 833/1000\n",
            "80/80 [==============================] - 0s 29us/sample - loss: 0.4221 - inflam_loss: 0.0437 - nephr_loss: 0.3784 - inflam_acc: 1.0000 - nephr_acc: 1.0000\n",
            "Epoch 834/1000\n",
            "80/80 [==============================] - 0s 19us/sample - loss: 0.4218 - inflam_loss: 0.0436 - nephr_loss: 0.3782 - inflam_acc: 1.0000 - nephr_acc: 1.0000\n",
            "Epoch 835/1000\n",
            "80/80 [==============================] - 0s 21us/sample - loss: 0.4216 - inflam_loss: 0.0436 - nephr_loss: 0.3780 - inflam_acc: 1.0000 - nephr_acc: 1.0000\n",
            "Epoch 836/1000\n",
            "80/80 [==============================] - 0s 19us/sample - loss: 0.4214 - inflam_loss: 0.0436 - nephr_loss: 0.3778 - inflam_acc: 1.0000 - nephr_acc: 1.0000\n",
            "Epoch 837/1000\n",
            "80/80 [==============================] - 0s 23us/sample - loss: 0.4211 - inflam_loss: 0.0436 - nephr_loss: 0.3776 - inflam_acc: 1.0000 - nephr_acc: 1.0000\n",
            "Epoch 838/1000\n",
            "80/80 [==============================] - 0s 16us/sample - loss: 0.4209 - inflam_loss: 0.0435 - nephr_loss: 0.3773 - inflam_acc: 1.0000 - nephr_acc: 1.0000\n",
            "Epoch 839/1000\n",
            "80/80 [==============================] - 0s 23us/sample - loss: 0.4206 - inflam_loss: 0.0435 - nephr_loss: 0.3771 - inflam_acc: 1.0000 - nephr_acc: 1.0000\n",
            "Epoch 840/1000\n",
            "80/80 [==============================] - 0s 55us/sample - loss: 0.4204 - inflam_loss: 0.0435 - nephr_loss: 0.3769 - inflam_acc: 1.0000 - nephr_acc: 1.0000\n",
            "Epoch 841/1000\n",
            "80/80 [==============================] - 0s 23us/sample - loss: 0.4202 - inflam_loss: 0.0435 - nephr_loss: 0.3767 - inflam_acc: 1.0000 - nephr_acc: 1.0000\n",
            "Epoch 842/1000\n",
            "80/80 [==============================] - 0s 24us/sample - loss: 0.4199 - inflam_loss: 0.0435 - nephr_loss: 0.3765 - inflam_acc: 1.0000 - nephr_acc: 1.0000\n",
            "Epoch 843/1000\n",
            "80/80 [==============================] - 0s 19us/sample - loss: 0.4197 - inflam_loss: 0.0434 - nephr_loss: 0.3763 - inflam_acc: 1.0000 - nephr_acc: 1.0000\n",
            "Epoch 844/1000\n",
            "80/80 [==============================] - 0s 22us/sample - loss: 0.4195 - inflam_loss: 0.0434 - nephr_loss: 0.3761 - inflam_acc: 1.0000 - nephr_acc: 1.0000\n",
            "Epoch 845/1000\n",
            "80/80 [==============================] - 0s 20us/sample - loss: 0.4192 - inflam_loss: 0.0434 - nephr_loss: 0.3758 - inflam_acc: 1.0000 - nephr_acc: 1.0000\n",
            "Epoch 846/1000\n",
            "80/80 [==============================] - 0s 21us/sample - loss: 0.4190 - inflam_loss: 0.0434 - nephr_loss: 0.3756 - inflam_acc: 1.0000 - nephr_acc: 1.0000\n",
            "Epoch 847/1000\n",
            "80/80 [==============================] - 0s 23us/sample - loss: 0.4188 - inflam_loss: 0.0433 - nephr_loss: 0.3754 - inflam_acc: 1.0000 - nephr_acc: 1.0000\n",
            "Epoch 848/1000\n",
            "80/80 [==============================] - 0s 25us/sample - loss: 0.4185 - inflam_loss: 0.0433 - nephr_loss: 0.3752 - inflam_acc: 1.0000 - nephr_acc: 1.0000\n",
            "Epoch 849/1000\n",
            "80/80 [==============================] - 0s 21us/sample - loss: 0.4183 - inflam_loss: 0.0433 - nephr_loss: 0.3750 - inflam_acc: 1.0000 - nephr_acc: 1.0000\n",
            "Epoch 850/1000\n",
            "80/80 [==============================] - 0s 26us/sample - loss: 0.4181 - inflam_loss: 0.0433 - nephr_loss: 0.3748 - inflam_acc: 1.0000 - nephr_acc: 1.0000\n",
            "Epoch 851/1000\n",
            "80/80 [==============================] - 0s 22us/sample - loss: 0.4178 - inflam_loss: 0.0433 - nephr_loss: 0.3746 - inflam_acc: 1.0000 - nephr_acc: 1.0000\n",
            "Epoch 852/1000\n",
            "80/80 [==============================] - 0s 20us/sample - loss: 0.4176 - inflam_loss: 0.0432 - nephr_loss: 0.3744 - inflam_acc: 1.0000 - nephr_acc: 1.0000\n",
            "Epoch 853/1000\n",
            "80/80 [==============================] - 0s 22us/sample - loss: 0.4174 - inflam_loss: 0.0432 - nephr_loss: 0.3742 - inflam_acc: 1.0000 - nephr_acc: 1.0000\n",
            "Epoch 854/1000\n",
            "80/80 [==============================] - 0s 30us/sample - loss: 0.4171 - inflam_loss: 0.0432 - nephr_loss: 0.3739 - inflam_acc: 1.0000 - nephr_acc: 1.0000\n",
            "Epoch 855/1000\n",
            "80/80 [==============================] - 0s 36us/sample - loss: 0.4169 - inflam_loss: 0.0432 - nephr_loss: 0.3737 - inflam_acc: 1.0000 - nephr_acc: 1.0000\n",
            "Epoch 856/1000\n",
            "80/80 [==============================] - 0s 32us/sample - loss: 0.4167 - inflam_loss: 0.0431 - nephr_loss: 0.3735 - inflam_acc: 1.0000 - nephr_acc: 1.0000\n",
            "Epoch 857/1000\n",
            "80/80 [==============================] - 0s 24us/sample - loss: 0.4164 - inflam_loss: 0.0431 - nephr_loss: 0.3733 - inflam_acc: 1.0000 - nephr_acc: 1.0000\n",
            "Epoch 858/1000\n",
            "80/80 [==============================] - 0s 29us/sample - loss: 0.4162 - inflam_loss: 0.0431 - nephr_loss: 0.3731 - inflam_acc: 1.0000 - nephr_acc: 1.0000\n",
            "Epoch 859/1000\n",
            "80/80 [==============================] - 0s 23us/sample - loss: 0.4160 - inflam_loss: 0.0431 - nephr_loss: 0.3729 - inflam_acc: 1.0000 - nephr_acc: 1.0000\n",
            "Epoch 860/1000\n",
            "80/80 [==============================] - 0s 20us/sample - loss: 0.4157 - inflam_loss: 0.0431 - nephr_loss: 0.3727 - inflam_acc: 1.0000 - nephr_acc: 1.0000\n",
            "Epoch 861/1000\n",
            "80/80 [==============================] - 0s 25us/sample - loss: 0.4155 - inflam_loss: 0.0430 - nephr_loss: 0.3725 - inflam_acc: 1.0000 - nephr_acc: 1.0000\n",
            "Epoch 862/1000\n",
            "80/80 [==============================] - 0s 22us/sample - loss: 0.4153 - inflam_loss: 0.0430 - nephr_loss: 0.3723 - inflam_acc: 1.0000 - nephr_acc: 1.0000\n",
            "Epoch 863/1000\n",
            "80/80 [==============================] - 0s 21us/sample - loss: 0.4150 - inflam_loss: 0.0430 - nephr_loss: 0.3720 - inflam_acc: 1.0000 - nephr_acc: 1.0000\n",
            "Epoch 864/1000\n",
            "80/80 [==============================] - 0s 26us/sample - loss: 0.4148 - inflam_loss: 0.0430 - nephr_loss: 0.3718 - inflam_acc: 1.0000 - nephr_acc: 1.0000\n",
            "Epoch 865/1000\n",
            "80/80 [==============================] - 0s 22us/sample - loss: 0.4146 - inflam_loss: 0.0429 - nephr_loss: 0.3716 - inflam_acc: 1.0000 - nephr_acc: 1.0000\n",
            "Epoch 866/1000\n",
            "80/80 [==============================] - 0s 20us/sample - loss: 0.4143 - inflam_loss: 0.0429 - nephr_loss: 0.3714 - inflam_acc: 1.0000 - nephr_acc: 1.0000\n",
            "Epoch 867/1000\n",
            "80/80 [==============================] - 0s 20us/sample - loss: 0.4141 - inflam_loss: 0.0429 - nephr_loss: 0.3712 - inflam_acc: 1.0000 - nephr_acc: 1.0000\n",
            "Epoch 868/1000\n",
            "80/80 [==============================] - 0s 23us/sample - loss: 0.4139 - inflam_loss: 0.0429 - nephr_loss: 0.3710 - inflam_acc: 1.0000 - nephr_acc: 1.0000\n",
            "Epoch 869/1000\n",
            "80/80 [==============================] - 0s 25us/sample - loss: 0.4136 - inflam_loss: 0.0429 - nephr_loss: 0.3708 - inflam_acc: 1.0000 - nephr_acc: 1.0000\n",
            "Epoch 870/1000\n",
            "80/80 [==============================] - 0s 32us/sample - loss: 0.4134 - inflam_loss: 0.0428 - nephr_loss: 0.3706 - inflam_acc: 1.0000 - nephr_acc: 1.0000\n",
            "Epoch 871/1000\n",
            "80/80 [==============================] - 0s 23us/sample - loss: 0.4132 - inflam_loss: 0.0428 - nephr_loss: 0.3704 - inflam_acc: 1.0000 - nephr_acc: 1.0000\n",
            "Epoch 872/1000\n",
            "80/80 [==============================] - 0s 27us/sample - loss: 0.4130 - inflam_loss: 0.0428 - nephr_loss: 0.3702 - inflam_acc: 1.0000 - nephr_acc: 1.0000\n",
            "Epoch 873/1000\n",
            "80/80 [==============================] - 0s 27us/sample - loss: 0.4127 - inflam_loss: 0.0428 - nephr_loss: 0.3700 - inflam_acc: 1.0000 - nephr_acc: 1.0000\n",
            "Epoch 874/1000\n",
            "80/80 [==============================] - 0s 21us/sample - loss: 0.4125 - inflam_loss: 0.0428 - nephr_loss: 0.3697 - inflam_acc: 1.0000 - nephr_acc: 1.0000\n",
            "Epoch 875/1000\n",
            "80/80 [==============================] - 0s 24us/sample - loss: 0.4123 - inflam_loss: 0.0427 - nephr_loss: 0.3695 - inflam_acc: 1.0000 - nephr_acc: 1.0000\n",
            "Epoch 876/1000\n",
            "80/80 [==============================] - 0s 31us/sample - loss: 0.4120 - inflam_loss: 0.0427 - nephr_loss: 0.3693 - inflam_acc: 1.0000 - nephr_acc: 1.0000\n",
            "Epoch 877/1000\n",
            "80/80 [==============================] - 0s 24us/sample - loss: 0.4118 - inflam_loss: 0.0427 - nephr_loss: 0.3691 - inflam_acc: 1.0000 - nephr_acc: 1.0000\n",
            "Epoch 878/1000\n",
            "80/80 [==============================] - 0s 20us/sample - loss: 0.4116 - inflam_loss: 0.0427 - nephr_loss: 0.3689 - inflam_acc: 1.0000 - nephr_acc: 1.0000\n",
            "Epoch 879/1000\n",
            "80/80 [==============================] - 0s 20us/sample - loss: 0.4113 - inflam_loss: 0.0426 - nephr_loss: 0.3687 - inflam_acc: 1.0000 - nephr_acc: 1.0000\n",
            "Epoch 880/1000\n",
            "80/80 [==============================] - 0s 37us/sample - loss: 0.4111 - inflam_loss: 0.0426 - nephr_loss: 0.3685 - inflam_acc: 1.0000 - nephr_acc: 1.0000\n",
            "Epoch 881/1000\n",
            "80/80 [==============================] - 0s 21us/sample - loss: 0.4109 - inflam_loss: 0.0426 - nephr_loss: 0.3683 - inflam_acc: 1.0000 - nephr_acc: 1.0000\n",
            "Epoch 882/1000\n",
            "80/80 [==============================] - 0s 26us/sample - loss: 0.4107 - inflam_loss: 0.0426 - nephr_loss: 0.3681 - inflam_acc: 1.0000 - nephr_acc: 1.0000\n",
            "Epoch 883/1000\n",
            "80/80 [==============================] - 0s 17us/sample - loss: 0.4104 - inflam_loss: 0.0426 - nephr_loss: 0.3679 - inflam_acc: 1.0000 - nephr_acc: 1.0000\n",
            "Epoch 884/1000\n",
            "80/80 [==============================] - 0s 22us/sample - loss: 0.4102 - inflam_loss: 0.0425 - nephr_loss: 0.3677 - inflam_acc: 1.0000 - nephr_acc: 1.0000\n",
            "Epoch 885/1000\n",
            "80/80 [==============================] - 0s 21us/sample - loss: 0.4100 - inflam_loss: 0.0425 - nephr_loss: 0.3675 - inflam_acc: 1.0000 - nephr_acc: 1.0000\n",
            "Epoch 886/1000\n",
            "80/80 [==============================] - 0s 22us/sample - loss: 0.4097 - inflam_loss: 0.0425 - nephr_loss: 0.3672 - inflam_acc: 1.0000 - nephr_acc: 1.0000\n",
            "Epoch 887/1000\n",
            "80/80 [==============================] - 0s 25us/sample - loss: 0.4095 - inflam_loss: 0.0425 - nephr_loss: 0.3670 - inflam_acc: 1.0000 - nephr_acc: 1.0000\n",
            "Epoch 888/1000\n",
            "80/80 [==============================] - 0s 21us/sample - loss: 0.4093 - inflam_loss: 0.0425 - nephr_loss: 0.3668 - inflam_acc: 1.0000 - nephr_acc: 1.0000\n",
            "Epoch 889/1000\n",
            "80/80 [==============================] - 0s 19us/sample - loss: 0.4091 - inflam_loss: 0.0424 - nephr_loss: 0.3666 - inflam_acc: 1.0000 - nephr_acc: 1.0000\n",
            "Epoch 890/1000\n",
            "80/80 [==============================] - 0s 22us/sample - loss: 0.4088 - inflam_loss: 0.0424 - nephr_loss: 0.3664 - inflam_acc: 1.0000 - nephr_acc: 1.0000\n",
            "Epoch 891/1000\n",
            "80/80 [==============================] - 0s 20us/sample - loss: 0.4086 - inflam_loss: 0.0424 - nephr_loss: 0.3662 - inflam_acc: 1.0000 - nephr_acc: 1.0000\n",
            "Epoch 892/1000\n",
            "80/80 [==============================] - 0s 16us/sample - loss: 0.4084 - inflam_loss: 0.0424 - nephr_loss: 0.3660 - inflam_acc: 1.0000 - nephr_acc: 1.0000\n",
            "Epoch 893/1000\n",
            "80/80 [==============================] - 0s 25us/sample - loss: 0.4081 - inflam_loss: 0.0423 - nephr_loss: 0.3658 - inflam_acc: 1.0000 - nephr_acc: 1.0000\n",
            "Epoch 894/1000\n",
            "80/80 [==============================] - 0s 22us/sample - loss: 0.4079 - inflam_loss: 0.0423 - nephr_loss: 0.3656 - inflam_acc: 1.0000 - nephr_acc: 1.0000\n",
            "Epoch 895/1000\n",
            "80/80 [==============================] - 0s 18us/sample - loss: 0.4077 - inflam_loss: 0.0423 - nephr_loss: 0.3654 - inflam_acc: 1.0000 - nephr_acc: 1.0000\n",
            "Epoch 896/1000\n",
            "80/80 [==============================] - 0s 21us/sample - loss: 0.4075 - inflam_loss: 0.0423 - nephr_loss: 0.3652 - inflam_acc: 1.0000 - nephr_acc: 1.0000\n",
            "Epoch 897/1000\n",
            "80/80 [==============================] - 0s 21us/sample - loss: 0.4072 - inflam_loss: 0.0423 - nephr_loss: 0.3650 - inflam_acc: 1.0000 - nephr_acc: 1.0000\n",
            "Epoch 898/1000\n",
            "80/80 [==============================] - 0s 26us/sample - loss: 0.4070 - inflam_loss: 0.0422 - nephr_loss: 0.3648 - inflam_acc: 1.0000 - nephr_acc: 1.0000\n",
            "Epoch 899/1000\n",
            "80/80 [==============================] - 0s 26us/sample - loss: 0.4068 - inflam_loss: 0.0422 - nephr_loss: 0.3646 - inflam_acc: 1.0000 - nephr_acc: 1.0000\n",
            "Epoch 900/1000\n",
            "80/80 [==============================] - 0s 49us/sample - loss: 0.4066 - inflam_loss: 0.0422 - nephr_loss: 0.3644 - inflam_acc: 1.0000 - nephr_acc: 1.0000\n",
            "Epoch 901/1000\n",
            "80/80 [==============================] - 0s 21us/sample - loss: 0.4063 - inflam_loss: 0.0422 - nephr_loss: 0.3642 - inflam_acc: 1.0000 - nephr_acc: 1.0000\n",
            "Epoch 902/1000\n",
            "80/80 [==============================] - 0s 33us/sample - loss: 0.4061 - inflam_loss: 0.0422 - nephr_loss: 0.3640 - inflam_acc: 1.0000 - nephr_acc: 1.0000\n",
            "Epoch 903/1000\n",
            "80/80 [==============================] - 0s 21us/sample - loss: 0.4059 - inflam_loss: 0.0421 - nephr_loss: 0.3637 - inflam_acc: 1.0000 - nephr_acc: 1.0000\n",
            "Epoch 904/1000\n",
            "80/80 [==============================] - 0s 48us/sample - loss: 0.4057 - inflam_loss: 0.0421 - nephr_loss: 0.3635 - inflam_acc: 1.0000 - nephr_acc: 1.0000\n",
            "Epoch 905/1000\n",
            "80/80 [==============================] - 0s 23us/sample - loss: 0.4054 - inflam_loss: 0.0421 - nephr_loss: 0.3633 - inflam_acc: 1.0000 - nephr_acc: 1.0000\n",
            "Epoch 906/1000\n",
            "80/80 [==============================] - 0s 29us/sample - loss: 0.4052 - inflam_loss: 0.0421 - nephr_loss: 0.3631 - inflam_acc: 1.0000 - nephr_acc: 1.0000\n",
            "Epoch 907/1000\n",
            "80/80 [==============================] - 0s 26us/sample - loss: 0.4050 - inflam_loss: 0.0420 - nephr_loss: 0.3629 - inflam_acc: 1.0000 - nephr_acc: 1.0000\n",
            "Epoch 908/1000\n",
            "80/80 [==============================] - 0s 26us/sample - loss: 0.4047 - inflam_loss: 0.0420 - nephr_loss: 0.3627 - inflam_acc: 1.0000 - nephr_acc: 1.0000\n",
            "Epoch 909/1000\n",
            "80/80 [==============================] - 0s 25us/sample - loss: 0.4045 - inflam_loss: 0.0420 - nephr_loss: 0.3625 - inflam_acc: 1.0000 - nephr_acc: 1.0000\n",
            "Epoch 910/1000\n",
            "80/80 [==============================] - 0s 39us/sample - loss: 0.4043 - inflam_loss: 0.0420 - nephr_loss: 0.3623 - inflam_acc: 1.0000 - nephr_acc: 1.0000\n",
            "Epoch 911/1000\n",
            "80/80 [==============================] - 0s 19us/sample - loss: 0.4041 - inflam_loss: 0.0420 - nephr_loss: 0.3621 - inflam_acc: 1.0000 - nephr_acc: 1.0000\n",
            "Epoch 912/1000\n",
            "80/80 [==============================] - 0s 23us/sample - loss: 0.4038 - inflam_loss: 0.0419 - nephr_loss: 0.3619 - inflam_acc: 1.0000 - nephr_acc: 1.0000\n",
            "Epoch 913/1000\n",
            "80/80 [==============================] - 0s 29us/sample - loss: 0.4036 - inflam_loss: 0.0419 - nephr_loss: 0.3617 - inflam_acc: 1.0000 - nephr_acc: 1.0000\n",
            "Epoch 914/1000\n",
            "80/80 [==============================] - 0s 22us/sample - loss: 0.4034 - inflam_loss: 0.0419 - nephr_loss: 0.3615 - inflam_acc: 1.0000 - nephr_acc: 1.0000\n",
            "Epoch 915/1000\n",
            "80/80 [==============================] - 0s 19us/sample - loss: 0.4032 - inflam_loss: 0.0419 - nephr_loss: 0.3613 - inflam_acc: 1.0000 - nephr_acc: 1.0000\n",
            "Epoch 916/1000\n",
            "80/80 [==============================] - 0s 22us/sample - loss: 0.4030 - inflam_loss: 0.0419 - nephr_loss: 0.3611 - inflam_acc: 1.0000 - nephr_acc: 1.0000\n",
            "Epoch 917/1000\n",
            "80/80 [==============================] - 0s 23us/sample - loss: 0.4027 - inflam_loss: 0.0418 - nephr_loss: 0.3609 - inflam_acc: 1.0000 - nephr_acc: 1.0000\n",
            "Epoch 918/1000\n",
            "80/80 [==============================] - 0s 20us/sample - loss: 0.4025 - inflam_loss: 0.0418 - nephr_loss: 0.3607 - inflam_acc: 1.0000 - nephr_acc: 1.0000\n",
            "Epoch 919/1000\n",
            "80/80 [==============================] - 0s 25us/sample - loss: 0.4023 - inflam_loss: 0.0418 - nephr_loss: 0.3605 - inflam_acc: 1.0000 - nephr_acc: 1.0000\n",
            "Epoch 920/1000\n",
            "80/80 [==============================] - 0s 22us/sample - loss: 0.4021 - inflam_loss: 0.0418 - nephr_loss: 0.3603 - inflam_acc: 1.0000 - nephr_acc: 1.0000\n",
            "Epoch 921/1000\n",
            "80/80 [==============================] - 0s 23us/sample - loss: 0.4018 - inflam_loss: 0.0417 - nephr_loss: 0.3601 - inflam_acc: 1.0000 - nephr_acc: 1.0000\n",
            "Epoch 922/1000\n",
            "80/80 [==============================] - 0s 17us/sample - loss: 0.4016 - inflam_loss: 0.0417 - nephr_loss: 0.3599 - inflam_acc: 1.0000 - nephr_acc: 1.0000\n",
            "Epoch 923/1000\n",
            "80/80 [==============================] - 0s 21us/sample - loss: 0.4014 - inflam_loss: 0.0417 - nephr_loss: 0.3597 - inflam_acc: 1.0000 - nephr_acc: 1.0000\n",
            "Epoch 924/1000\n",
            "80/80 [==============================] - 0s 21us/sample - loss: 0.4012 - inflam_loss: 0.0417 - nephr_loss: 0.3595 - inflam_acc: 1.0000 - nephr_acc: 1.0000\n",
            "Epoch 925/1000\n",
            "80/80 [==============================] - 0s 22us/sample - loss: 0.4009 - inflam_loss: 0.0417 - nephr_loss: 0.3593 - inflam_acc: 1.0000 - nephr_acc: 1.0000\n",
            "Epoch 926/1000\n",
            "80/80 [==============================] - 0s 21us/sample - loss: 0.4007 - inflam_loss: 0.0416 - nephr_loss: 0.3591 - inflam_acc: 1.0000 - nephr_acc: 1.0000\n",
            "Epoch 927/1000\n",
            "80/80 [==============================] - 0s 22us/sample - loss: 0.4005 - inflam_loss: 0.0416 - nephr_loss: 0.3589 - inflam_acc: 1.0000 - nephr_acc: 1.0000\n",
            "Epoch 928/1000\n",
            "80/80 [==============================] - 0s 19us/sample - loss: 0.4003 - inflam_loss: 0.0416 - nephr_loss: 0.3587 - inflam_acc: 1.0000 - nephr_acc: 1.0000\n",
            "Epoch 929/1000\n",
            "80/80 [==============================] - 0s 23us/sample - loss: 0.4000 - inflam_loss: 0.0416 - nephr_loss: 0.3585 - inflam_acc: 1.0000 - nephr_acc: 1.0000\n",
            "Epoch 930/1000\n",
            "80/80 [==============================] - 0s 25us/sample - loss: 0.3998 - inflam_loss: 0.0416 - nephr_loss: 0.3583 - inflam_acc: 1.0000 - nephr_acc: 1.0000\n",
            "Epoch 931/1000\n",
            "80/80 [==============================] - 0s 23us/sample - loss: 0.3996 - inflam_loss: 0.0415 - nephr_loss: 0.3581 - inflam_acc: 1.0000 - nephr_acc: 1.0000\n",
            "Epoch 932/1000\n",
            "80/80 [==============================] - 0s 21us/sample - loss: 0.3994 - inflam_loss: 0.0415 - nephr_loss: 0.3579 - inflam_acc: 1.0000 - nephr_acc: 1.0000\n",
            "Epoch 933/1000\n",
            "80/80 [==============================] - 0s 21us/sample - loss: 0.3992 - inflam_loss: 0.0415 - nephr_loss: 0.3577 - inflam_acc: 1.0000 - nephr_acc: 1.0000\n",
            "Epoch 934/1000\n",
            "80/80 [==============================] - 0s 22us/sample - loss: 0.3989 - inflam_loss: 0.0415 - nephr_loss: 0.3575 - inflam_acc: 1.0000 - nephr_acc: 1.0000\n",
            "Epoch 935/1000\n",
            "80/80 [==============================] - 0s 24us/sample - loss: 0.3987 - inflam_loss: 0.0414 - nephr_loss: 0.3573 - inflam_acc: 1.0000 - nephr_acc: 1.0000\n",
            "Epoch 936/1000\n",
            "80/80 [==============================] - 0s 25us/sample - loss: 0.3985 - inflam_loss: 0.0414 - nephr_loss: 0.3571 - inflam_acc: 1.0000 - nephr_acc: 1.0000\n",
            "Epoch 937/1000\n",
            "80/80 [==============================] - 0s 20us/sample - loss: 0.3983 - inflam_loss: 0.0414 - nephr_loss: 0.3569 - inflam_acc: 1.0000 - nephr_acc: 1.0000\n",
            "Epoch 938/1000\n",
            "80/80 [==============================] - 0s 20us/sample - loss: 0.3981 - inflam_loss: 0.0414 - nephr_loss: 0.3567 - inflam_acc: 1.0000 - nephr_acc: 1.0000\n",
            "Epoch 939/1000\n",
            "80/80 [==============================] - 0s 23us/sample - loss: 0.3978 - inflam_loss: 0.0414 - nephr_loss: 0.3565 - inflam_acc: 1.0000 - nephr_acc: 1.0000\n",
            "Epoch 940/1000\n",
            "80/80 [==============================] - 0s 20us/sample - loss: 0.3976 - inflam_loss: 0.0413 - nephr_loss: 0.3563 - inflam_acc: 1.0000 - nephr_acc: 1.0000\n",
            "Epoch 941/1000\n",
            "80/80 [==============================] - 0s 20us/sample - loss: 0.3974 - inflam_loss: 0.0413 - nephr_loss: 0.3561 - inflam_acc: 1.0000 - nephr_acc: 1.0000\n",
            "Epoch 942/1000\n",
            "80/80 [==============================] - 0s 29us/sample - loss: 0.3972 - inflam_loss: 0.0413 - nephr_loss: 0.3559 - inflam_acc: 1.0000 - nephr_acc: 1.0000\n",
            "Epoch 943/1000\n",
            "80/80 [==============================] - 0s 22us/sample - loss: 0.3969 - inflam_loss: 0.0413 - nephr_loss: 0.3557 - inflam_acc: 1.0000 - nephr_acc: 1.0000\n",
            "Epoch 944/1000\n",
            "80/80 [==============================] - 0s 24us/sample - loss: 0.3967 - inflam_loss: 0.0413 - nephr_loss: 0.3555 - inflam_acc: 1.0000 - nephr_acc: 1.0000\n",
            "Epoch 945/1000\n",
            "80/80 [==============================] - 0s 23us/sample - loss: 0.3965 - inflam_loss: 0.0412 - nephr_loss: 0.3553 - inflam_acc: 1.0000 - nephr_acc: 1.0000\n",
            "Epoch 946/1000\n",
            "80/80 [==============================] - 0s 19us/sample - loss: 0.3963 - inflam_loss: 0.0412 - nephr_loss: 0.3551 - inflam_acc: 1.0000 - nephr_acc: 1.0000\n",
            "Epoch 947/1000\n",
            "80/80 [==============================] - 0s 18us/sample - loss: 0.3961 - inflam_loss: 0.0412 - nephr_loss: 0.3549 - inflam_acc: 1.0000 - nephr_acc: 1.0000\n",
            "Epoch 948/1000\n",
            "80/80 [==============================] - 0s 23us/sample - loss: 0.3958 - inflam_loss: 0.0412 - nephr_loss: 0.3547 - inflam_acc: 1.0000 - nephr_acc: 1.0000\n",
            "Epoch 949/1000\n",
            "80/80 [==============================] - 0s 19us/sample - loss: 0.3956 - inflam_loss: 0.0412 - nephr_loss: 0.3545 - inflam_acc: 1.0000 - nephr_acc: 1.0000\n",
            "Epoch 950/1000\n",
            "80/80 [==============================] - 0s 22us/sample - loss: 0.3954 - inflam_loss: 0.0411 - nephr_loss: 0.3543 - inflam_acc: 1.0000 - nephr_acc: 1.0000\n",
            "Epoch 951/1000\n",
            "80/80 [==============================] - 0s 19us/sample - loss: 0.3952 - inflam_loss: 0.0411 - nephr_loss: 0.3541 - inflam_acc: 1.0000 - nephr_acc: 1.0000\n",
            "Epoch 952/1000\n",
            "80/80 [==============================] - 0s 22us/sample - loss: 0.3950 - inflam_loss: 0.0411 - nephr_loss: 0.3539 - inflam_acc: 1.0000 - nephr_acc: 1.0000\n",
            "Epoch 953/1000\n",
            "80/80 [==============================] - 0s 20us/sample - loss: 0.3948 - inflam_loss: 0.0411 - nephr_loss: 0.3537 - inflam_acc: 1.0000 - nephr_acc: 1.0000\n",
            "Epoch 954/1000\n",
            "80/80 [==============================] - 0s 20us/sample - loss: 0.3945 - inflam_loss: 0.0411 - nephr_loss: 0.3535 - inflam_acc: 1.0000 - nephr_acc: 1.0000\n",
            "Epoch 955/1000\n",
            "80/80 [==============================] - 0s 21us/sample - loss: 0.3943 - inflam_loss: 0.0410 - nephr_loss: 0.3533 - inflam_acc: 1.0000 - nephr_acc: 1.0000\n",
            "Epoch 956/1000\n",
            "80/80 [==============================] - 0s 24us/sample - loss: 0.3941 - inflam_loss: 0.0410 - nephr_loss: 0.3531 - inflam_acc: 1.0000 - nephr_acc: 1.0000\n",
            "Epoch 957/1000\n",
            "80/80 [==============================] - 0s 21us/sample - loss: 0.3939 - inflam_loss: 0.0410 - nephr_loss: 0.3529 - inflam_acc: 1.0000 - nephr_acc: 1.0000\n",
            "Epoch 958/1000\n",
            "80/80 [==============================] - 0s 22us/sample - loss: 0.3937 - inflam_loss: 0.0410 - nephr_loss: 0.3527 - inflam_acc: 1.0000 - nephr_acc: 1.0000\n",
            "Epoch 959/1000\n",
            "80/80 [==============================] - 0s 26us/sample - loss: 0.3934 - inflam_loss: 0.0409 - nephr_loss: 0.3525 - inflam_acc: 1.0000 - nephr_acc: 1.0000\n",
            "Epoch 960/1000\n",
            "80/80 [==============================] - 0s 28us/sample - loss: 0.3932 - inflam_loss: 0.0409 - nephr_loss: 0.3523 - inflam_acc: 1.0000 - nephr_acc: 1.0000\n",
            "Epoch 961/1000\n",
            "80/80 [==============================] - 0s 25us/sample - loss: 0.3930 - inflam_loss: 0.0409 - nephr_loss: 0.3521 - inflam_acc: 1.0000 - nephr_acc: 1.0000\n",
            "Epoch 962/1000\n",
            "80/80 [==============================] - 0s 24us/sample - loss: 0.3928 - inflam_loss: 0.0409 - nephr_loss: 0.3519 - inflam_acc: 1.0000 - nephr_acc: 1.0000\n",
            "Epoch 963/1000\n",
            "80/80 [==============================] - 0s 19us/sample - loss: 0.3926 - inflam_loss: 0.0409 - nephr_loss: 0.3517 - inflam_acc: 1.0000 - nephr_acc: 1.0000\n",
            "Epoch 964/1000\n",
            "80/80 [==============================] - 0s 46us/sample - loss: 0.3924 - inflam_loss: 0.0408 - nephr_loss: 0.3515 - inflam_acc: 1.0000 - nephr_acc: 1.0000\n",
            "Epoch 965/1000\n",
            "80/80 [==============================] - 0s 23us/sample - loss: 0.3921 - inflam_loss: 0.0408 - nephr_loss: 0.3513 - inflam_acc: 1.0000 - nephr_acc: 1.0000\n",
            "Epoch 966/1000\n",
            "80/80 [==============================] - 0s 25us/sample - loss: 0.3919 - inflam_loss: 0.0408 - nephr_loss: 0.3511 - inflam_acc: 1.0000 - nephr_acc: 1.0000\n",
            "Epoch 967/1000\n",
            "80/80 [==============================] - 0s 25us/sample - loss: 0.3917 - inflam_loss: 0.0408 - nephr_loss: 0.3509 - inflam_acc: 1.0000 - nephr_acc: 1.0000\n",
            "Epoch 968/1000\n",
            "80/80 [==============================] - 0s 27us/sample - loss: 0.3915 - inflam_loss: 0.0408 - nephr_loss: 0.3507 - inflam_acc: 1.0000 - nephr_acc: 1.0000\n",
            "Epoch 969/1000\n",
            "80/80 [==============================] - 0s 34us/sample - loss: 0.3913 - inflam_loss: 0.0407 - nephr_loss: 0.3505 - inflam_acc: 1.0000 - nephr_acc: 1.0000\n",
            "Epoch 970/1000\n",
            "80/80 [==============================] - 0s 25us/sample - loss: 0.3911 - inflam_loss: 0.0407 - nephr_loss: 0.3503 - inflam_acc: 1.0000 - nephr_acc: 1.0000\n",
            "Epoch 971/1000\n",
            "80/80 [==============================] - 0s 20us/sample - loss: 0.3908 - inflam_loss: 0.0407 - nephr_loss: 0.3501 - inflam_acc: 1.0000 - nephr_acc: 1.0000\n",
            "Epoch 972/1000\n",
            "80/80 [==============================] - 0s 23us/sample - loss: 0.3906 - inflam_loss: 0.0407 - nephr_loss: 0.3499 - inflam_acc: 1.0000 - nephr_acc: 1.0000\n",
            "Epoch 973/1000\n",
            "80/80 [==============================] - 0s 22us/sample - loss: 0.3904 - inflam_loss: 0.0407 - nephr_loss: 0.3497 - inflam_acc: 1.0000 - nephr_acc: 1.0000\n",
            "Epoch 974/1000\n",
            "80/80 [==============================] - 0s 35us/sample - loss: 0.3902 - inflam_loss: 0.0406 - nephr_loss: 0.3495 - inflam_acc: 1.0000 - nephr_acc: 1.0000\n",
            "Epoch 975/1000\n",
            "80/80 [==============================] - 0s 25us/sample - loss: 0.3900 - inflam_loss: 0.0406 - nephr_loss: 0.3494 - inflam_acc: 1.0000 - nephr_acc: 1.0000\n",
            "Epoch 976/1000\n",
            "80/80 [==============================] - 0s 25us/sample - loss: 0.3898 - inflam_loss: 0.0406 - nephr_loss: 0.3492 - inflam_acc: 1.0000 - nephr_acc: 1.0000\n",
            "Epoch 977/1000\n",
            "80/80 [==============================] - 0s 19us/sample - loss: 0.3895 - inflam_loss: 0.0406 - nephr_loss: 0.3490 - inflam_acc: 1.0000 - nephr_acc: 1.0000\n",
            "Epoch 978/1000\n",
            "80/80 [==============================] - 0s 28us/sample - loss: 0.3893 - inflam_loss: 0.0406 - nephr_loss: 0.3488 - inflam_acc: 1.0000 - nephr_acc: 1.0000\n",
            "Epoch 979/1000\n",
            "80/80 [==============================] - 0s 22us/sample - loss: 0.3891 - inflam_loss: 0.0405 - nephr_loss: 0.3486 - inflam_acc: 1.0000 - nephr_acc: 1.0000\n",
            "Epoch 980/1000\n",
            "80/80 [==============================] - 0s 27us/sample - loss: 0.3889 - inflam_loss: 0.0405 - nephr_loss: 0.3484 - inflam_acc: 1.0000 - nephr_acc: 1.0000\n",
            "Epoch 981/1000\n",
            "80/80 [==============================] - 0s 26us/sample - loss: 0.3887 - inflam_loss: 0.0405 - nephr_loss: 0.3482 - inflam_acc: 1.0000 - nephr_acc: 1.0000\n",
            "Epoch 982/1000\n",
            "80/80 [==============================] - 0s 22us/sample - loss: 0.3885 - inflam_loss: 0.0405 - nephr_loss: 0.3480 - inflam_acc: 1.0000 - nephr_acc: 1.0000\n",
            "Epoch 983/1000\n",
            "80/80 [==============================] - 0s 43us/sample - loss: 0.3882 - inflam_loss: 0.0405 - nephr_loss: 0.3478 - inflam_acc: 1.0000 - nephr_acc: 1.0000\n",
            "Epoch 984/1000\n",
            "80/80 [==============================] - 0s 23us/sample - loss: 0.3880 - inflam_loss: 0.0404 - nephr_loss: 0.3476 - inflam_acc: 1.0000 - nephr_acc: 1.0000\n",
            "Epoch 985/1000\n",
            "80/80 [==============================] - 0s 25us/sample - loss: 0.3878 - inflam_loss: 0.0404 - nephr_loss: 0.3474 - inflam_acc: 1.0000 - nephr_acc: 1.0000\n",
            "Epoch 986/1000\n",
            "80/80 [==============================] - 0s 24us/sample - loss: 0.3876 - inflam_loss: 0.0404 - nephr_loss: 0.3472 - inflam_acc: 1.0000 - nephr_acc: 1.0000\n",
            "Epoch 987/1000\n",
            "80/80 [==============================] - 0s 25us/sample - loss: 0.3874 - inflam_loss: 0.0404 - nephr_loss: 0.3470 - inflam_acc: 1.0000 - nephr_acc: 1.0000\n",
            "Epoch 988/1000\n",
            "80/80 [==============================] - 0s 24us/sample - loss: 0.3872 - inflam_loss: 0.0404 - nephr_loss: 0.3468 - inflam_acc: 1.0000 - nephr_acc: 1.0000\n",
            "Epoch 989/1000\n",
            "80/80 [==============================] - 0s 26us/sample - loss: 0.3870 - inflam_loss: 0.0403 - nephr_loss: 0.3466 - inflam_acc: 1.0000 - nephr_acc: 1.0000\n",
            "Epoch 990/1000\n",
            "80/80 [==============================] - 0s 44us/sample - loss: 0.3867 - inflam_loss: 0.0403 - nephr_loss: 0.3464 - inflam_acc: 1.0000 - nephr_acc: 1.0000\n",
            "Epoch 991/1000\n",
            "80/80 [==============================] - 0s 52us/sample - loss: 0.3865 - inflam_loss: 0.0403 - nephr_loss: 0.3462 - inflam_acc: 1.0000 - nephr_acc: 1.0000\n",
            "Epoch 992/1000\n",
            "80/80 [==============================] - 0s 24us/sample - loss: 0.3863 - inflam_loss: 0.0403 - nephr_loss: 0.3461 - inflam_acc: 1.0000 - nephr_acc: 1.0000\n",
            "Epoch 993/1000\n",
            "80/80 [==============================] - 0s 33us/sample - loss: 0.3861 - inflam_loss: 0.0402 - nephr_loss: 0.3459 - inflam_acc: 1.0000 - nephr_acc: 1.0000\n",
            "Epoch 994/1000\n",
            "80/80 [==============================] - 0s 24us/sample - loss: 0.3859 - inflam_loss: 0.0402 - nephr_loss: 0.3457 - inflam_acc: 1.0000 - nephr_acc: 1.0000\n",
            "Epoch 995/1000\n",
            "80/80 [==============================] - 0s 26us/sample - loss: 0.3857 - inflam_loss: 0.0402 - nephr_loss: 0.3455 - inflam_acc: 1.0000 - nephr_acc: 1.0000\n",
            "Epoch 996/1000\n",
            "80/80 [==============================] - 0s 100us/sample - loss: 0.3855 - inflam_loss: 0.0402 - nephr_loss: 0.3453 - inflam_acc: 1.0000 - nephr_acc: 1.0000\n",
            "Epoch 997/1000\n",
            "80/80 [==============================] - 0s 20us/sample - loss: 0.3853 - inflam_loss: 0.0402 - nephr_loss: 0.3451 - inflam_acc: 1.0000 - nephr_acc: 1.0000\n",
            "Epoch 998/1000\n",
            "80/80 [==============================] - 0s 24us/sample - loss: 0.3850 - inflam_loss: 0.0401 - nephr_loss: 0.3449 - inflam_acc: 1.0000 - nephr_acc: 1.0000\n",
            "Epoch 999/1000\n",
            "80/80 [==============================] - 0s 21us/sample - loss: 0.3848 - inflam_loss: 0.0401 - nephr_loss: 0.3447 - inflam_acc: 1.0000 - nephr_acc: 1.0000\n",
            "Epoch 1000/1000\n",
            "80/80 [==============================] - 0s 23us/sample - loss: 0.3846 - inflam_loss: 0.0401 - nephr_loss: 0.3445 - inflam_acc: 1.0000 - nephr_acc: 1.0000\n"
          ],
          "name": "stdout"
        }
      ]
    },
    {
      "cell_type": "markdown",
      "metadata": {
        "id": "2D5WmZvkKURz",
        "colab_type": "text"
      },
      "source": [
        "#### Plot the learning curves"
      ]
    },
    {
      "cell_type": "code",
      "metadata": {
        "scrolled": false,
        "id": "6GgUOXPPKUR0",
        "colab_type": "code",
        "outputId": "e2b57ca3-73ad-41b3-b3eb-5701e2b48ad4",
        "colab": {
          "base_uri": "https://localhost:8080/",
          "height": 573
        }
      },
      "source": [
        "# Plot the training accuracy\n",
        "\n",
        "acc_keys = [k for k in history.history.keys() if k in ('inflam_acc', 'nephr_acc')] \n",
        "loss_keys = [k for k in history.history.keys() if not k in acc_keys]\n",
        "\n",
        "for k, v in history.history.items():\n",
        "    if k in acc_keys:\n",
        "        plt.figure(1)\n",
        "        plt.plot(v)\n",
        "    else:\n",
        "        plt.figure(2)\n",
        "        plt.plot(v)\n",
        "\n",
        "plt.figure(1)\n",
        "plt.title('Accuracy vs. epochs')\n",
        "plt.ylabel('Accuracy')\n",
        "plt.xlabel('Epoch')\n",
        "plt.legend(acc_keys, loc='upper right')\n",
        "\n",
        "plt.figure(2)\n",
        "plt.title('Loss vs. epochs')\n",
        "plt.ylabel('Loss')\n",
        "plt.xlabel('Epoch')\n",
        "plt.legend(loss_keys, loc='upper right')\n",
        "\n",
        "plt.show()"
      ],
      "execution_count": 0,
      "outputs": [
        {
          "output_type": "display_data",
          "data": {
            "image/png": "[encoded data removed]",
            "text/plain": [
              "<Figure size 432x288 with 1 Axes>"
            ]
          },
          "metadata": {
            "tags": [],
            "needs_background": "light"
          }
        },
        {
          "output_type": "display_data",
          "data": {
            "image/png": "[encoded data removed]",
            "text/plain": [
              "<Figure size 432x288 with 1 Axes>"
            ]
          },
          "metadata": {
            "tags": [],
            "needs_background": "light"
          }
        }
      ]
    },
    {
      "cell_type": "code",
      "metadata": {
        "scrolled": false,
        "id": "gGnXQLRyKUR4",
        "colab_type": "code",
        "colab": {}
      },
      "source": [
        "# Evaluate the model\n",
        "\n"
      ],
      "execution_count": 0,
      "outputs": []
    },
    {
      "cell_type": "markdown",
      "metadata": {
        "id": "G5xxvVY3KUR8",
        "colab_type": "text"
      },
      "source": [
        "![alt text](https://)***\n",
        "<a id=\"coding_tutorial_2\"></a>\n",
        "## Tensors and Variables"
      ]
    },
    {
      "cell_type": "code",
      "metadata": {
        "scrolled": false,
        "id": "fTIe7EbMKUR9",
        "colab_type": "code",
        "colab": {}
      },
      "source": [
        "import numpy as np\n",
        "import tensorflow as tf"
      ],
      "execution_count": 0,
      "outputs": []
    },
    {
      "cell_type": "markdown",
      "metadata": {
        "id": "XEKAybugKUSD",
        "colab_type": "text"
      },
      "source": [
        "#### Create Variable objects"
      ]
    },
    {
      "cell_type": "code",
      "metadata": {
        "scrolled": false,
        "id": "PQnCI7UPKUSF",
        "colab_type": "code",
        "colab": {}
      },
      "source": [
        "# Create Variable objects of different type with tf.Variable\n",
        "\n",
        "strings = tf.Variable([\"Hello world!\"], tf.string)\n",
        "floats  = tf.Variable([3.14159, 2.71828], tf.float64)\n",
        "ints = tf.Variable([1, 2, 3,6,7], tf.int32, name='myint')\n",
        "complexs = tf.Variable([25.9 - 7.39j, 1.23 - 4.91j], tf.complex128)"
      ],
      "execution_count": 0,
      "outputs": []
    },
    {
      "cell_type": "code",
      "metadata": {
        "id": "0iCdLB2z91-q",
        "colab_type": "code",
        "outputId": "c63d4875-0e59-435b-b1f7-69e5bf0b6277",
        "colab": {
          "base_uri": "https://localhost:8080/",
          "height": 87
        }
      },
      "source": [
        "print(strings)\n",
        "print(floats)\n",
        "print(ints)\n",
        "print(complexs)"
      ],
      "execution_count": 0,
      "outputs": [
        {
          "output_type": "stream",
          "text": [
            "<tf.Variable 'Variable:0' shape=(1,) dtype=string, numpy=array([b'Hello world!'], dtype=object)>\n",
            "<tf.Variable 'Variable:0' shape=(2,) dtype=float32, numpy=array([3.14159, 2.71828], dtype=float32)>\n",
            "<tf.Variable 'myint:0' shape=(5,) dtype=int32, numpy=array([1, 2, 3, 6, 7], dtype=int32)>\n",
            "<tf.Variable 'Variable:0' shape=(2,) dtype=complex128, numpy=array([25.9 -7.39j,  1.23-4.91j])>\n"
          ],
          "name": "stdout"
        }
      ]
    },
    {
      "cell_type": "code",
      "metadata": {
        "scrolled": false,
        "id": "8st30T0kKUSJ",
        "colab_type": "code",
        "outputId": "9e24c66a-7a07-4310-c8d3-bf5d128c5b22",
        "colab": {
          "base_uri": "https://localhost:8080/",
          "height": 52
        }
      },
      "source": [
        "# Initialise a Variable value\n",
        "s1=tf.Variable([11,12,13], dtype=float)\n",
        "s2=tf.Variable([\"You are the BEST\"])\n",
        "print(s1)\n",
        "print(s2)\n",
        "\n"
      ],
      "execution_count": 0,
      "outputs": [
        {
          "output_type": "stream",
          "text": [
            "<tf.Variable 'Variable:0' shape=(3,) dtype=float32, numpy=array([11., 12., 13.], dtype=float32)>\n",
            "<tf.Variable 'Variable:0' shape=(1,) dtype=string, numpy=array([b'You are the BEST'], dtype=object)>\n"
          ],
          "name": "stdout"
        }
      ]
    },
    {
      "cell_type": "markdown",
      "metadata": {
        "id": "9rOpqQVNKUSO",
        "colab_type": "text"
      },
      "source": [
        "#### Use and modify Variable values"
      ]
    },
    {
      "cell_type": "code",
      "metadata": {
        "scrolled": false,
        "id": "BM_P9WM1KUSP",
        "colab_type": "code",
        "outputId": "643307e3-6d05-40b7-ba33-3f582c96359f",
        "colab": {
          "base_uri": "https://localhost:8080/",
          "height": 34
        }
      },
      "source": [
        "# Use the value of a Variable\n",
        "\n",
        "v = tf.Variable(0.0)\n",
        "w = v + 1  # w is a tf.Tensor which is computed based on the value of v.\n",
        "\n",
        "print(type(w))"
      ],
      "execution_count": 0,
      "outputs": [
        {
          "output_type": "stream",
          "text": [
            "<class 'tensorflow.python.framework.ops.EagerTensor'>\n"
          ],
          "name": "stdout"
        }
      ]
    },
    {
      "cell_type": "code",
      "metadata": {
        "scrolled": false,
        "id": "ZphqbA9bKUSV",
        "colab_type": "code",
        "outputId": "5bf98021-8f37-46cb-8983-d37c2dc6597b",
        "colab": {
          "base_uri": "https://localhost:8080/",
          "height": 34
        }
      },
      "source": [
        "# Increment the value of a Variable\n",
        "v.assign_add(2)\n",
        "print(v)\n"
      ],
      "execution_count": 0,
      "outputs": [
        {
          "output_type": "stream",
          "text": [
            "<tf.Variable 'Variable:0' shape=() dtype=float32, numpy=2.0>\n"
          ],
          "name": "stdout"
        }
      ]
    },
    {
      "cell_type": "code",
      "metadata": {
        "scrolled": false,
        "id": "bUTr5IMKKUSc",
        "colab_type": "code",
        "outputId": "f2218090-96f9-4b08-9588-48e2363c701a",
        "colab": {
          "base_uri": "https://localhost:8080/",
          "height": 34
        }
      },
      "source": [
        "# Decrement the value of a Variable\n",
        "v.assign_sub(1)   # assign_sub will subtract value from V\n",
        "print(v)\n"
      ],
      "execution_count": 0,
      "outputs": [
        {
          "output_type": "stream",
          "text": [
            "<tf.Variable 'Variable:0' shape=() dtype=float32, numpy=1.0>\n"
          ],
          "name": "stdout"
        }
      ]
    },
    {
      "cell_type": "markdown",
      "metadata": {
        "id": "1fn43vXfKUSj",
        "colab_type": "text"
      },
      "source": [
        "#### Create Tensor objects"
      ]
    },
    {
      "cell_type": "markdown",
      "metadata": {
        "id": "ydXIlRLVKUSk",
        "colab_type": "text"
      },
      "source": [
        "Create a constant tensor and print its type as well as its shape:"
      ]
    },
    {
      "cell_type": "code",
      "metadata": {
        "scrolled": false,
        "id": "ynmKF5WBKUSn",
        "colab_type": "code",
        "outputId": "859b6bb2-276a-4347-8a20-4c46ee05b28e",
        "colab": {
          "base_uri": "https://localhost:8080/",
          "height": 123
        }
      },
      "source": [
        "# Create a constant Tensor\n",
        "\n",
        "x = tf.constant([[1, 2, 3], [4, 5, 6], [7, 8, 9]])\n",
        "print(x)\n",
        "print(\"dtype:\", x.dtype)\n",
        "print(\"shape:\", x.shape)"
      ],
      "execution_count": 0,
      "outputs": [
        {
          "output_type": "stream",
          "text": [
            "tf.Tensor(\n",
            "[[1 2 3]\n",
            " [4 5 6]\n",
            " [7 8 9]], shape=(3, 3), dtype=int32)\n",
            "dtype: <dtype: 'int32'>\n",
            "shape: (3, 3)\n"
          ],
          "name": "stdout"
        }
      ]
    },
    {
      "cell_type": "code",
      "metadata": {
        "scrolled": false,
        "id": "ONzNFdvBKUSw",
        "colab_type": "code",
        "outputId": "895f5df8-21f8-4610-d942-82ebcbde3f3a",
        "colab": {
          "base_uri": "https://localhost:8080/",
          "height": 70
        }
      },
      "source": [
        "# Obtain the value as a numpy array\n",
        "x.numpy()  # Will change tensor to numpy\n",
        "\n",
        "\n"
      ],
      "execution_count": 0,
      "outputs": [
        {
          "output_type": "execute_result",
          "data": {
            "text/plain": [
              "array([[1, 2, 3],\n",
              "       [4, 5, 6],\n",
              "       [7, 8, 9]], dtype=int32)"
            ]
          },
          "metadata": {
            "tags": []
          },
          "execution_count": 10
        }
      ]
    },
    {
      "cell_type": "code",
      "metadata": {
        "id": "lVVbVxEyBrlO",
        "colab_type": "code",
        "outputId": "ced0ef1d-a888-4a1b-ea4f-04c17b52f3c9",
        "colab": {
          "base_uri": "https://localhost:8080/",
          "height": 87
        }
      },
      "source": [
        "# to convert numpy to tensor\n",
        "a= tf.convert_to_tensor(x)\n",
        "a"
      ],
      "execution_count": 0,
      "outputs": [
        {
          "output_type": "execute_result",
          "data": {
            "text/plain": [
              "<tf.Tensor: shape=(3, 3), dtype=int32, numpy=\n",
              "array([[1, 2, 3],\n",
              "       [4, 5, 6],\n",
              "       [7, 8, 9]], dtype=int32)>"
            ]
          },
          "metadata": {
            "tags": []
          },
          "execution_count": 11
        }
      ]
    },
    {
      "cell_type": "code",
      "metadata": {
        "scrolled": false,
        "id": "Z_coR5e_KUS1",
        "colab_type": "code",
        "outputId": "c921f1a2-bc34-49cf-b9f9-b7823824b0e6",
        "colab": {
          "base_uri": "https://localhost:8080/",
          "height": 87
        }
      },
      "source": [
        "# Create a Tensor of type float32\n",
        "\n",
        "s2= tf.Variable([[1.2,2.2] ,  [3.5,4.4], [1,2]])\n",
        "s2\n",
        "\n"
      ],
      "execution_count": 0,
      "outputs": [
        {
          "output_type": "execute_result",
          "data": {
            "text/plain": [
              "<tf.Variable 'Variable:0' shape=(3, 2) dtype=float32, numpy=\n",
              "array([[1.2, 2.2],\n",
              "       [3.5, 4.4],\n",
              "       [1. , 2. ]], dtype=float32)>"
            ]
          },
          "metadata": {
            "tags": []
          },
          "execution_count": 12
        }
      ]
    },
    {
      "cell_type": "code",
      "metadata": {
        "scrolled": false,
        "id": "66vsJ2nDKUS6",
        "colab_type": "code",
        "outputId": "5f49b3f4-5df7-4254-ec2d-53cde038b821",
        "colab": {
          "base_uri": "https://localhost:8080/",
          "height": 34
        }
      },
      "source": [
        "# Create coefficients\n",
        "\n",
        "coeffs = np.arange(16)\n",
        "coeffs"
      ],
      "execution_count": 0,
      "outputs": [
        {
          "output_type": "execute_result",
          "data": {
            "text/plain": [
              "array([ 0,  1,  2,  3,  4,  5,  6,  7,  8,  9, 10, 11, 12, 13, 14, 15])"
            ]
          },
          "metadata": {
            "tags": []
          },
          "execution_count": 13
        }
      ]
    },
    {
      "cell_type": "code",
      "metadata": {
        "id": "oklUSgBkKUS_",
        "colab_type": "code",
        "colab": {}
      },
      "source": [
        "# Initialise shapes\n",
        "shape1=[8,2]\n",
        "shape2=[4,4]\n",
        "shape3=[2,2,2,2]\n",
        "\n"
      ],
      "execution_count": 0,
      "outputs": []
    },
    {
      "cell_type": "code",
      "metadata": {
        "id": "xDueGPOZKUTE",
        "colab_type": "code",
        "outputId": "abe33c5c-21bd-4023-d19c-e7258a3db841",
        "colab": {
          "base_uri": "https://localhost:8080/",
          "height": 603
        }
      },
      "source": [
        "# Create Tensors of different shape\n",
        "\n",
        "a = tf.constant(coeffs, shape=shape1)\n",
        "print(\"\\n a:\\n \", a)\n",
        "\n",
        "b = tf.constant(coeffs, shape=shape2)\n",
        "print(\"\\n b:\\n \", b)\n",
        "\n",
        "c = tf.constant(coeffs, shape=shape3)\n",
        "print(\"\\n c:\\n \", c)"
      ],
      "execution_count": 0,
      "outputs": [
        {
          "output_type": "stream",
          "text": [
            "\n",
            " a:\n",
            "  tf.Tensor(\n",
            "[[ 0  1]\n",
            " [ 2  3]\n",
            " [ 4  5]\n",
            " [ 6  7]\n",
            " [ 8  9]\n",
            " [10 11]\n",
            " [12 13]\n",
            " [14 15]], shape=(8, 2), dtype=int64)\n",
            "\n",
            " b:\n",
            "  tf.Tensor(\n",
            "[[ 0  1  2  3]\n",
            " [ 4  5  6  7]\n",
            " [ 8  9 10 11]\n",
            " [12 13 14 15]], shape=(4, 4), dtype=int64)\n",
            "\n",
            " c:\n",
            "  tf.Tensor(\n",
            "[[[[ 0  1]\n",
            "   [ 2  3]]\n",
            "\n",
            "  [[ 4  5]\n",
            "   [ 6  7]]]\n",
            "\n",
            "\n",
            " [[[ 8  9]\n",
            "   [10 11]]\n",
            "\n",
            "  [[12 13]\n",
            "   [14 15]]]], shape=(2, 2, 2, 2), dtype=int64)\n"
          ],
          "name": "stdout"
        }
      ]
    },
    {
      "cell_type": "markdown",
      "metadata": {
        "id": "wQunv2imKUTH",
        "colab_type": "text"
      },
      "source": [
        "#### Useful Tensor operations"
      ]
    },
    {
      "cell_type": "code",
      "metadata": {
        "scrolled": false,
        "id": "ckoPBCdeKUTI",
        "colab_type": "code",
        "outputId": "f40c0e92-aab9-4785-a13c-90c1f2db48f8",
        "colab": {
          "base_uri": "https://localhost:8080/",
          "height": 283
        }
      },
      "source": [
        "# Create a constant Tensor\n",
        "\n",
        "t = tf.constant(np.arange(80), shape=[5,2,8])\n",
        "t"
      ],
      "execution_count": 0,
      "outputs": [
        {
          "output_type": "execute_result",
          "data": {
            "text/plain": [
              "<tf.Tensor: shape=(5, 2, 8), dtype=int64, numpy=\n",
              "array([[[ 0,  1,  2,  3,  4,  5,  6,  7],\n",
              "        [ 8,  9, 10, 11, 12, 13, 14, 15]],\n",
              "\n",
              "       [[16, 17, 18, 19, 20, 21, 22, 23],\n",
              "        [24, 25, 26, 27, 28, 29, 30, 31]],\n",
              "\n",
              "       [[32, 33, 34, 35, 36, 37, 38, 39],\n",
              "        [40, 41, 42, 43, 44, 45, 46, 47]],\n",
              "\n",
              "       [[48, 49, 50, 51, 52, 53, 54, 55],\n",
              "        [56, 57, 58, 59, 60, 61, 62, 63]],\n",
              "\n",
              "       [[64, 65, 66, 67, 68, 69, 70, 71],\n",
              "        [72, 73, 74, 75, 76, 77, 78, 79]]])>"
            ]
          },
          "metadata": {
            "tags": []
          },
          "execution_count": 21
        }
      ]
    },
    {
      "cell_type": "code",
      "metadata": {
        "id": "QIgKN6x_KUTN",
        "colab_type": "code",
        "colab": {}
      },
      "source": [
        "# Get the rank of a Tensor\n",
        "\n",
        "r1=tf.rank(t)"
      ],
      "execution_count": 0,
      "outputs": []
    },
    {
      "cell_type": "code",
      "metadata": {
        "id": "w1lcPqXbKUTU",
        "colab_type": "code",
        "outputId": "1853f166-8c90-4e91-ad8f-b2e773ea49a0",
        "colab": {
          "base_uri": "https://localhost:8080/",
          "height": 34
        }
      },
      "source": [
        "# Display the rank\n",
        "\n",
        "print(\"rank: \", r1)"
      ],
      "execution_count": 0,
      "outputs": [
        {
          "output_type": "stream",
          "text": [
            "rank:  tf.Tensor(3, shape=(), dtype=int32)\n"
          ],
          "name": "stdout"
        }
      ]
    },
    {
      "cell_type": "code",
      "metadata": {
        "scrolled": false,
        "id": "bDZTFUpKKUTY",
        "colab_type": "code",
        "colab": {}
      },
      "source": [
        "# Reshape a Tensor\n",
        "t21=tf.reshape(t,(8,10))\n",
        "r2=tf.rank(t21)       # Rank indicates dimension of array"
      ],
      "execution_count": 0,
      "outputs": []
    },
    {
      "cell_type": "code",
      "metadata": {
        "id": "-Jh0xAmhKUTb",
        "colab_type": "code",
        "colab": {}
      },
      "source": [
        "# Display the new shape\n",
        "\n",
        "print(\"t21.shape: \", t21.shape)\n",
        "print(r2)\n",
        "print(\"t21\",t21)"
      ],
      "execution_count": 0,
      "outputs": []
    },
    {
      "cell_type": "code",
      "metadata": {
        "scrolled": false,
        "id": "LLGauT00KUTd",
        "colab_type": "code",
        "colab": {}
      },
      "source": [
        "# Create ones, zeros, identity and constant Tensors\n",
        "O1=tf.ones(shape=(2,3))\n",
        "O2= tf.zeros(shape=(3,3))\n",
        "eye=tf.eye(5)\n",
        "tensor7=tf.constant(7.0,shape=[2,2])\n",
        "\n",
        "\n"
      ],
      "execution_count": 0,
      "outputs": []
    },
    {
      "cell_type": "code",
      "metadata": {
        "id": "rqVS1qx7KUTf",
        "colab_type": "code",
        "colab": {}
      },
      "source": [
        "# Display the created tensors\n",
        "\n",
        "print(\"\\n Ones:\\n \",O1)\n",
        "print(\"\\n Zeros:\\n \", O2)\n",
        "print(\"\\n Identity:\\n \", eye)\n",
        "print(\"\\n Tensor filled with 7: \", tensor7)\n",
        "print(\"rank\",f)"
      ],
      "execution_count": 0,
      "outputs": []
    },
    {
      "cell_type": "code",
      "metadata": {
        "scrolled": false,
        "id": "HWrvSDxNKUTl",
        "colab_type": "code",
        "outputId": "8cd382d9-7b32-4361-ad6f-d60958a939ed",
        "colab": {
          "base_uri": "https://localhost:8080/",
          "height": 123
        }
      },
      "source": [
        "\n",
        "# Create a ones Tensor and a zeros Tensor\n",
        "\n",
        "t1 = tf.ones(shape=(2, 2))\n",
        "t2 = tf.zeros(shape=(2, 2))\n",
        "print(t1)\n",
        "print(t2)"
      ],
      "execution_count": 0,
      "outputs": [
        {
          "output_type": "stream",
          "text": [
            "tf.Tensor(\n",
            "[[1. 1.]\n",
            " [1. 1.]], shape=(2, 2), dtype=float32)\n",
            "tf.Tensor(\n",
            "[[0. 0.]\n",
            " [0. 0.]], shape=(2, 2), dtype=float32)\n"
          ],
          "name": "stdout"
        }
      ]
    },
    {
      "cell_type": "code",
      "metadata": {
        "scrolled": false,
        "id": "1j_bYOrhKUTq",
        "colab_type": "code",
        "colab": {}
      },
      "source": [
        "# Concatentate two Tensors\n",
        "concat0=tf.concat([t1,t2],0)  #  concate\n",
        "concat1=tf.concat([t1,t2],1)  # rowwise concat\n"
      ],
      "execution_count": 0,
      "outputs": []
    },
    {
      "cell_type": "code",
      "metadata": {
        "id": "FtbFujr7KUTt",
        "colab_type": "code",
        "outputId": "3afec8c4-454c-4b61-cf40-d7f82a56e45a",
        "colab": {
          "base_uri": "https://localhost:8080/",
          "height": 158
        }
      },
      "source": [
        "# Display the concatenated tensors\n",
        "\n",
        "print(concat0)\n",
        "print(concat1)"
      ],
      "execution_count": 0,
      "outputs": [
        {
          "output_type": "stream",
          "text": [
            "tf.Tensor(\n",
            "[[1. 1.]\n",
            " [1. 1.]\n",
            " [0. 0.]\n",
            " [0. 0.]], shape=(4, 2), dtype=float32)\n",
            "tf.Tensor(\n",
            "[[1. 1. 0. 0.]\n",
            " [1. 1. 0. 0.]], shape=(2, 4), dtype=float32)\n"
          ],
          "name": "stdout"
        }
      ]
    },
    {
      "cell_type": "code",
      "metadata": {
        "scrolled": false,
        "id": "M-WVtu8DKUTw",
        "colab_type": "code",
        "outputId": "c52f6677-fa61-44f9-f97e-f9feff7f890e",
        "colab": {
          "base_uri": "https://localhost:8080/",
          "height": 52
        }
      },
      "source": [
        "# Create a constant Tensor\n",
        "\n",
        "t = tf.constant(np.arange(24), shape=(3, 2, 4))\n",
        "print(\"\\n t shape: \", t.shape)"
      ],
      "execution_count": 0,
      "outputs": [
        {
          "output_type": "stream",
          "text": [
            "\n",
            " t shape:  (3, 2, 4)\n"
          ],
          "name": "stdout"
        }
      ]
    },
    {
      "cell_type": "code",
      "metadata": {
        "scrolled": false,
        "id": "RrN4aMQWKUT2",
        "colab_type": "code",
        "colab": {}
      },
      "source": [
        "# Expanding the rank of Tensors\n",
        "t1= tf.expand_dims(t,0)  # Expand dim of array in specified index , change shape of original array\n",
        "t2= tf.expand_dims(t,1)\n",
        "t3= tf.expand_dims(t,3)\n"
      ],
      "execution_count": 0,
      "outputs": []
    },
    {
      "cell_type": "code",
      "metadata": {
        "scrolled": false,
        "id": "kB-r55xiKUT5",
        "colab_type": "code",
        "outputId": "c981bee3-3a08-4c51-9972-c36c74486dae",
        "colab": {
          "base_uri": "https://localhost:8080/",
          "height": 105
        }
      },
      "source": [
        "# Display the shapes after tf.expand_dims \n",
        "\n",
        "print(\"\\n After expanding dims:\\n t1 shape: \", t1.shape, \"\\n t2 shape: \", t2.shape, \"\\n t3 shape: \", t3.shape)"
      ],
      "execution_count": 0,
      "outputs": [
        {
          "output_type": "stream",
          "text": [
            "\n",
            " After expanding dims:\n",
            " t1 shape:  (1, 3, 2, 4) \n",
            " t2 shape:  (3, 1, 2, 4) \n",
            " t3 shape:  (3, 2, 4, 1)\n"
          ],
          "name": "stdout"
        }
      ]
    },
    {
      "cell_type": "code",
      "metadata": {
        "scrolled": false,
        "id": "q1zKORaAKUT9",
        "colab_type": "code",
        "colab": {}
      },
      "source": [
        "# Squeezing redundant dimensions\n",
        "t1=tf.squeeze(t1,0)\n",
        "t2=tf.squeeze(t2,1)\n",
        "t3=tf.squeeze(t3,3)\n"
      ],
      "execution_count": 0,
      "outputs": []
    },
    {
      "cell_type": "code",
      "metadata": {
        "scrolled": false,
        "id": "94Uy3Y5GKUUB",
        "colab_type": "code",
        "outputId": "74d219fb-8b6e-42ee-d053-7a174a3fa267",
        "colab": {
          "base_uri": "https://localhost:8080/",
          "height": 105
        }
      },
      "source": [
        "# Display the shapes after tf.squeeze\n",
        "\n",
        "print(\"\\n After squeezing:\\n t1 shape: \", t1.shape, \"\\n t2 shape: \", t2.shape, \"\\n t3 shape: \", t3.shape)"
      ],
      "execution_count": 0,
      "outputs": [
        {
          "output_type": "stream",
          "text": [
            "\n",
            " After squeezing:\n",
            " t1 shape:  (3, 2, 4) \n",
            " t2 shape:  (3, 2, 4) \n",
            " t3 shape:  (3, 2, 4)\n"
          ],
          "name": "stdout"
        }
      ]
    },
    {
      "cell_type": "code",
      "metadata": {
        "scrolled": false,
        "id": "bSnXwk3YKUUE",
        "colab_type": "code",
        "outputId": "290527e9-d897-49d4-f980-16ad1262bcc4",
        "colab": {
          "base_uri": "https://localhost:8080/",
          "height": 34
        }
      },
      "source": [
        "# Slicing a Tensor\n",
        "x=tf.constant([1,2,3,4,5,6,7])\n",
        "print(x[1:-2])\n",
        "\n"
      ],
      "execution_count": 0,
      "outputs": [
        {
          "output_type": "stream",
          "text": [
            "tf.Tensor([2 3 4 5], shape=(4,), dtype=int32)\n"
          ],
          "name": "stdout"
        }
      ]
    },
    {
      "cell_type": "markdown",
      "metadata": {
        "id": "lLnXno5vKUUH",
        "colab_type": "text"
      },
      "source": [
        "#### Doing maths with Tensors"
      ]
    },
    {
      "cell_type": "code",
      "metadata": {
        "id": "8cvyLI90KUUH",
        "colab_type": "code",
        "colab": {}
      },
      "source": [
        "# Create two constant Tensors\n",
        "\n",
        "c = tf.constant([[1.0, 2.0], [3.0, 4.0]])\n",
        "d = tf.constant([[1.0, 1.0], [0.0, 1.0]])"
      ],
      "execution_count": 0,
      "outputs": []
    },
    {
      "cell_type": "code",
      "metadata": {
        "scrolled": false,
        "id": "zOr2CRcYKUUM",
        "colab_type": "code",
        "colab": {}
      },
      "source": [
        "# Matrix multiplication\n",
        "\n",
        "matmul_cd = tf.matmul(c,d)"
      ],
      "execution_count": 0,
      "outputs": []
    },
    {
      "cell_type": "code",
      "metadata": {
        "id": "MlBvG6UxKUUP",
        "colab_type": "code",
        "outputId": "d22a36af-97e7-41bb-ffde-c04625374208",
        "colab": {
          "base_uri": "https://localhost:8080/",
          "height": 105
        }
      },
      "source": [
        "# Display the result\n",
        "\n",
        "print(\"\\n tf.matmul(c,d):\\n\", matmul_cd)"
      ],
      "execution_count": 0,
      "outputs": [
        {
          "output_type": "stream",
          "text": [
            "\n",
            " tf.matmul(c,d):\n",
            " tf.Tensor(\n",
            "[[1. 3.]\n",
            " [3. 7.]], shape=(2, 2), dtype=float32)\n"
          ],
          "name": "stdout"
        }
      ]
    },
    {
      "cell_type": "code",
      "metadata": {
        "scrolled": false,
        "id": "lMJMXHoMKUUR",
        "colab_type": "code",
        "colab": {}
      },
      "source": [
        "# Elementwise operations\n",
        "c_times_d = c*d\n",
        "c_plus_d =  c+d\n",
        "c_minus_d = c-d\n",
        "c_div_c = c/d\n"
      ],
      "execution_count": 0,
      "outputs": []
    },
    {
      "cell_type": "code",
      "metadata": {
        "id": "_eoHiulOKUUT",
        "colab_type": "code",
        "outputId": "df17f2c6-dc57-48fa-d257-e825d48ba9ad",
        "colab": {
          "base_uri": "https://localhost:8080/",
          "height": 372
        }
      },
      "source": [
        "# Display the results\n",
        "\n",
        "print(\"\\n c*d:\\n\", c_times_d)\n",
        "print(\"\\n c+d:\\n\", c_plus_d)\n",
        "print(\"\\n c-d:\\n\", c_minus_d)\n",
        "print(\"\\n c/c:\\n\", c_div_c)"
      ],
      "execution_count": 0,
      "outputs": [
        {
          "output_type": "stream",
          "text": [
            "\n",
            " c*d:\n",
            " tf.Tensor(\n",
            "[[1. 2.]\n",
            " [0. 4.]], shape=(2, 2), dtype=float32)\n",
            "\n",
            " c+d:\n",
            " tf.Tensor(\n",
            "[[2. 3.]\n",
            " [3. 5.]], shape=(2, 2), dtype=float32)\n",
            "\n",
            " c-d:\n",
            " tf.Tensor(\n",
            "[[0. 1.]\n",
            " [3. 3.]], shape=(2, 2), dtype=float32)\n",
            "\n",
            " c/c:\n",
            " tf.Tensor(\n",
            "[[ 1.  2.]\n",
            " [inf  4.]], shape=(2, 2), dtype=float32)\n"
          ],
          "name": "stdout"
        }
      ]
    },
    {
      "cell_type": "code",
      "metadata": {
        "scrolled": false,
        "id": "UTjk8RmQKUUV",
        "colab_type": "code",
        "colab": {}
      },
      "source": [
        "# Create Tensors\n",
        "\n",
        "a = tf.constant([[2, 3], [3, 3]])\n",
        "b = tf.constant([[8, 7], [2, 3]])\n",
        "x = tf.constant([[-6.89 + 1.78j], [-2.54 + 2.15j]])"
      ],
      "execution_count": 0,
      "outputs": []
    },
    {
      "cell_type": "code",
      "metadata": {
        "id": "5fKpXUAWKUUY",
        "colab_type": "code",
        "colab": {}
      },
      "source": [
        "# Absolute value of a Tensor\n",
        "absx= tf.abs(x)\n"
      ],
      "execution_count": 0,
      "outputs": []
    },
    {
      "cell_type": "code",
      "metadata": {
        "id": "8_slSXaBKUUa",
        "colab_type": "code",
        "colab": {}
      },
      "source": [
        "# Power of a Tensor\n",
        "powab= tf.pow(a,a)\n",
        "\n"
      ],
      "execution_count": 0,
      "outputs": []
    },
    {
      "cell_type": "code",
      "metadata": {
        "scrolled": false,
        "id": "-XlewNGEKUUc",
        "colab_type": "code",
        "outputId": "874cd4a2-3b12-4727-dffe-981b7bc3be2d",
        "colab": {
          "base_uri": "https://localhost:8080/",
          "height": 158
        }
      },
      "source": [
        "# Display the results\n",
        "\n",
        "print(\"\\n \", absx)\n",
        "print(\"\\n \", powab)"
      ],
      "execution_count": 0,
      "outputs": [
        {
          "output_type": "stream",
          "text": [
            "\n",
            "  tf.Tensor(\n",
            "[[7.11621388]\n",
            " [3.32777704]], shape=(2, 1), dtype=float64)\n",
            "\n",
            "  tf.Tensor(\n",
            "[[ 4 27]\n",
            " [27 27]], shape=(2, 2), dtype=int32)\n"
          ],
          "name": "stdout"
        }
      ]
    },
    {
      "cell_type": "markdown",
      "metadata": {
        "id": "hT_nP5czKUUe",
        "colab_type": "text"
      },
      "source": [
        "#### Randomly sampled constant tensors"
      ]
    },
    {
      "cell_type": "code",
      "metadata": {
        "scrolled": false,
        "id": "BCYaFEZpKUUe",
        "colab_type": "code",
        "outputId": "2c00fe67-2f44-4b15-9363-b57dda5f83cb",
        "colab": {
          "base_uri": "https://localhost:8080/",
          "height": 70
        }
      },
      "source": [
        "# Create a Tensor with samples from a Normal distribution\n",
        "tn=tf.random.normal(shape=(2,2),mean=0,stddev=1.)\n",
        "print(tn)\n"
      ],
      "execution_count": 0,
      "outputs": [
        {
          "output_type": "stream",
          "text": [
            "tf.Tensor(\n",
            "[[ 0.4056993   0.64442194]\n",
            " [ 0.47438523 -0.17968541]], shape=(2, 2), dtype=float32)\n"
          ],
          "name": "stdout"
        }
      ]
    },
    {
      "cell_type": "code",
      "metadata": {
        "scrolled": false,
        "id": "TQuZhEUjKUUi",
        "colab_type": "code",
        "outputId": "d873fc45-5bb1-461f-f25d-2a877bf6845d",
        "colab": {
          "base_uri": "https://localhost:8080/",
          "height": 70
        }
      },
      "source": [
        "# Create a Tensor with samples from a Uniform distribution\n",
        "tu=tf.random.uniform(shape=(2,1),minval=0,maxval=10,dtype='int32')\n",
        "print(tu)\n"
      ],
      "execution_count": 0,
      "outputs": [
        {
          "output_type": "stream",
          "text": [
            "tf.Tensor(\n",
            "[[2]\n",
            " [3]], shape=(2, 1), dtype=int32)\n"
          ],
          "name": "stdout"
        }
      ]
    },
    {
      "cell_type": "code",
      "metadata": {
        "scrolled": false,
        "id": "XJfvSj97KUUo",
        "colab_type": "code",
        "outputId": "63c02020-5f86-4864-faff-2941883133a3",
        "colab": {
          "base_uri": "https://localhost:8080/",
          "height": 158
        }
      },
      "source": [
        "# Create a Tensor with samples from a Poisson distribution\n",
        "\n",
        "tf.random.poisson([2, 3], [10, 30])"
      ],
      "execution_count": 0,
      "outputs": [
        {
          "output_type": "execute_result",
          "data": {
            "text/plain": [
              "<tf.Tensor: shape=(2, 3, 2), dtype=float32, numpy=\n",
              "array([[[13., 27.],\n",
              "        [10., 20.],\n",
              "        [ 9., 27.]],\n",
              "\n",
              "       [[ 8., 32.],\n",
              "        [ 7., 32.],\n",
              "        [ 9., 26.]]], dtype=float32)>"
            ]
          },
          "metadata": {
            "tags": []
          },
          "execution_count": 84
        }
      ]
    },
    {
      "cell_type": "code",
      "metadata": {
        "scrolled": false,
        "id": "CdHl0f_AKUUq",
        "colab_type": "code",
        "outputId": "2cb43324-5bd2-46f7-ecea-e39a181cf20b",
        "colab": {
          "base_uri": "https://localhost:8080/",
          "height": 176
        }
      },
      "source": [
        "# More maths operations\n",
        "\n",
        "d = tf.square(tn)\n",
        "e = tf.exp(d)\n",
        "f = tf.cos(c)\n",
        "print(d)\n",
        "print(e)\n",
        "print(f)"
      ],
      "execution_count": 0,
      "outputs": [
        {
          "output_type": "stream",
          "text": [
            "tf.Tensor(\n",
            "[[0.16459194 0.41527963]\n",
            " [0.22504134 0.03228685]], shape=(2, 2), dtype=float32)\n",
            "tf.Tensor(\n",
            "[[1.178912  1.5147942]\n",
            " [1.2523745 1.0328138]], shape=(2, 2), dtype=float32)\n",
            "tf.Tensor(\n",
            "[[ 0.5403023 -0.4161468]\n",
            " [-0.9899925 -0.6536436]], shape=(2, 2), dtype=float32)\n"
          ],
          "name": "stdout"
        }
      ]
    },
    {
      "cell_type": "markdown",
      "metadata": {
        "id": "P_y5iM-XKUUs",
        "colab_type": "text"
      },
      "source": [
        "***\n",
        "<a id=\"coding_tutorial_3\"></a>\n",
        "## Accessing model layers"
      ]
    },
    {
      "cell_type": "code",
      "metadata": {
        "scrolled": false,
        "id": "x-XwASmfKUUt",
        "colab_type": "code",
        "colab": {}
      },
      "source": [
        "import numpy as np\n",
        "import tensorflow as tf\n",
        "import matplotlib.pyplot as plt\n",
        "%matplotlib inline"
      ],
      "execution_count": 0,
      "outputs": []
    },
    {
      "cell_type": "markdown",
      "metadata": {
        "id": "gZ615uKaKUUv",
        "colab_type": "text"
      },
      "source": [
        "#### Load the pre-trained model"
      ]
    },
    {
      "cell_type": "markdown",
      "metadata": {
        "id": "ZEnVLPANKUUv",
        "colab_type": "text"
      },
      "source": [
        "In this section, we aim to demonstrate accessing layer attributes within a model.\n",
        "\n",
        "Let's get started by loading the `VGG19` pre-trained model from the `keras.applications` library, which is a very deep network trained on more than a million images from the ImageNet database. The network is trained to classify images into 1000 object categories."
      ]
    },
    {
      "cell_type": "code",
      "metadata": {
        "id": "JPUN2dY2x5kP",
        "colab_type": "code",
        "outputId": "7f16f31c-df0a-4e6a-a1d3-1d095c956fce",
        "colab": {
          "base_uri": "https://localhost:8080/",
          "height": 34
        }
      },
      "source": [
        "!pwd"
      ],
      "execution_count": 0,
      "outputs": [
        {
          "output_type": "stream",
          "text": [
            "/content\n"
          ],
          "name": "stdout"
        }
      ]
    },
    {
      "cell_type": "code",
      "metadata": {
        "scrolled": false,
        "id": "_4qCBLtSKUUw",
        "colab_type": "code",
        "colab": {}
      },
      "source": [
        "# Load the VGG19 model\n",
        "from tensorflow.keras.models import load_model\n",
        "vgg_model=load_model('model.h5')\n",
        "\n"
      ],
      "execution_count": 0,
      "outputs": []
    },
    {
      "cell_type": "code",
      "metadata": {
        "id": "zFI6-6oJKUUy",
        "colab_type": "code",
        "outputId": "acbf6930-f998-4efc-eab6-619793100dd9",
        "colab": {
          "base_uri": "https://localhost:8080/",
          "height": 710
        }
      },
      "source": [
        "# Get the inputs, layers and display the summary\n",
        "\n",
        "vgg_input = vgg_model.input\n",
        "vgg_out= vgg_model.output\n",
        "vgg_layers = vgg_model.layers\n",
        "vgg_model.summary()"
      ],
      "execution_count": 0,
      "outputs": [
        {
          "output_type": "stream",
          "text": [
            "Model: \"model_3\"\n",
            "__________________________________________________________________________________________________\n",
            "Layer (type)                    Output Shape         Param #     Connected to                     \n",
            "==================================================================================================\n",
            "lstm_1_input (InputLayer)       [(None, None, 96)]   0                                            \n",
            "__________________________________________________________________________________________________\n",
            "lstm_1 (LSTM)                   (None, None, 512)    1247232     lstm_1_input[0][0]               \n",
            "__________________________________________________________________________________________________\n",
            "reshape_1_input (InputLayer)    [(None, 4096)]       0                                            \n",
            "__________________________________________________________________________________________________\n",
            "lstm_2 (LSTM)                   (None, None, 512)    2099200     lstm_1[0][0]                     \n",
            "__________________________________________________________________________________________________\n",
            "reshape_1 (Reshape)             (None, 4096)         0           reshape_1_input[0][0]            \n",
            "__________________________________________________________________________________________________\n",
            "lstm_3 (LSTM)                   (None, 512)          2099200     lstm_2[0][0]                     \n",
            "__________________________________________________________________________________________________\n",
            "concatenate_1 (Concatenate)     (None, 4608)         0           reshape_1[0][0]                  \n",
            "                                                                 lstm_3[0][0]                     \n",
            "__________________________________________________________________________________________________\n",
            "dense_1 (Dense)                 (None, 1024)         4719616     concatenate_1[0][0]              \n",
            "__________________________________________________________________________________________________\n",
            "dropout_1 (Dropout)             (None, 1024)         0           dense_1[0][0]                    \n",
            "__________________________________________________________________________________________________\n",
            "dense_2 (Dense)                 (None, 1024)         1049600     dropout_1[0][0]                  \n",
            "__________________________________________________________________________________________________\n",
            "dropout_2 (Dropout)             (None, 1024)         0           dense_2[0][0]                    \n",
            "__________________________________________________________________________________________________\n",
            "dense_3 (Dense)                 (None, 1024)         1049600     dropout_2[0][0]                  \n",
            "__________________________________________________________________________________________________\n",
            "dropout_3 (Dropout)             (None, 1024)         0           dense_3[0][0]                    \n",
            "__________________________________________________________________________________________________\n",
            "dense_4 (Dense)                 (None, 1000)         1025000     dropout_3[0][0]                  \n",
            "__________________________________________________________________________________________________\n",
            "activation_1 (Activation)       (None, 1000)         0           dense_4[0][0]                    \n",
            "==================================================================================================\n",
            "Total params: 13,289,448\n",
            "Trainable params: 13,289,448\n",
            "Non-trainable params: 0\n",
            "__________________________________________________________________________________________________\n"
          ],
          "name": "stdout"
        }
      ]
    },
    {
      "cell_type": "markdown",
      "metadata": {
        "id": "yclV6KiFKUU3",
        "colab_type": "text"
      },
      "source": [
        "#### Build a model to access the layer outputs"
      ]
    },
    {
      "cell_type": "code",
      "metadata": {
        "id": "Cov4lXwdKUU4",
        "colab_type": "code",
        "colab": {}
      },
      "source": [
        "from tensorflow.keras.models import Model"
      ],
      "execution_count": 0,
      "outputs": []
    },
    {
      "cell_type": "code",
      "metadata": {
        "scrolled": false,
        "id": "aQsJZr1YKUU6",
        "colab_type": "code",
        "colab": {}
      },
      "source": [
        "# Build a model that returns the layer outputs\n",
        "\n",
        "#layer_outputs= [layer.output for layer in vgg_layers]\n",
        "features = Model(inputs=vgg_input,outputs=vgg_out)"
      ],
      "execution_count": 0,
      "outputs": []
    },
    {
      "cell_type": "code",
      "metadata": {
        "scrolled": true,
        "id": "78R_lcAwKUU7",
        "colab_type": "code",
        "outputId": "041be8a3-f7dd-48a0-eb59-22f662776342",
        "colab": {
          "base_uri": "https://localhost:8080/",
          "height": 1000
        }
      },
      "source": [
        "# Plot the model\n",
        "\n",
        "tf.keras.utils.plot_model(features,'vggmodel19.png',show_shapes=True)"
      ],
      "execution_count": 0,
      "outputs": [
        {
          "output_type": "execute_result",
          "data": {
            "image/png": "[encoded data removed]",
            "text/plain": [
              "<IPython.core.display.Image object>"
            ]
          },
          "metadata": {
            "tags": []
          },
          "execution_count": 11
        }
      ]
    },
    {
      "cell_type": "code",
      "metadata": {
        "scrolled": false,
        "id": "j35hgDZZKUU9",
        "colab_type": "code",
        "outputId": "98d8f914-ef59-44c7-f18b-7bdda0601acb",
        "colab": {
          "base_uri": "https://localhost:8080/",
          "height": 478
        }
      },
      "source": [
        "# Test the model on a random input\n",
        "\n",
        "img= np.random.random((1,224,224,3)).astype('float32')\n",
        "extracted_feature= features(img) "
      ],
      "execution_count": 0,
      "outputs": [
        {
          "output_type": "stream",
          "text": [
            "WARNING:tensorflow:Model was constructed with shape (None, 4096) for input Tensor(\"reshape_1_input:0\", shape=(None, 4096), dtype=float32), but it was called on an input with incompatible shape (1, 224, 224, 3).\n"
          ],
          "name": "stdout"
        },
        {
          "output_type": "error",
          "ename": "InvalidArgumentError",
          "evalue": "ignored",
          "traceback": [
            "\u001b[0;31m---------------------------------------------------------------------------\u001b[0m",
            "\u001b[0;31m_FallbackException\u001b[0m                        Traceback (most recent call last)",
            "\u001b[0;32m/usr/local/lib/python3.6/dist-packages/tensorflow/python/ops/gen_array_ops.py\u001b[0m in \u001b[0;36mreshape\u001b[0;34m(tensor, shape, name)\u001b[0m\n\u001b[1;32m   8074\u001b[0m         \u001b[0m_ctx\u001b[0m\u001b[0;34m.\u001b[0m\u001b[0m_context_handle\u001b[0m\u001b[0;34m,\u001b[0m \u001b[0mtld\u001b[0m\u001b[0;34m.\u001b[0m\u001b[0mdevice_name\u001b[0m\u001b[0;34m,\u001b[0m \u001b[0;34m\"Reshape\"\u001b[0m\u001b[0;34m,\u001b[0m \u001b[0mname\u001b[0m\u001b[0;34m,\u001b[0m\u001b[0;34m\u001b[0m\u001b[0;34m\u001b[0m\u001b[0m\n\u001b[0;32m-> 8075\u001b[0;31m         tld.op_callbacks, tensor, shape)\n\u001b[0m\u001b[1;32m   8076\u001b[0m       \u001b[0;32mreturn\u001b[0m \u001b[0m_result\u001b[0m\u001b[0;34m\u001b[0m\u001b[0;34m\u001b[0m\u001b[0m\n",
            "\u001b[0;31m_FallbackException\u001b[0m: This function does not handle the case of the path where all inputs are not already EagerTensors.",
            "\nDuring handling of the above exception, another exception occurred:\n",
            "\u001b[0;31mInvalidArgumentError\u001b[0m                      Traceback (most recent call last)",
            "\u001b[0;32m<ipython-input-12-4bde6dcb6397>\u001b[0m in \u001b[0;36m<module>\u001b[0;34m()\u001b[0m\n\u001b[1;32m      1\u001b[0m \u001b[0;34m\u001b[0m\u001b[0m\n\u001b[1;32m      2\u001b[0m \u001b[0mimg\u001b[0m\u001b[0;34m=\u001b[0m \u001b[0mnp\u001b[0m\u001b[0;34m.\u001b[0m\u001b[0mrandom\u001b[0m\u001b[0;34m.\u001b[0m\u001b[0mrandom\u001b[0m\u001b[0;34m(\u001b[0m\u001b[0;34m(\u001b[0m\u001b[0;36m1\u001b[0m\u001b[0;34m,\u001b[0m\u001b[0;36m224\u001b[0m\u001b[0;34m,\u001b[0m\u001b[0;36m224\u001b[0m\u001b[0;34m,\u001b[0m\u001b[0;36m3\u001b[0m\u001b[0;34m)\u001b[0m\u001b[0;34m)\u001b[0m\u001b[0;34m.\u001b[0m\u001b[0mastype\u001b[0m\u001b[0;34m(\u001b[0m\u001b[0;34m'float32'\u001b[0m\u001b[0;34m)\u001b[0m\u001b[0;34m\u001b[0m\u001b[0;34m\u001b[0m\u001b[0m\n\u001b[0;32m----> 3\u001b[0;31m \u001b[0mextracted_feature\u001b[0m\u001b[0;34m=\u001b[0m \u001b[0mfeatures\u001b[0m\u001b[0;34m(\u001b[0m\u001b[0mimg\u001b[0m\u001b[0;34m)\u001b[0m\u001b[0;34m\u001b[0m\u001b[0;34m\u001b[0m\u001b[0m\n\u001b[0m",
            "\u001b[0;32m/usr/local/lib/python3.6/dist-packages/tensorflow/python/keras/engine/base_layer.py\u001b[0m in \u001b[0;36m__call__\u001b[0;34m(self, *args, **kwargs)\u001b[0m\n\u001b[1;32m    966\u001b[0m           with base_layer_utils.autocast_context_manager(\n\u001b[1;32m    967\u001b[0m               self._compute_dtype):\n\u001b[0;32m--> 968\u001b[0;31m             \u001b[0moutputs\u001b[0m \u001b[0;34m=\u001b[0m \u001b[0mself\u001b[0m\u001b[0;34m.\u001b[0m\u001b[0mcall\u001b[0m\u001b[0;34m(\u001b[0m\u001b[0mcast_inputs\u001b[0m\u001b[0;34m,\u001b[0m \u001b[0;34m*\u001b[0m\u001b[0margs\u001b[0m\u001b[0;34m,\u001b[0m \u001b[0;34m**\u001b[0m\u001b[0mkwargs\u001b[0m\u001b[0;34m)\u001b[0m\u001b[0;34m\u001b[0m\u001b[0;34m\u001b[0m\u001b[0m\n\u001b[0m\u001b[1;32m    969\u001b[0m           \u001b[0mself\u001b[0m\u001b[0;34m.\u001b[0m\u001b[0m_handle_activity_regularization\u001b[0m\u001b[0;34m(\u001b[0m\u001b[0minputs\u001b[0m\u001b[0;34m,\u001b[0m \u001b[0moutputs\u001b[0m\u001b[0;34m)\u001b[0m\u001b[0;34m\u001b[0m\u001b[0;34m\u001b[0m\u001b[0m\n\u001b[1;32m    970\u001b[0m           \u001b[0mself\u001b[0m\u001b[0;34m.\u001b[0m\u001b[0m_set_mask_metadata\u001b[0m\u001b[0;34m(\u001b[0m\u001b[0minputs\u001b[0m\u001b[0;34m,\u001b[0m \u001b[0moutputs\u001b[0m\u001b[0;34m,\u001b[0m \u001b[0minput_masks\u001b[0m\u001b[0;34m)\u001b[0m\u001b[0;34m\u001b[0m\u001b[0;34m\u001b[0m\u001b[0m\n",
            "\u001b[0;32m/usr/local/lib/python3.6/dist-packages/tensorflow/python/keras/engine/network.py\u001b[0m in \u001b[0;36mcall\u001b[0;34m(self, inputs, training, mask)\u001b[0m\n\u001b[1;32m    717\u001b[0m     return self._run_internal_graph(\n\u001b[1;32m    718\u001b[0m         \u001b[0minputs\u001b[0m\u001b[0;34m,\u001b[0m \u001b[0mtraining\u001b[0m\u001b[0;34m=\u001b[0m\u001b[0mtraining\u001b[0m\u001b[0;34m,\u001b[0m \u001b[0mmask\u001b[0m\u001b[0;34m=\u001b[0m\u001b[0mmask\u001b[0m\u001b[0;34m,\u001b[0m\u001b[0;34m\u001b[0m\u001b[0;34m\u001b[0m\u001b[0m\n\u001b[0;32m--> 719\u001b[0;31m         convert_kwargs_to_constants=base_layer_utils.call_context().saving)\n\u001b[0m\u001b[1;32m    720\u001b[0m \u001b[0;34m\u001b[0m\u001b[0m\n\u001b[1;32m    721\u001b[0m   \u001b[0;32mdef\u001b[0m \u001b[0mcompute_output_shape\u001b[0m\u001b[0;34m(\u001b[0m\u001b[0mself\u001b[0m\u001b[0;34m,\u001b[0m \u001b[0minput_shape\u001b[0m\u001b[0;34m)\u001b[0m\u001b[0;34m:\u001b[0m\u001b[0;34m\u001b[0m\u001b[0;34m\u001b[0m\u001b[0m\n",
            "\u001b[0;32m/usr/local/lib/python3.6/dist-packages/tensorflow/python/keras/engine/network.py\u001b[0m in \u001b[0;36m_run_internal_graph\u001b[0;34m(self, inputs, training, mask, convert_kwargs_to_constants)\u001b[0m\n\u001b[1;32m    886\u001b[0m \u001b[0;34m\u001b[0m\u001b[0m\n\u001b[1;32m    887\u001b[0m           \u001b[0;31m# Compute outputs.\u001b[0m\u001b[0;34m\u001b[0m\u001b[0;34m\u001b[0m\u001b[0;34m\u001b[0m\u001b[0m\n\u001b[0;32m--> 888\u001b[0;31m           \u001b[0moutput_tensors\u001b[0m \u001b[0;34m=\u001b[0m \u001b[0mlayer\u001b[0m\u001b[0;34m(\u001b[0m\u001b[0mcomputed_tensors\u001b[0m\u001b[0;34m,\u001b[0m \u001b[0;34m**\u001b[0m\u001b[0mkwargs\u001b[0m\u001b[0;34m)\u001b[0m\u001b[0;34m\u001b[0m\u001b[0;34m\u001b[0m\u001b[0m\n\u001b[0m\u001b[1;32m    889\u001b[0m \u001b[0;34m\u001b[0m\u001b[0m\n\u001b[1;32m    890\u001b[0m           \u001b[0;31m# Update tensor_dict.\u001b[0m\u001b[0;34m\u001b[0m\u001b[0;34m\u001b[0m\u001b[0;34m\u001b[0m\u001b[0m\n",
            "\u001b[0;32m/usr/local/lib/python3.6/dist-packages/tensorflow/python/keras/engine/base_layer.py\u001b[0m in \u001b[0;36m__call__\u001b[0;34m(self, *args, **kwargs)\u001b[0m\n\u001b[1;32m    966\u001b[0m           with base_layer_utils.autocast_context_manager(\n\u001b[1;32m    967\u001b[0m               self._compute_dtype):\n\u001b[0;32m--> 968\u001b[0;31m             \u001b[0moutputs\u001b[0m \u001b[0;34m=\u001b[0m \u001b[0mself\u001b[0m\u001b[0;34m.\u001b[0m\u001b[0mcall\u001b[0m\u001b[0;34m(\u001b[0m\u001b[0mcast_inputs\u001b[0m\u001b[0;34m,\u001b[0m \u001b[0;34m*\u001b[0m\u001b[0margs\u001b[0m\u001b[0;34m,\u001b[0m \u001b[0;34m**\u001b[0m\u001b[0mkwargs\u001b[0m\u001b[0;34m)\u001b[0m\u001b[0;34m\u001b[0m\u001b[0;34m\u001b[0m\u001b[0m\n\u001b[0m\u001b[1;32m    969\u001b[0m           \u001b[0mself\u001b[0m\u001b[0;34m.\u001b[0m\u001b[0m_handle_activity_regularization\u001b[0m\u001b[0;34m(\u001b[0m\u001b[0minputs\u001b[0m\u001b[0;34m,\u001b[0m \u001b[0moutputs\u001b[0m\u001b[0;34m)\u001b[0m\u001b[0;34m\u001b[0m\u001b[0;34m\u001b[0m\u001b[0m\n\u001b[1;32m    970\u001b[0m           \u001b[0mself\u001b[0m\u001b[0;34m.\u001b[0m\u001b[0m_set_mask_metadata\u001b[0m\u001b[0;34m(\u001b[0m\u001b[0minputs\u001b[0m\u001b[0;34m,\u001b[0m \u001b[0moutputs\u001b[0m\u001b[0;34m,\u001b[0m \u001b[0minput_masks\u001b[0m\u001b[0;34m)\u001b[0m\u001b[0;34m\u001b[0m\u001b[0;34m\u001b[0m\u001b[0m\n",
            "\u001b[0;32m/usr/local/lib/python3.6/dist-packages/tensorflow/python/keras/layers/core.py\u001b[0m in \u001b[0;36mcall\u001b[0;34m(self, inputs)\u001b[0m\n\u001b[1;32m    529\u001b[0m   \u001b[0;32mdef\u001b[0m \u001b[0mcall\u001b[0m\u001b[0;34m(\u001b[0m\u001b[0mself\u001b[0m\u001b[0;34m,\u001b[0m \u001b[0minputs\u001b[0m\u001b[0;34m)\u001b[0m\u001b[0;34m:\u001b[0m\u001b[0;34m\u001b[0m\u001b[0;34m\u001b[0m\u001b[0m\n\u001b[1;32m    530\u001b[0m     return array_ops.reshape(inputs,\n\u001b[0;32m--> 531\u001b[0;31m                              (array_ops.shape(inputs)[0],) + self.target_shape)\n\u001b[0m\u001b[1;32m    532\u001b[0m \u001b[0;34m\u001b[0m\u001b[0m\n\u001b[1;32m    533\u001b[0m   \u001b[0;32mdef\u001b[0m \u001b[0mget_config\u001b[0m\u001b[0;34m(\u001b[0m\u001b[0mself\u001b[0m\u001b[0;34m)\u001b[0m\u001b[0;34m:\u001b[0m\u001b[0;34m\u001b[0m\u001b[0;34m\u001b[0m\u001b[0m\n",
            "\u001b[0;32m/usr/local/lib/python3.6/dist-packages/tensorflow/python/ops/array_ops.py\u001b[0m in \u001b[0;36mreshape\u001b[0;34m(tensor, shape, name)\u001b[0m\n\u001b[1;32m    191\u001b[0m     \u001b[0mA\u001b[0m\u001b[0;31m \u001b[0m\u001b[0;31m`\u001b[0m\u001b[0mTensor\u001b[0m\u001b[0;31m`\u001b[0m\u001b[0;34m.\u001b[0m \u001b[0mHas\u001b[0m \u001b[0mthe\u001b[0m \u001b[0msame\u001b[0m \u001b[0mtype\u001b[0m \u001b[0;32mas\u001b[0m\u001b[0;31m \u001b[0m\u001b[0;31m`\u001b[0m\u001b[0mtensor\u001b[0m\u001b[0;31m`\u001b[0m\u001b[0;34m.\u001b[0m\u001b[0;34m\u001b[0m\u001b[0;34m\u001b[0m\u001b[0m\n\u001b[1;32m    192\u001b[0m   \"\"\"\n\u001b[0;32m--> 193\u001b[0;31m   \u001b[0mresult\u001b[0m \u001b[0;34m=\u001b[0m \u001b[0mgen_array_ops\u001b[0m\u001b[0;34m.\u001b[0m\u001b[0mreshape\u001b[0m\u001b[0;34m(\u001b[0m\u001b[0mtensor\u001b[0m\u001b[0;34m,\u001b[0m \u001b[0mshape\u001b[0m\u001b[0;34m,\u001b[0m \u001b[0mname\u001b[0m\u001b[0;34m)\u001b[0m\u001b[0;34m\u001b[0m\u001b[0;34m\u001b[0m\u001b[0m\n\u001b[0m\u001b[1;32m    194\u001b[0m   \u001b[0mtensor_util\u001b[0m\u001b[0;34m.\u001b[0m\u001b[0mmaybe_set_static_shape\u001b[0m\u001b[0;34m(\u001b[0m\u001b[0mresult\u001b[0m\u001b[0;34m,\u001b[0m \u001b[0mshape\u001b[0m\u001b[0;34m)\u001b[0m\u001b[0;34m\u001b[0m\u001b[0;34m\u001b[0m\u001b[0m\n\u001b[1;32m    195\u001b[0m   \u001b[0;32mreturn\u001b[0m \u001b[0mresult\u001b[0m\u001b[0;34m\u001b[0m\u001b[0;34m\u001b[0m\u001b[0m\n",
            "\u001b[0;32m/usr/local/lib/python3.6/dist-packages/tensorflow/python/ops/gen_array_ops.py\u001b[0m in \u001b[0;36mreshape\u001b[0;34m(tensor, shape, name)\u001b[0m\n\u001b[1;32m   8078\u001b[0m       \u001b[0;32mtry\u001b[0m\u001b[0;34m:\u001b[0m\u001b[0;34m\u001b[0m\u001b[0;34m\u001b[0m\u001b[0m\n\u001b[1;32m   8079\u001b[0m         return reshape_eager_fallback(\n\u001b[0;32m-> 8080\u001b[0;31m             tensor, shape, name=name, ctx=_ctx)\n\u001b[0m\u001b[1;32m   8081\u001b[0m       \u001b[0;32mexcept\u001b[0m \u001b[0m_core\u001b[0m\u001b[0;34m.\u001b[0m\u001b[0m_SymbolicException\u001b[0m\u001b[0;34m:\u001b[0m\u001b[0;34m\u001b[0m\u001b[0;34m\u001b[0m\u001b[0m\n\u001b[1;32m   8082\u001b[0m         \u001b[0;32mpass\u001b[0m  \u001b[0;31m# Add nodes to the TensorFlow graph.\u001b[0m\u001b[0;34m\u001b[0m\u001b[0;34m\u001b[0m\u001b[0m\n",
            "\u001b[0;32m/usr/local/lib/python3.6/dist-packages/tensorflow/python/ops/gen_array_ops.py\u001b[0m in \u001b[0;36mreshape_eager_fallback\u001b[0;34m(tensor, shape, name, ctx)\u001b[0m\n\u001b[1;32m   8105\u001b[0m   \u001b[0m_attrs\u001b[0m \u001b[0;34m=\u001b[0m \u001b[0;34m(\u001b[0m\u001b[0;34m\"T\"\u001b[0m\u001b[0;34m,\u001b[0m \u001b[0m_attr_T\u001b[0m\u001b[0;34m,\u001b[0m \u001b[0;34m\"Tshape\"\u001b[0m\u001b[0;34m,\u001b[0m \u001b[0m_attr_Tshape\u001b[0m\u001b[0;34m)\u001b[0m\u001b[0;34m\u001b[0m\u001b[0;34m\u001b[0m\u001b[0m\n\u001b[1;32m   8106\u001b[0m   _result = _execute.execute(b\"Reshape\", 1, inputs=_inputs_flat, attrs=_attrs,\n\u001b[0;32m-> 8107\u001b[0;31m                              ctx=ctx, name=name)\n\u001b[0m\u001b[1;32m   8108\u001b[0m   \u001b[0;32mif\u001b[0m \u001b[0m_execute\u001b[0m\u001b[0;34m.\u001b[0m\u001b[0mmust_record_gradient\u001b[0m\u001b[0;34m(\u001b[0m\u001b[0;34m)\u001b[0m\u001b[0;34m:\u001b[0m\u001b[0;34m\u001b[0m\u001b[0;34m\u001b[0m\u001b[0m\n\u001b[1;32m   8109\u001b[0m     _execute.record_gradient(\n",
            "\u001b[0;32m/usr/local/lib/python3.6/dist-packages/tensorflow/python/eager/execute.py\u001b[0m in \u001b[0;36mquick_execute\u001b[0;34m(op_name, num_outputs, inputs, attrs, ctx, name)\u001b[0m\n\u001b[1;32m     58\u001b[0m     \u001b[0mctx\u001b[0m\u001b[0;34m.\u001b[0m\u001b[0mensure_initialized\u001b[0m\u001b[0;34m(\u001b[0m\u001b[0;34m)\u001b[0m\u001b[0;34m\u001b[0m\u001b[0;34m\u001b[0m\u001b[0m\n\u001b[1;32m     59\u001b[0m     tensors = pywrap_tfe.TFE_Py_Execute(ctx._handle, device_name, op_name,\n\u001b[0;32m---> 60\u001b[0;31m                                         inputs, attrs, num_outputs)\n\u001b[0m\u001b[1;32m     61\u001b[0m   \u001b[0;32mexcept\u001b[0m \u001b[0mcore\u001b[0m\u001b[0;34m.\u001b[0m\u001b[0m_NotOkStatusException\u001b[0m \u001b[0;32mas\u001b[0m \u001b[0me\u001b[0m\u001b[0;34m:\u001b[0m\u001b[0;34m\u001b[0m\u001b[0;34m\u001b[0m\u001b[0m\n\u001b[1;32m     62\u001b[0m     \u001b[0;32mif\u001b[0m \u001b[0mname\u001b[0m \u001b[0;32mis\u001b[0m \u001b[0;32mnot\u001b[0m \u001b[0;32mNone\u001b[0m\u001b[0;34m:\u001b[0m\u001b[0;34m\u001b[0m\u001b[0;34m\u001b[0m\u001b[0m\n",
            "\u001b[0;31mInvalidArgumentError\u001b[0m: Input to reshape is a tensor with 150528 values, but the requested shape has 4096 [Op:Reshape]"
          ]
        }
      ]
    },
    {
      "cell_type": "code",
      "metadata": {
        "id": "S_Qp0e1VMbR4",
        "colab_type": "code",
        "colab": {}
      },
      "source": [
        ""
      ],
      "execution_count": 0,
      "outputs": []
    },
    {
      "cell_type": "code",
      "metadata": {
        "id": "BhwGjtVbMbOo",
        "colab_type": "code",
        "colab": {}
      },
      "source": [
        ""
      ],
      "execution_count": 0,
      "outputs": []
    },
    {
      "cell_type": "code",
      "metadata": {
        "id": "wvmGK7cvMbDZ",
        "colab_type": "code",
        "colab": {}
      },
      "source": [
        ""
      ],
      "execution_count": 0,
      "outputs": []
    },
    {
      "cell_type": "markdown",
      "metadata": {
        "id": "Ogh9UxE8KUU_",
        "colab_type": "text"
      },
      "source": [
        "#### Load the 'cool cat' picture"
      ]
    },
    {
      "cell_type": "markdown",
      "metadata": {
        "id": "BUxx2lk0KUU_",
        "colab_type": "text"
      },
      "source": [
        "In Zambia’s South Luangwa National Park, a photographer had been watching a pride of lions while they slept off a feast from a buffalo kill. When this female walked away, he anticipated that she might be going for a drink and so he positioned his vehicle on the opposite side of the waterhole. The `cool cat` picture is one of the highly commended 2018 Image from Wildlife Photographer of the Year."
      ]
    },
    {
      "cell_type": "markdown",
      "metadata": {
        "id": "rWLD97iOK5ut",
        "colab_type": "text"
      },
      "source": [
        "#### Import the picture\n",
        "\n",
        "The dataset required for this tutorial can be downloaded from the following link:\n",
        "\n",
        "https://drive.google.com/open?id=1myXpP8QFvhATqg0bPYhCpVS48_OgAC0L\n",
        "\n",
        "You should store this file in Drive for use in this Colab notebook."
      ]
    },
    {
      "cell_type": "code",
      "metadata": {
        "scrolled": false,
        "id": "ylT-Kt65KUVA",
        "colab_type": "code",
        "colab": {}
      },
      "source": [
        "# Display the original image\n",
        "\n",
        "import IPython.display as display\n",
        "from PIL import Image\n",
        "\n",
        "display.display(Image.open('path/to/cool_cat.jpg'))"
      ],
      "execution_count": 0,
      "outputs": []
    },
    {
      "cell_type": "markdown",
      "metadata": {
        "id": "cMYjnJDIKUVC",
        "colab_type": "text"
      },
      "source": [
        "#### Visualise network features from the input image"
      ]
    },
    {
      "cell_type": "code",
      "metadata": {
        "scrolled": false,
        "id": "96Z1V9XsKUVD",
        "colab_type": "code",
        "colab": {}
      },
      "source": [
        "# Preprocess the image\n",
        "\n",
        "from tensorflow.keras.applications.vgg19 import preprocess_input\n",
        "from tensorflow.keras.preprocessing import image\n",
        "\n",
        "img_path = 'path/to/cool_cat.jpg'\n",
        "img = image.load_img(img_path, target_size=(224, 224))\n",
        "x = image.img_to_array(img)\n",
        "x = np.expand_dims(x, axis=0)\n",
        "x = preprocess_input(x)"
      ],
      "execution_count": 0,
      "outputs": []
    },
    {
      "cell_type": "code",
      "metadata": {
        "scrolled": false,
        "id": "Bg74WXDCKUVF",
        "colab_type": "code",
        "colab": {}
      },
      "source": [
        "# Extract the features\n",
        "\n"
      ],
      "execution_count": 0,
      "outputs": []
    },
    {
      "cell_type": "code",
      "metadata": {
        "scrolled": false,
        "id": "eR_e_HmmKUVH",
        "colab_type": "code",
        "colab": {}
      },
      "source": [
        "# Visualise the input channels\n",
        "\n"
      ],
      "execution_count": 0,
      "outputs": []
    },
    {
      "cell_type": "code",
      "metadata": {
        "scrolled": false,
        "id": "Ke-6Vpj3KUVI",
        "colab_type": "code",
        "colab": {}
      },
      "source": [
        "# Visualise some features in the first hidden layer\n",
        "\n"
      ],
      "execution_count": 0,
      "outputs": []
    },
    {
      "cell_type": "code",
      "metadata": {
        "scrolled": false,
        "id": "eTV70KvoKUVK",
        "colab_type": "code",
        "colab": {}
      },
      "source": [
        "# Build a model to extract features by layer name\n",
        "\n"
      ],
      "execution_count": 0,
      "outputs": []
    },
    {
      "cell_type": "code",
      "metadata": {
        "scrolled": false,
        "id": "WQvb0OuUKUVM",
        "colab_type": "code",
        "colab": {}
      },
      "source": [
        "# Visualise some features from the extracted layer output\n",
        "\n"
      ],
      "execution_count": 0,
      "outputs": []
    },
    {
      "cell_type": "code",
      "metadata": {
        "scrolled": false,
        "id": "We6poZ7dKUVP",
        "colab_type": "code",
        "colab": {}
      },
      "source": [
        "# Extract features from a layer deeper in the network\n",
        "\n"
      ],
      "execution_count": 0,
      "outputs": []
    },
    {
      "cell_type": "code",
      "metadata": {
        "scrolled": false,
        "id": "8hOJSdVQKUVR",
        "colab_type": "code",
        "colab": {}
      },
      "source": [
        "# Visualise some features from the extracted layer output\n",
        "\n"
      ],
      "execution_count": 0,
      "outputs": []
    },
    {
      "cell_type": "markdown",
      "metadata": {
        "id": "0FV766ybKUVS",
        "colab_type": "text"
      },
      "source": [
        "***\n",
        "<a id=\"coding_tutorial_4\"></a>\n",
        "## Freezing layers"
      ]
    },
    {
      "cell_type": "code",
      "metadata": {
        "scrolled": false,
        "id": "qvMmt0s5KUVS",
        "colab_type": "code",
        "colab": {}
      },
      "source": [
        "import numpy as np\n",
        "import matplotlib.pyplot as plt\n",
        "%matplotlib inline"
      ],
      "execution_count": 0,
      "outputs": []
    },
    {
      "cell_type": "markdown",
      "metadata": {
        "id": "muJ3y73wKUVU",
        "colab_type": "text"
      },
      "source": [
        "#### Build the model"
      ]
    },
    {
      "cell_type": "code",
      "metadata": {
        "scrolled": false,
        "id": "a7XUKYHpKUVU",
        "colab_type": "code",
        "colab": {}
      },
      "source": [
        "# Build a small Sequential model\n",
        "\n",
        "from tensorflow.keras.models import Sequential\n",
        "from tensorflow.keras import layers\n",
        "\n",
        "model = Sequential([\n",
        "    layers.Dense(4, input_shape=(4,), activation='relu', kernel_initializer='random_uniform',\n",
        "                 bias_initializer='ones'),\n",
        "    layers.Dense(2, activation='relu', kernel_initializer='lecun_normal', bias_initializer='ones'),\n",
        "    layers.Dense(4, activation='softmax'),\n",
        "])"
      ],
      "execution_count": 0,
      "outputs": []
    },
    {
      "cell_type": "code",
      "metadata": {
        "scrolled": false,
        "id": "cl9gvwc_KUVV",
        "colab_type": "code",
        "outputId": "c039868a-f4a3-4af6-e451-3d0296b786e2",
        "colab": {
          "base_uri": "https://localhost:8080/",
          "height": 265
        }
      },
      "source": [
        "# Display the model summary\n",
        "\n",
        "model.summary()"
      ],
      "execution_count": 0,
      "outputs": [
        {
          "output_type": "stream",
          "text": [
            "Model: \"sequential_6\"\n",
            "_________________________________________________________________\n",
            "Layer (type)                 Output Shape              Param #   \n",
            "=================================================================\n",
            "dense_18 (Dense)             (None, 4)                 20        \n",
            "_________________________________________________________________\n",
            "dense_19 (Dense)             (None, 2)                 10        \n",
            "_________________________________________________________________\n",
            "dense_20 (Dense)             (None, 4)                 12        \n",
            "=================================================================\n",
            "Total params: 42\n",
            "Trainable params: 42\n",
            "Non-trainable params: 0\n",
            "_________________________________________________________________\n"
          ],
          "name": "stdout"
        }
      ]
    },
    {
      "cell_type": "code",
      "metadata": {
        "id": "IpeV2L22HXvA",
        "colab_type": "code",
        "colab": {}
      },
      "source": [
        ""
      ],
      "execution_count": 0,
      "outputs": []
    },
    {
      "cell_type": "markdown",
      "metadata": {
        "id": "oLZVUklBKUVX",
        "colab_type": "text"
      },
      "source": [
        "#### Examine the weight matrix variation over training"
      ]
    },
    {
      "cell_type": "code",
      "metadata": {
        "id": "6YczmwnJH1kR",
        "colab_type": "code",
        "colab": {}
      },
      "source": [
        "def get_weight(model):\n",
        "  return  [i.weights[0].numpy() for i in model.layers]\n",
        "def get_baises(model):\n",
        "  return [i.bias.numpy() for i in model.layers]\n",
        "\n",
        "def plot_delta_weigths(W0_layers,b0_layers,W1_layers,b1_layers):\n",
        "  plt.figure(figsize=(8,8))\n",
        "  for n in range(3):\n",
        "    delta_l = W1_layers[n] - W0_layers[n]\n",
        "    print('Layer '+str(n)+': bias variation: ', np.linalg.norm(b1_layers[n] - b0_layers[n]))\n",
        "    ax = plt.subplot(1,3,n+1)\n",
        "    plt.imshow(delta_l)\n",
        "    plt.title('Layer '+str(n))\n",
        "    plt.axis('off')\n",
        "  plt.colorbar()\n",
        "  plt.suptitle('Weight matrices variation');\n"
      ],
      "execution_count": 0,
      "outputs": []
    },
    {
      "cell_type": "code",
      "metadata": {
        "scrolled": false,
        "colab_type": "code",
        "outputId": "da33d2da-a62b-407a-fe47-fe53856ed867",
        "id": "naX1RA6sHjLv",
        "colab": {
          "base_uri": "https://localhost:8080/",
          "height": 212
        }
      },
      "source": [
        "# Retrieve the weights and biases\n",
        "W0_layers=   get_weight(model)\n",
        "b0_layers= get_baises(model)\n",
        "\n",
        "print(W0_layers)\n",
        "print(b0_layers)"
      ],
      "execution_count": 0,
      "outputs": [
        {
          "output_type": "stream",
          "text": [
            "[array([[ 0.02896306, -0.02755425,  0.00142208, -0.02633201],\n",
            "       [-0.00382893,  0.00912052, -0.03680326,  0.04653095],\n",
            "       [ 0.00481755, -0.03832331, -0.01607125, -0.02975588],\n",
            "       [ 0.0420729 ,  0.0400652 , -0.02054224, -0.03272428]],\n",
            "      dtype=float32), array([[-0.19298436,  1.0937778 ],\n",
            "       [ 0.9572848 , -0.40117297],\n",
            "       [ 0.06392724, -1.0479681 ],\n",
            "       [-0.03899091,  0.34889653]], dtype=float32), array([[ 0.54455805,  0.3702829 , -0.4318769 , -0.5413821 ],\n",
            "       [ 0.62085485, -0.8809583 , -0.52871203,  0.65036297]],\n",
            "      dtype=float32)]\n",
            "[array([1., 1., 1., 1.], dtype=float32), array([1., 1.], dtype=float32), array([0., 0., 0., 0.], dtype=float32)]\n"
          ],
          "name": "stdout"
        }
      ]
    },
    {
      "cell_type": "code",
      "metadata": {
        "scrolled": false,
        "id": "vpxvNkMnKUVa",
        "colab_type": "code",
        "colab": {}
      },
      "source": [
        "# Construct a synthetic dataset\n",
        "\n",
        "x_train = np.random.random((100, 4))\n",
        "y_train = x_train\n",
        "\n",
        "x_test = np.random.random((20, 4))\n",
        "y_test = x_test"
      ],
      "execution_count": 0,
      "outputs": []
    },
    {
      "cell_type": "code",
      "metadata": {
        "scrolled": false,
        "id": "ZTNGzE9-KUVc",
        "colab_type": "code",
        "colab": {}
      },
      "source": [
        "# Compile and fit the model\n",
        "\n",
        "model.compile(optimizer='adam',\n",
        "              loss='mse',\n",
        "              metrics=['acc'])\n",
        "\n",
        "model.fit(x_train, y_train, epochs=50, verbose=False);"
      ],
      "execution_count": 0,
      "outputs": []
    },
    {
      "cell_type": "code",
      "metadata": {
        "scrolled": false,
        "id": "jjY6rOOkKUVd",
        "colab_type": "code",
        "outputId": "bbb5fc20-cd04-4dbf-88f5-ccc57b450138",
        "colab": {
          "base_uri": "https://localhost:8080/",
          "height": 194
        }
      },
      "source": [
        "# Retrieve weights and biases\n",
        "W1_layers=   get_weight(model)\n",
        "b1_layers= get_baises(model)\n",
        "W1_layers"
      ],
      "execution_count": 0,
      "outputs": [
        {
          "output_type": "execute_result",
          "data": {
            "text/plain": [
              "[array([[ 0.01973882, -0.17455298,  0.03219581, -0.02941319],\n",
              "        [-0.13095772, -0.02027263,  0.10058106, -0.06648618],\n",
              "        [-0.07281155, -0.20265429,  0.09722418, -0.08101358],\n",
              "        [ 0.02977545, -0.13833955,  0.03802278, -0.02533007]],\n",
              "       dtype=float32), array([[-0.32858735,  1.0032998 ],\n",
              "        [ 0.83088684, -0.4954411 ],\n",
              "        [-0.09184155, -1.1530228 ],\n",
              "        [-0.17482199,  0.25385237]], dtype=float32), array([[ 0.43451974,  0.4272537 , -0.26944032, -0.42871717],\n",
              "        [ 0.5410345 , -0.83706754, -0.40384224,  0.7354176 ]],\n",
              "       dtype=float32)]"
            ]
          },
          "metadata": {
            "tags": []
          },
          "execution_count": 88
        }
      ]
    },
    {
      "cell_type": "code",
      "metadata": {
        "id": "WDu8jVwiJoNJ",
        "colab_type": "code",
        "outputId": "361421a9-412a-4a2d-f1d9-4430ce4afc45",
        "colab": {
          "base_uri": "https://localhost:8080/",
          "height": 556
        }
      },
      "source": [
        "plot_delta_weigths(W0_layers,b0_layers,W1_layers,b1_layers)\n"
      ],
      "execution_count": 0,
      "outputs": [
        {
          "output_type": "stream",
          "text": [
            "Layer 0: bias variation:  0.21008812\n",
            "Layer 1: bias variation:  0.1756978\n",
            "Layer 2: bias variation:  0.26971903\n"
          ],
          "name": "stdout"
        },
        {
          "output_type": "display_data",
          "data": {
            "image/png": "[encoded data removed]",
            "text/plain": [
              "<Figure size 576x576 with 4 Axes>"
            ]
          },
          "metadata": {
            "tags": [],
            "needs_background": "light"
          }
        }
      ]
    },
    {
      "cell_type": "markdown",
      "metadata": {
        "id": "hrhsfqdwKUVg",
        "colab_type": "text"
      },
      "source": [
        "#### Freeze layers at build time\n",
        "# If trainable parameter in model = true (default), make that weights of each layer trained\n",
        "# If trainable parameter in model = False in model definition makes the weights of each layer non trainable, will be freezed , even if the model get compiled.\n",
        "\n",
        "# this will help during transfer learning of model, user can choose which layer need to be trained during training process."
      ]
    },
    {
      "cell_type": "code",
      "metadata": {
        "scrolled": false,
        "id": "xlxrMUF5KUVg",
        "colab_type": "code",
        "colab": {}
      },
      "source": [
        "# Count the trainable and non trainable variables before the freezing\n",
        "\n",
        "n_trainable_var= len(model.trainable_variables)\n",
        "n_non_trainable_var= len(model.non_trainable_variables)"
      ],
      "execution_count": 0,
      "outputs": []
    },
    {
      "cell_type": "code",
      "metadata": {
        "id": "dNpfvfSXKUVi",
        "colab_type": "code",
        "outputId": "73a879ac-f8d3-4b42-f625-8c7ccd079a5d",
        "colab": {
          "base_uri": "https://localhost:8080/",
          "height": 87
        }
      },
      "source": [
        "# Display the number of trainable and non trainable variables before the freezing\n",
        "\n",
        "print(\"\\n Before freezing:\\n\\t Number of trainable variables: \", n_trainable_var,\n",
        "                         \"\\n\\t Number of non trainable variables: \", n_non_trainable_var)"
      ],
      "execution_count": 0,
      "outputs": [
        {
          "output_type": "stream",
          "text": [
            "\n",
            " Before freezing:\n",
            "\t Number of trainable variables:  6 \n",
            "\t Number of non trainable variables:  0\n"
          ],
          "name": "stdout"
        }
      ]
    },
    {
      "cell_type": "code",
      "metadata": {
        "scrolled": false,
        "id": "AGpSC4ZAKUVn",
        "colab_type": "code",
        "colab": {}
      },
      "source": [
        "# Build the model\n",
        "\n",
        "\n",
        "model = Sequential([\n",
        "    layers.Dense(4, input_shape=(4,), activation='relu', kernel_initializer='random_uniform',\n",
        "                 bias_initializer='ones',trainable=False),\n",
        "    layers.Dense(2, activation='relu', kernel_initializer='lecun_normal', bias_initializer='ones',trainable=False),\n",
        "    layers.Dense(4, activation='softmax'),\n",
        "])"
      ],
      "execution_count": 0,
      "outputs": []
    },
    {
      "cell_type": "code",
      "metadata": {
        "scrolled": false,
        "id": "lWmPkL-pKUVo",
        "colab_type": "code",
        "colab": {}
      },
      "source": [
        "# Count the trainable and non trainable variables after the freezing\n",
        "n_trainable_var= len(model.trainable_variables)\n",
        "n_non_trainable_var= len(model.non_trainable_variables)\n"
      ],
      "execution_count": 0,
      "outputs": []
    },
    {
      "cell_type": "code",
      "metadata": {
        "id": "_Bzhnsr7KUVp",
        "colab_type": "code",
        "outputId": "fa5b7f04-d6d9-4a77-cf2e-7f997c4ffdf0",
        "colab": {
          "base_uri": "https://localhost:8080/",
          "height": 87
        }
      },
      "source": [
        "# Display the number of trainable and non trainable variables after the freezing\n",
        "\n",
        "print(\"\\n After freezing:\\n\\t Number of trainable variables: \", n_trainable_var,\n",
        "                         \"\\n\\t Number of non trainable variables: \", n_non_trainable_var)\n",
        "\n",
        "# since i have defined in first 2 layers trainable =False, those layers wieght, biases will not get update during training"
      ],
      "execution_count": 0,
      "outputs": [
        {
          "output_type": "stream",
          "text": [
            "\n",
            " After freezing:\n",
            "\t Number of trainable variables:  2 \n",
            "\t Number of non trainable variables:  4\n"
          ],
          "name": "stdout"
        }
      ]
    },
    {
      "cell_type": "code",
      "metadata": {
        "scrolled": false,
        "id": "Kl6-nIeYKUVr",
        "colab_type": "code",
        "outputId": "b0f27386-14ab-465f-feb4-623c571767ec",
        "colab": {
          "base_uri": "https://localhost:8080/",
          "height": 194
        }
      },
      "source": [
        "# Retrieve weights and biases\n",
        "W0_layers=   get_weight(model)\n",
        "b0_layers= get_baises(model)\n",
        "W0_layers\n"
      ],
      "execution_count": 0,
      "outputs": [
        {
          "output_type": "execute_result",
          "data": {
            "text/plain": [
              "[array([[ 0.01981017,  0.00606935, -0.01168485,  0.03379587],\n",
              "        [ 0.04215306, -0.03186344,  0.00886996, -0.02933003],\n",
              "        [-0.03579874,  0.00051613, -0.0255821 ,  0.02864932],\n",
              "        [-0.02672867, -0.02550622, -0.04941775,  0.03688914]],\n",
              "       dtype=float32), array([[-0.16768168,  0.08087689],\n",
              "        [ 0.14791672, -0.3926887 ],\n",
              "        [ 0.8552104 , -0.23607022],\n",
              "        [-0.44483775, -0.2188714 ]], dtype=float32), array([[ 0.3848288 , -0.06348252,  0.04111791, -0.10273886],\n",
              "        [-0.9245703 , -0.2661109 , -0.03821325, -0.13239479]],\n",
              "       dtype=float32)]"
            ]
          },
          "metadata": {
            "tags": []
          },
          "execution_count": 106
        }
      ]
    },
    {
      "cell_type": "code",
      "metadata": {
        "scrolled": false,
        "id": "aoOhSvdCKUVs",
        "colab_type": "code",
        "colab": {}
      },
      "source": [
        "# Compile and fit the model\n",
        "\n",
        "model.compile(optimizer='adam',\n",
        "              loss='mse',\n",
        "              metrics=['acc'])\n",
        "\n",
        "model.fit(x_train, y_train, epochs=50, verbose=False);"
      ],
      "execution_count": 0,
      "outputs": []
    },
    {
      "cell_type": "code",
      "metadata": {
        "scrolled": false,
        "id": "VW2Ij7rGKUVt",
        "colab_type": "code",
        "outputId": "7c287bfa-dc0e-4b60-8185-99aa8f021d18",
        "colab": {
          "base_uri": "https://localhost:8080/",
          "height": 194
        }
      },
      "source": [
        "# Retrieve weights and biases\n",
        "\n",
        "W1_layers=   get_weight(model)\n",
        "b1_layers= get_baises(model)\n",
        "W1_layers"
      ],
      "execution_count": 0,
      "outputs": [
        {
          "output_type": "execute_result",
          "data": {
            "text/plain": [
              "[array([[ 0.01981017,  0.00606935, -0.01168485,  0.03379587],\n",
              "        [ 0.04215306, -0.03186344,  0.00886996, -0.02933003],\n",
              "        [-0.03579874,  0.00051613, -0.0255821 ,  0.02864932],\n",
              "        [-0.02672867, -0.02550622, -0.04941775,  0.03688914]],\n",
              "       dtype=float32), array([[-0.16768168,  0.08087689],\n",
              "        [ 0.14791672, -0.3926887 ],\n",
              "        [ 0.8552104 , -0.23607022],\n",
              "        [-0.44483775, -0.2188714 ]], dtype=float32), array([[ 0.2792307 , -0.01683161,  0.06286263, -0.02354203],\n",
              "        [-1.0330974 , -0.21358022, -0.02537948, -0.045102  ]],\n",
              "       dtype=float32)]"
            ]
          },
          "metadata": {
            "tags": []
          },
          "execution_count": 108
        }
      ]
    },
    {
      "cell_type": "code",
      "metadata": {
        "scrolled": false,
        "id": "SJv_yc34KUVv",
        "colab_type": "code",
        "outputId": "5972ac37-bc6d-4f6b-f388-f55d9eedd711",
        "colab": {
          "base_uri": "https://localhost:8080/",
          "height": 556
        }
      },
      "source": [
        "# Plot the variation\n",
        "\n",
        "plot_delta_weigths(W0_layers,b0_layers,W1_layers,b1_layers)"
      ],
      "execution_count": 0,
      "outputs": [
        {
          "output_type": "stream",
          "text": [
            "Layer 0: bias variation:  0.0\n",
            "Layer 1: bias variation:  0.0\n",
            "Layer 2: bias variation:  0.14251539\n"
          ],
          "name": "stdout"
        },
        {
          "output_type": "display_data",
          "data": {
            "image/png": "[encoded data removed]",
            "text/plain": [
              "<Figure size 576x576 with 4 Axes>"
            ]
          },
          "metadata": {
            "tags": [],
            "needs_background": "light"
          }
        }
      ]
    },
    {
      "cell_type": "markdown",
      "metadata": {
        "id": "FkbrhuxUKUVw",
        "colab_type": "text"
      },
      "source": [
        "#### Freeze layers of a pre-built model"
      ]
    },
    {
      "cell_type": "code",
      "metadata": {
        "scrolled": false,
        "id": "1EuSNnI1KUVx",
        "colab_type": "code",
        "outputId": "b1d20bcf-eba1-4220-ddb7-2e5b2c3d6437",
        "colab": {
          "base_uri": "https://localhost:8080/",
          "height": 87
        }
      },
      "source": [
        "# Count the trainable and non trainable variables before the freezing\n",
        "\n",
        "print(\"\\n Before freezing:\\n\\t Number of trainable variables: \", len(model.trainable_variables),\n",
        "                         \"\\n\\t Number of non trainable variables: \", len(model.non_trainable_variables))"
      ],
      "execution_count": 0,
      "outputs": [
        {
          "output_type": "stream",
          "text": [
            "\n",
            " Before freezing:\n",
            "\t Number of trainable variables:  4 \n",
            "\t Number of non trainable variables:  2\n"
          ],
          "name": "stdout"
        }
      ]
    },
    {
      "cell_type": "code",
      "metadata": {
        "scrolled": false,
        "id": "xKISfPTaKUVz",
        "colab_type": "code",
        "colab": {}
      },
      "source": [
        "# Freeze the First layer\n",
        "model = Sequential([\n",
        "    layers.Dense(4, input_shape=(4,), activation='relu', kernel_initializer='random_uniform',\n",
        "                 bias_initializer='ones',trainable=False),\n",
        "    layers.Dense(2, activation='relu', kernel_initializer='lecun_normal', bias_initializer='ones'),\n",
        "    layers.Dense(4, activation='softmax'),\n",
        "])\n"
      ],
      "execution_count": 0,
      "outputs": []
    },
    {
      "cell_type": "code",
      "metadata": {
        "scrolled": false,
        "id": "lS1xI65tKUV0",
        "colab_type": "code",
        "outputId": "c1ed9460-694b-4beb-ecd4-3475edb6c458",
        "colab": {
          "base_uri": "https://localhost:8080/",
          "height": 87
        }
      },
      "source": [
        "# Count the trainable and non trainable variables after the freezing\n",
        "\n",
        "print(\"\\n After freezing:\\n\\t Number of trainable variables: \", len(model.trainable_variables),\n",
        "                        \"\\n\\t Number of non trainable variables: \", len(model.non_trainable_variables))"
      ],
      "execution_count": 0,
      "outputs": [
        {
          "output_type": "stream",
          "text": [
            "\n",
            " After freezing:\n",
            "\t Number of trainable variables:  4 \n",
            "\t Number of non trainable variables:  2\n"
          ],
          "name": "stdout"
        }
      ]
    },
    {
      "cell_type": "code",
      "metadata": {
        "id": "vw3Z8DavPHA1",
        "colab_type": "code",
        "colab": {}
      },
      "source": [
        "W0_layers=   get_weight(model)\n",
        "b0_layers= get_baises(model)"
      ],
      "execution_count": 0,
      "outputs": []
    },
    {
      "cell_type": "code",
      "metadata": {
        "scrolled": false,
        "id": "e0yk7ZZoKUV3",
        "colab_type": "code",
        "colab": {}
      },
      "source": [
        "# Compile and fit the model\n",
        "\n",
        "model.compile(optimizer='adam',\n",
        "              loss='mse',\n",
        "              metrics=['acc'])\n",
        "\n",
        "model.fit(x_train, y_train, epochs=50, verbose=False);"
      ],
      "execution_count": 0,
      "outputs": []
    },
    {
      "cell_type": "code",
      "metadata": {
        "scrolled": false,
        "id": "2nlvj0k-KUV4",
        "colab_type": "code",
        "colab": {}
      },
      "source": [
        "# Retrieve weights and biases\n",
        "\n",
        "\n",
        "\n",
        "W1_layers=   get_weight(model)\n",
        "b1_layers= get_baises(model)\n",
        "\n",
        "\n"
      ],
      "execution_count": 0,
      "outputs": []
    },
    {
      "cell_type": "code",
      "metadata": {
        "scrolled": false,
        "id": "O7LO4ZWvKUV5",
        "colab_type": "code",
        "outputId": "73d5a460-0928-49f7-92c3-52414061ec3d",
        "colab": {
          "base_uri": "https://localhost:8080/",
          "height": 556
        }
      },
      "source": [
        "# Plot the variation\n",
        "\n",
        "plot_delta_weigths(W0_layers,b0_layers,W1_layers,b1_layers)"
      ],
      "execution_count": 0,
      "outputs": [
        {
          "output_type": "stream",
          "text": [
            "Layer 0: bias variation:  0.0\n",
            "Layer 1: bias variation:  0.12313576\n",
            "Layer 2: bias variation:  0.2254837\n"
          ],
          "name": "stdout"
        },
        {
          "output_type": "display_data",
          "data": {
            "image/png": "[encoded data removed]",
            "text/plain": [
              "<Figure size 576x576 with 4 Axes>"
            ]
          },
          "metadata": {
            "tags": [],
            "needs_background": "light"
          }
        }
      ]
    },
    {
      "cell_type": "code",
      "metadata": {
        "id": "876Bnrs4PSje",
        "colab_type": "code",
        "colab": {}
      },
      "source": [
        "# Since first dense layer in seq model , trainable= false, those weights are not trained before & after model compile.\n",
        "so in plot that layer is filled with same color. whereas layer 2,3  weights got updated as per model so there is chnage in color in layers"
      ],
      "execution_count": 0,
      "outputs": []
    }
  ]
}