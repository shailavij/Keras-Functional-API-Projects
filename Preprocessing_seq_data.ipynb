{
  "nbformat": 4,
  "nbformat_minor": 0,
  "metadata": {
    "colab": {
      "name": "Preprocessing_seq_data.ipynb",
      "provenance": [],
      "authorship_tag": "ABX9TyM5sKSeMcGxKoRzfZ+3Y5Ms",
      "include_colab_link": true
    },
    "kernelspec": {
      "name": "python3",
      "display_name": "Python 3"
    },
    "accelerator": "GPU"
  },
  "cells": [
    {
      "cell_type": "markdown",
      "metadata": {
        "id": "view-in-github",
        "colab_type": "text"
      },
      "source": [
        "<a href=\"https://colab.research.google.com/github/shailavij/Keras-Functional-API-Projects/blob/master/Preprocessing_seq_data.ipynb\" target=\"_parent\"><img src=\"https://colab.research.google.com/assets/colab-badge.svg\" alt=\"Open In Colab\"/></a>"
      ]
    },
    {
      "cell_type": "code",
      "metadata": {
        "id": "cFE98RSoR8oe",
        "colab_type": "code",
        "colab": {}
      },
      "source": [
        "import numpy as np\n",
        "import tensorflow as tf\n",
        "from tensorflow.keras import layers"
      ],
      "execution_count": 0,
      "outputs": []
    },
    {
      "cell_type": "code",
      "metadata": {
        "id": "OmEodiHzSCwl",
        "colab_type": "code",
        "outputId": "4f2deb03-cedb-421c-8714-65bf631ad0f8",
        "colab": {
          "base_uri": "https://localhost:8080/",
          "height": 70
        }
      },
      "source": [
        "[\n",
        "  [\"The\", \"weather\", \"will\", \"be\", \"nice\", \"tomorrow\"],\n",
        "  [\"How\", \"are\", \"you\", \"doing\", \"today\"],\n",
        "  [\"Hello\", \"world\", \"!\"]\n",
        "]"
      ],
      "execution_count": 0,
      "outputs": [
        {
          "output_type": "execute_result",
          "data": {
            "text/plain": [
              "[['The', 'weather', 'will', 'be', 'nice', 'tomorrow'],\n",
              " ['How', 'are', 'you', 'doing', 'today'],\n",
              " ['Hello', 'world', '!']]"
            ]
          },
          "metadata": {
            "tags": []
          },
          "execution_count": 2
        }
      ]
    },
    {
      "cell_type": "code",
      "metadata": {
        "id": "wx5UL-6JSLQg",
        "colab_type": "code",
        "colab": {}
      },
      "source": [
        "raw_inputs = [\n",
        "  [66, 13, 1, 245, 1253, 927],\n",
        "  [73, 80, 3215, 552, 927],\n",
        "  [311, 932, 71]\n",
        "]"
      ],
      "execution_count": 0,
      "outputs": []
    },
    {
      "cell_type": "code",
      "metadata": {
        "id": "a4Z0o2EySjsG",
        "colab_type": "code",
        "outputId": "f1fac47e-3c65-4a55-d2ee-b586af1b594b",
        "colab": {
          "base_uri": "https://localhost:8080/",
          "height": 34
        }
      },
      "source": [
        "raw_inputs"
      ],
      "execution_count": 0,
      "outputs": [
        {
          "output_type": "execute_result",
          "data": {
            "text/plain": [
              "[[66, 13, 1, 245, 1253, 927], [73, 80, 3215, 552, 927], [311, 932, 71]]"
            ]
          },
          "metadata": {
            "tags": []
          },
          "execution_count": 20
        }
      ]
    },
    {
      "cell_type": "code",
      "metadata": {
        "id": "OM-J2yE1Slgm",
        "colab_type": "code",
        "outputId": "743c005a-7a73-4dfa-c2a8-306edc419ff4",
        "colab": {
          "base_uri": "https://localhost:8080/",
          "height": 70
        }
      },
      "source": [
        "padded_inputs = tf.keras.preprocessing.sequence.pad_sequences(raw_inputs,\n",
        "                                                              maxlen=6,padding='post',truncating='pre')\n",
        "\n",
        "print(padded_inputs)"
      ],
      "execution_count": 0,
      "outputs": [
        {
          "output_type": "stream",
          "text": [
            "[[  66   13    1  245 1253  927]\n",
            " [  73   80 3215  552  927    0]\n",
            " [ 311  932   71    0    0    0]]\n"
          ],
          "name": "stdout"
        }
      ]
    },
    {
      "cell_type": "code",
      "metadata": {
        "id": "9Eng4fJLSp0I",
        "colab_type": "code",
        "colab": {}
      },
      "source": [
        "# Masking\n",
        "#All samples have a uniform length, the model must be informed that some part of the data is actually padding and should be ignored. That mechanism is masking."
      ],
      "execution_count": 0,
      "outputs": []
    },
    {
      "cell_type": "code",
      "metadata": {
        "id": "wY1hE8k0S36t",
        "colab_type": "code",
        "outputId": "0230fc2c-244d-4da9-bbb8-d3bb68b85162",
        "colab": {
          "base_uri": "https://localhost:8080/",
          "height": 87
        }
      },
      "source": [
        "# Embedding_method\n",
        "embedding = layers.Embedding(input_dim=5000, output_dim=16, mask_zero=True)\n",
        "masked_output = embedding(padded_inputs)\n",
        "\n",
        "print(masked_output._keras_mask)\n"
      ],
      "execution_count": 0,
      "outputs": [
        {
          "output_type": "stream",
          "text": [
            "tf.Tensor(\n",
            "[[ True  True  True  True  True  True]\n",
            " [ True  True  True  True  True False]\n",
            " [ True  True  True False False False]], shape=(3, 6), dtype=bool)\n"
          ],
          "name": "stdout"
        }
      ]
    },
    {
      "cell_type": "code",
      "metadata": {
        "id": "QHb-DFXXVYg8",
        "colab_type": "code",
        "colab": {}
      },
      "source": [
        ""
      ],
      "execution_count": 0,
      "outputs": []
    },
    {
      "cell_type": "code",
      "metadata": {
        "id": "r1axNOQeVYeJ",
        "colab_type": "code",
        "outputId": "02fd375f-f56e-46ec-80a0-5799ca816c8f",
        "colab": {
          "base_uri": "https://localhost:8080/",
          "height": 34
        }
      },
      "source": [
        "# Masking expects to see (batch, sequence, features)\n",
        "# Create a dummy feature dimension using expand_dims\n",
        "\n",
        "padded_x_train= np.expand_dims(padded_inputs,-1)\n",
        "padded_x_train.shape\n",
        "\n"
      ],
      "execution_count": 0,
      "outputs": [
        {
          "output_type": "execute_result",
          "data": {
            "text/plain": [
              "(3, 6, 1)"
            ]
          },
          "metadata": {
            "tags": []
          },
          "execution_count": 29
        }
      ]
    },
    {
      "cell_type": "code",
      "metadata": {
        "id": "j51v-eY1S35a",
        "colab_type": "code",
        "outputId": "cdfe615e-9d8a-4457-afae-89705acf1040",
        "colab": {
          "base_uri": "https://localhost:8080/",
          "height": 34
        }
      },
      "source": [
        "# Create a Masking layer\n",
        "# Convert numpy into tensor \n",
        "tf_x_train= tf.convert_to_tensor(padded_x_train,dtype='float32')\n",
        "\n",
        "masking_layer =tf.keras.layers.Masking(mask_value=0.0)\n",
        "masking_layer"
      ],
      "execution_count": 0,
      "outputs": [
        {
          "output_type": "execute_result",
          "data": {
            "text/plain": [
              "<tensorflow.python.keras.layers.core.Masking at 0x7f9b18eaf8d0>"
            ]
          },
          "metadata": {
            "tags": []
          },
          "execution_count": 33
        }
      ]
    },
    {
      "cell_type": "code",
      "metadata": {
        "id": "Krqd5IcuTufR",
        "colab_type": "code",
        "outputId": "233c3c21-d283-46cf-eb30-643c11d064bb",
        "colab": {
          "base_uri": "https://localhost:8080/",
          "height": 390
        }
      },
      "source": [
        "masked_x_train= masking_layer(tf_x_train)\n",
        "masked_x_train\n"
      ],
      "execution_count": 0,
      "outputs": [
        {
          "output_type": "execute_result",
          "data": {
            "text/plain": [
              "<tf.Tensor: shape=(3, 6, 1), dtype=float32, numpy=\n",
              "array([[[6.600e+01],\n",
              "        [1.300e+01],\n",
              "        [1.000e+00],\n",
              "        [2.450e+02],\n",
              "        [1.253e+03],\n",
              "        [9.270e+02]],\n",
              "\n",
              "       [[7.300e+01],\n",
              "        [8.000e+01],\n",
              "        [3.215e+03],\n",
              "        [5.520e+02],\n",
              "        [9.270e+02],\n",
              "        [0.000e+00]],\n",
              "\n",
              "       [[3.110e+02],\n",
              "        [9.320e+02],\n",
              "        [7.100e+01],\n",
              "        [0.000e+00],\n",
              "        [0.000e+00],\n",
              "        [0.000e+00]]], dtype=float32)>"
            ]
          },
          "metadata": {
            "tags": []
          },
          "execution_count": 34
        }
      ]
    },
    {
      "cell_type": "code",
      "metadata": {
        "id": "hCUe9tDsT44g",
        "colab_type": "code",
        "outputId": "dbe72eb4-75e6-4abb-fd8a-3930e20e47e4",
        "colab": {
          "base_uri": "https://localhost:8080/",
          "height": 87
        }
      },
      "source": [
        "print(masked_x_train. _keras_mask)"
      ],
      "execution_count": 0,
      "outputs": [
        {
          "output_type": "stream",
          "text": [
            "tf.Tensor(\n",
            "[[ True  True  True  True  True  True]\n",
            " [ True  True  True  True  True False]\n",
            " [ True  True  True False False False]], shape=(3, 6), dtype=bool)\n"
          ],
          "name": "stdout"
        }
      ]
    },
    {
      "cell_type": "code",
      "metadata": {
        "id": "6_HeqUirUC3u",
        "colab_type": "code",
        "colab": {}
      },
      "source": [
        ""
      ],
      "execution_count": 0,
      "outputs": []
    }
  ]
}